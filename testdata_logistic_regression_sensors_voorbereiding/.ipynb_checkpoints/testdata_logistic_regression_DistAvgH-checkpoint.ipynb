{
 "cells": [
  {
   "cell_type": "markdown",
   "metadata": {},
   "source": [
    "# Opdracht classificatie 1 - logistic regression\n",
    "\n",
    "Logistische regressie is een bijzonder populaire classificatietechniek. Enerzijds door zijn eenvoud en relatief lage eisen die het stelt in termen van rekenkracht. In veel gevallen is de performantie qua accuracy vergelijkbaar (en soms beter) dan gecompliceerdere algoritmes zoals de support vector machines.\n",
    "Daarnaast heeft logistische regressie het voordeel dat het getrainde model een voorspelling doet in termen van de kans dat de input tot een bepaalde klasse behoort. Uit deze kans kan je afleiden hoe overtuigd het model is van de gemaakte voorspelling.\n",
    "\n",
    "Het is de bedoeling om via enkele classificatieopdrachten inzicht te verkrijgen in:\n",
    "- Correct trainen en het uitvoeren van hyperparameter tuning bij logistische regressie.\n",
    "- Classificaties kunnen uitvoeren via logistische regressie.\n",
    "- Feature engineering uitvoeren.\n",
    "- Interpreteren van de verschillende performance metrics: accuracy, recall, precision, f1-score, ROC.\n",
    "- Kunnen omgaan met niet-gebalanceerde data en het kunnen regelen tussen het aantal false positives en false negatives. \n",
    "- Weten wanneer je te maken hebt met overfitting en underfitting en de juiste bijstellingen kunnen doen.\n"
   ]
  },
  {
   "cell_type": "code",
   "execution_count": 1,
   "metadata": {},
   "outputs": [],
   "source": [
    "%matplotlib inline\n",
    "import numpy as np\n",
    "import pandas as pd\n",
    "import matplotlib.pyplot as plt\n",
    "from sklearn import linear_model\n",
    "from sklearn.model_selection import train_test_split\n",
    "from sklearn.metrics import classification_report\n",
    "from sklearn import preprocessing\n",
    "from sklearn.preprocessing import PolynomialFeatures\n",
    "from sklearn.metrics import confusion_matrix, accuracy_score\n",
    "from sklearn.linear_model import LogisticRegression\n",
    "import seaborn as sns\n",
    "import missingno as msno\n",
    "from sklearn.preprocessing import StandardScaler\n",
    "from sklearn.preprocessing import RobustScaler\n",
    "from sklearn.preprocessing import MinMaxScaler\n",
    "from sklearn.linear_model import Ridge\n",
    "from sklearn.linear_model import Lasso\n",
    "from sklearn.metrics import r2_score"
   ]
  },
  {
   "cell_type": "markdown",
   "metadata": {},
   "source": [
    "## Opdracht 1: Sensors data\n"
   ]
  },
  {
   "cell_type": "markdown",
   "metadata": {},
   "source": [
    "Het bestand sensors_data_test is een tijdelijke bestand om onze sensorsdata te simuleren\n",
    "Train nu een logic regression model dat op basis van de features een zo goed mogelijke predictie kan doenvan de afstand waar er eenfles is genomen.\n",
    "\n",
    "### Kolom toevoegen\n",
    "\n",
    "\n",
    "### Inlezen van de dataset en vooranalyse"
   ]
  },
  {
   "cell_type": "code",
   "execution_count": 2,
   "metadata": {},
   "outputs": [
    {
     "data": {
      "text/html": [
       "<div>\n",
       "<style scoped>\n",
       "    .dataframe tbody tr th:only-of-type {\n",
       "        vertical-align: middle;\n",
       "    }\n",
       "\n",
       "    .dataframe tbody tr th {\n",
       "        vertical-align: top;\n",
       "    }\n",
       "\n",
       "    .dataframe thead th {\n",
       "        text-align: right;\n",
       "    }\n",
       "</style>\n",
       "<table border=\"1\" class=\"dataframe\">\n",
       "  <thead>\n",
       "    <tr style=\"text-align: right;\">\n",
       "      <th></th>\n",
       "      <th>PartitionKey</th>\n",
       "      <th>RowKey</th>\n",
       "      <th>Timestamp</th>\n",
       "      <th>RackRow</th>\n",
       "      <th>RackRow@type</th>\n",
       "      <th>Label</th>\n",
       "      <th>Label@type</th>\n",
       "      <th>WeightPre</th>\n",
       "      <th>WeightPre@type</th>\n",
       "      <th>WeightPost</th>\n",
       "      <th>...</th>\n",
       "      <th>DistAvgH</th>\n",
       "      <th>DistAvgH@type</th>\n",
       "      <th>DistMinL</th>\n",
       "      <th>DistMinL@type</th>\n",
       "      <th>DistMaxL</th>\n",
       "      <th>DistMaxL@type</th>\n",
       "      <th>DistAvgL</th>\n",
       "      <th>DistAvgL@type</th>\n",
       "      <th>DistTime</th>\n",
       "      <th>DistTime@type</th>\n",
       "    </tr>\n",
       "  </thead>\n",
       "  <tbody>\n",
       "    <tr>\n",
       "      <th>0</th>\n",
       "      <td>F0:08:D1:C8:A7:34</td>\n",
       "      <td>06e05b50-bcbf-4fad-a713-c19975ef4b42</td>\n",
       "      <td>2022-05-25T13:16:47.9637282Z</td>\n",
       "      <td>2</td>\n",
       "      <td>Int32</td>\n",
       "      <td>3</td>\n",
       "      <td>Int32</td>\n",
       "      <td>0</td>\n",
       "      <td>Int32</td>\n",
       "      <td>0</td>\n",
       "      <td>...</td>\n",
       "      <td>28</td>\n",
       "      <td>Int32</td>\n",
       "      <td>27</td>\n",
       "      <td>Int32</td>\n",
       "      <td>29</td>\n",
       "      <td>Int32</td>\n",
       "      <td>28</td>\n",
       "      <td>Int32</td>\n",
       "      <td>207</td>\n",
       "      <td>Int32</td>\n",
       "    </tr>\n",
       "    <tr>\n",
       "      <th>1</th>\n",
       "      <td>F0:08:D1:C8:A7:34</td>\n",
       "      <td>0cffb11c-0506-4d8d-8cad-7f2d00053380</td>\n",
       "      <td>2022-05-25T13:15:19.5884474Z</td>\n",
       "      <td>2</td>\n",
       "      <td>Int32</td>\n",
       "      <td>2</td>\n",
       "      <td>Int32</td>\n",
       "      <td>0</td>\n",
       "      <td>Int32</td>\n",
       "      <td>0</td>\n",
       "      <td>...</td>\n",
       "      <td>33</td>\n",
       "      <td>Int32</td>\n",
       "      <td>32</td>\n",
       "      <td>Int32</td>\n",
       "      <td>34</td>\n",
       "      <td>Int32</td>\n",
       "      <td>33</td>\n",
       "      <td>Int32</td>\n",
       "      <td>1136</td>\n",
       "      <td>Int32</td>\n",
       "    </tr>\n",
       "    <tr>\n",
       "      <th>2</th>\n",
       "      <td>F0:08:D1:C8:A7:34</td>\n",
       "      <td>11090373-a998-47a1-b8c3-807b4c036d53</td>\n",
       "      <td>2022-05-25T13:17:16.801118Z</td>\n",
       "      <td>2</td>\n",
       "      <td>Int32</td>\n",
       "      <td>6</td>\n",
       "      <td>Int32</td>\n",
       "      <td>0</td>\n",
       "      <td>Int32</td>\n",
       "      <td>0</td>\n",
       "      <td>...</td>\n",
       "      <td>9</td>\n",
       "      <td>Int32</td>\n",
       "      <td>9</td>\n",
       "      <td>Int32</td>\n",
       "      <td>15</td>\n",
       "      <td>Int32</td>\n",
       "      <td>11</td>\n",
       "      <td>Int32</td>\n",
       "      <td>513</td>\n",
       "      <td>Int32</td>\n",
       "    </tr>\n",
       "    <tr>\n",
       "      <th>3</th>\n",
       "      <td>F0:08:D1:C8:A7:34</td>\n",
       "      <td>13f3867e-2b06-43a9-8843-e3f5245cf925</td>\n",
       "      <td>2022-05-25T13:20:12.9485555Z</td>\n",
       "      <td>2</td>\n",
       "      <td>Int32</td>\n",
       "      <td>21</td>\n",
       "      <td>Int32</td>\n",
       "      <td>0</td>\n",
       "      <td>Int32</td>\n",
       "      <td>0</td>\n",
       "      <td>...</td>\n",
       "      <td>29</td>\n",
       "      <td>Int32</td>\n",
       "      <td>29</td>\n",
       "      <td>Int32</td>\n",
       "      <td>30</td>\n",
       "      <td>Int32</td>\n",
       "      <td>29</td>\n",
       "      <td>Int32</td>\n",
       "      <td>765</td>\n",
       "      <td>Int32</td>\n",
       "    </tr>\n",
       "    <tr>\n",
       "      <th>4</th>\n",
       "      <td>F0:08:D1:C8:A7:34</td>\n",
       "      <td>275027a4-b73f-484f-916b-ba69df4b65c4</td>\n",
       "      <td>2022-05-25T13:21:42.5068964Z</td>\n",
       "      <td>2</td>\n",
       "      <td>Int32</td>\n",
       "      <td>5</td>\n",
       "      <td>Int32</td>\n",
       "      <td>0</td>\n",
       "      <td>Int32</td>\n",
       "      <td>0</td>\n",
       "      <td>...</td>\n",
       "      <td>14</td>\n",
       "      <td>Int32</td>\n",
       "      <td>12</td>\n",
       "      <td>Int32</td>\n",
       "      <td>16</td>\n",
       "      <td>Int32</td>\n",
       "      <td>14</td>\n",
       "      <td>Int32</td>\n",
       "      <td>1135</td>\n",
       "      <td>Int32</td>\n",
       "    </tr>\n",
       "    <tr>\n",
       "      <th>5</th>\n",
       "      <td>F0:08:D1:C8:A7:34</td>\n",
       "      <td>397b206d-120f-41b2-875d-5aeb20a71121</td>\n",
       "      <td>2022-05-25T13:20:50.1554834Z</td>\n",
       "      <td>2</td>\n",
       "      <td>Int32</td>\n",
       "      <td>24</td>\n",
       "      <td>Int32</td>\n",
       "      <td>0</td>\n",
       "      <td>Int32</td>\n",
       "      <td>0</td>\n",
       "      <td>...</td>\n",
       "      <td>10</td>\n",
       "      <td>Int32</td>\n",
       "      <td>9</td>\n",
       "      <td>Int32</td>\n",
       "      <td>12</td>\n",
       "      <td>Int32</td>\n",
       "      <td>10</td>\n",
       "      <td>Int32</td>\n",
       "      <td>574</td>\n",
       "      <td>Int32</td>\n",
       "    </tr>\n",
       "    <tr>\n",
       "      <th>6</th>\n",
       "      <td>F0:08:D1:C8:A7:34</td>\n",
       "      <td>4a24c5c6-e4f8-4cff-860c-2f8d754e581b</td>\n",
       "      <td>2022-05-25T13:19:04.2714384Z</td>\n",
       "      <td>2</td>\n",
       "      <td>Int32</td>\n",
       "      <td>15</td>\n",
       "      <td>Int32</td>\n",
       "      <td>0</td>\n",
       "      <td>Int32</td>\n",
       "      <td>0</td>\n",
       "      <td>...</td>\n",
       "      <td>27</td>\n",
       "      <td>Int32</td>\n",
       "      <td>27</td>\n",
       "      <td>Int32</td>\n",
       "      <td>29</td>\n",
       "      <td>Int32</td>\n",
       "      <td>27</td>\n",
       "      <td>Int32</td>\n",
       "      <td>393</td>\n",
       "      <td>Int32</td>\n",
       "    </tr>\n",
       "    <tr>\n",
       "      <th>7</th>\n",
       "      <td>F0:08:D1:C8:A7:34</td>\n",
       "      <td>578c8377-49cf-481b-b234-77900570a574</td>\n",
       "      <td>2022-05-25T13:14:52.8453005Z</td>\n",
       "      <td>2</td>\n",
       "      <td>Int32</td>\n",
       "      <td>1</td>\n",
       "      <td>Int32</td>\n",
       "      <td>0</td>\n",
       "      <td>Int32</td>\n",
       "      <td>0</td>\n",
       "      <td>...</td>\n",
       "      <td>37</td>\n",
       "      <td>Int32</td>\n",
       "      <td>37</td>\n",
       "      <td>Int32</td>\n",
       "      <td>37</td>\n",
       "      <td>Int32</td>\n",
       "      <td>37</td>\n",
       "      <td>Int32</td>\n",
       "      <td>25</td>\n",
       "      <td>Int32</td>\n",
       "    </tr>\n",
       "    <tr>\n",
       "      <th>8</th>\n",
       "      <td>F0:08:D1:C8:A7:34</td>\n",
       "      <td>666f1a7f-25ef-4638-91cb-fd561b596359</td>\n",
       "      <td>2022-05-25T13:21:15.7140073Z</td>\n",
       "      <td>2</td>\n",
       "      <td>Int32</td>\n",
       "      <td>2</td>\n",
       "      <td>Int32</td>\n",
       "      <td>0</td>\n",
       "      <td>Int32</td>\n",
       "      <td>0</td>\n",
       "      <td>...</td>\n",
       "      <td>33</td>\n",
       "      <td>Int32</td>\n",
       "      <td>32</td>\n",
       "      <td>Int32</td>\n",
       "      <td>35</td>\n",
       "      <td>Int32</td>\n",
       "      <td>33</td>\n",
       "      <td>Int32</td>\n",
       "      <td>584</td>\n",
       "      <td>Int32</td>\n",
       "    </tr>\n",
       "    <tr>\n",
       "      <th>9</th>\n",
       "      <td>F0:08:D1:C8:A7:34</td>\n",
       "      <td>712dd309-c888-45d3-8997-234eb473d2d1</td>\n",
       "      <td>2022-05-25T13:19:43.1138419Z</td>\n",
       "      <td>2</td>\n",
       "      <td>Int32</td>\n",
       "      <td>19</td>\n",
       "      <td>Int32</td>\n",
       "      <td>0</td>\n",
       "      <td>Int32</td>\n",
       "      <td>0</td>\n",
       "      <td>...</td>\n",
       "      <td>40</td>\n",
       "      <td>Int32</td>\n",
       "      <td>39</td>\n",
       "      <td>Int32</td>\n",
       "      <td>41</td>\n",
       "      <td>Int32</td>\n",
       "      <td>40</td>\n",
       "      <td>Int32</td>\n",
       "      <td>766</td>\n",
       "      <td>Int32</td>\n",
       "    </tr>\n",
       "  </tbody>\n",
       "</table>\n",
       "<p>10 rows × 27 columns</p>\n",
       "</div>"
      ],
      "text/plain": [
       "        PartitionKey                                RowKey  \\\n",
       "0  F0:08:D1:C8:A7:34  06e05b50-bcbf-4fad-a713-c19975ef4b42   \n",
       "1  F0:08:D1:C8:A7:34  0cffb11c-0506-4d8d-8cad-7f2d00053380   \n",
       "2  F0:08:D1:C8:A7:34  11090373-a998-47a1-b8c3-807b4c036d53   \n",
       "3  F0:08:D1:C8:A7:34  13f3867e-2b06-43a9-8843-e3f5245cf925   \n",
       "4  F0:08:D1:C8:A7:34  275027a4-b73f-484f-916b-ba69df4b65c4   \n",
       "5  F0:08:D1:C8:A7:34  397b206d-120f-41b2-875d-5aeb20a71121   \n",
       "6  F0:08:D1:C8:A7:34  4a24c5c6-e4f8-4cff-860c-2f8d754e581b   \n",
       "7  F0:08:D1:C8:A7:34  578c8377-49cf-481b-b234-77900570a574   \n",
       "8  F0:08:D1:C8:A7:34  666f1a7f-25ef-4638-91cb-fd561b596359   \n",
       "9  F0:08:D1:C8:A7:34  712dd309-c888-45d3-8997-234eb473d2d1   \n",
       "\n",
       "                      Timestamp  RackRow RackRow@type  Label Label@type  \\\n",
       "0  2022-05-25T13:16:47.9637282Z        2        Int32      3      Int32   \n",
       "1  2022-05-25T13:15:19.5884474Z        2        Int32      2      Int32   \n",
       "2   2022-05-25T13:17:16.801118Z        2        Int32      6      Int32   \n",
       "3  2022-05-25T13:20:12.9485555Z        2        Int32     21      Int32   \n",
       "4  2022-05-25T13:21:42.5068964Z        2        Int32      5      Int32   \n",
       "5  2022-05-25T13:20:50.1554834Z        2        Int32     24      Int32   \n",
       "6  2022-05-25T13:19:04.2714384Z        2        Int32     15      Int32   \n",
       "7  2022-05-25T13:14:52.8453005Z        2        Int32      1      Int32   \n",
       "8  2022-05-25T13:21:15.7140073Z        2        Int32      2      Int32   \n",
       "9  2022-05-25T13:19:43.1138419Z        2        Int32     19      Int32   \n",
       "\n",
       "   WeightPre WeightPre@type  WeightPost  ... DistAvgH  DistAvgH@type DistMinL  \\\n",
       "0          0          Int32           0  ...       28          Int32       27   \n",
       "1          0          Int32           0  ...       33          Int32       32   \n",
       "2          0          Int32           0  ...        9          Int32        9   \n",
       "3          0          Int32           0  ...       29          Int32       29   \n",
       "4          0          Int32           0  ...       14          Int32       12   \n",
       "5          0          Int32           0  ...       10          Int32        9   \n",
       "6          0          Int32           0  ...       27          Int32       27   \n",
       "7          0          Int32           0  ...       37          Int32       37   \n",
       "8          0          Int32           0  ...       33          Int32       32   \n",
       "9          0          Int32           0  ...       40          Int32       39   \n",
       "\n",
       "   DistMinL@type DistMaxL  DistMaxL@type DistAvgL  DistAvgL@type DistTime  \\\n",
       "0          Int32       29          Int32       28          Int32      207   \n",
       "1          Int32       34          Int32       33          Int32     1136   \n",
       "2          Int32       15          Int32       11          Int32      513   \n",
       "3          Int32       30          Int32       29          Int32      765   \n",
       "4          Int32       16          Int32       14          Int32     1135   \n",
       "5          Int32       12          Int32       10          Int32      574   \n",
       "6          Int32       29          Int32       27          Int32      393   \n",
       "7          Int32       37          Int32       37          Int32       25   \n",
       "8          Int32       35          Int32       33          Int32      584   \n",
       "9          Int32       41          Int32       40          Int32      766   \n",
       "\n",
       "   DistTime@type  \n",
       "0          Int32  \n",
       "1          Int32  \n",
       "2          Int32  \n",
       "3          Int32  \n",
       "4          Int32  \n",
       "5          Int32  \n",
       "6          Int32  \n",
       "7          Int32  \n",
       "8          Int32  \n",
       "9          Int32  \n",
       "\n",
       "[10 rows x 27 columns]"
      ]
     },
     "execution_count": 2,
     "metadata": {},
     "output_type": "execute_result"
    }
   ],
   "source": [
    "# inlezen van de dataset\n",
    "dataset = pd.read_csv('TestData.csv')\n",
    "dataset.head(10)"
   ]
  },
  {
   "cell_type": "markdown",
   "metadata": {},
   "source": [
    "Controleer of de dataset inconsistenties of foute waarden bevat. Gebruik listwise deletion. Dit betekent dat je alle gegevens van een persoon uit de dataset verwijdert van zodra er 1 feature foutief is of ontbreekt."
   ]
  },
  {
   "cell_type": "code",
   "execution_count": 3,
   "metadata": {},
   "outputs": [
    {
     "data": {
      "text/html": [
       "<div>\n",
       "<style scoped>\n",
       "    .dataframe tbody tr th:only-of-type {\n",
       "        vertical-align: middle;\n",
       "    }\n",
       "\n",
       "    .dataframe tbody tr th {\n",
       "        vertical-align: top;\n",
       "    }\n",
       "\n",
       "    .dataframe thead th {\n",
       "        text-align: right;\n",
       "    }\n",
       "</style>\n",
       "<table border=\"1\" class=\"dataframe\">\n",
       "  <thead>\n",
       "    <tr style=\"text-align: right;\">\n",
       "      <th></th>\n",
       "      <th>DistMinH</th>\n",
       "      <th>DistMaxH</th>\n",
       "      <th>DistAvgH</th>\n",
       "      <th>DistMinL</th>\n",
       "      <th>DistMaxL</th>\n",
       "      <th>DistAvgL</th>\n",
       "      <th>DistTime</th>\n",
       "    </tr>\n",
       "  </thead>\n",
       "  <tbody>\n",
       "    <tr>\n",
       "      <th>0</th>\n",
       "      <td>27</td>\n",
       "      <td>29</td>\n",
       "      <td>28</td>\n",
       "      <td>27</td>\n",
       "      <td>29</td>\n",
       "      <td>28</td>\n",
       "      <td>207</td>\n",
       "    </tr>\n",
       "    <tr>\n",
       "      <th>1</th>\n",
       "      <td>32</td>\n",
       "      <td>34</td>\n",
       "      <td>33</td>\n",
       "      <td>32</td>\n",
       "      <td>34</td>\n",
       "      <td>33</td>\n",
       "      <td>1136</td>\n",
       "    </tr>\n",
       "    <tr>\n",
       "      <th>2</th>\n",
       "      <td>9</td>\n",
       "      <td>10</td>\n",
       "      <td>9</td>\n",
       "      <td>9</td>\n",
       "      <td>15</td>\n",
       "      <td>11</td>\n",
       "      <td>513</td>\n",
       "    </tr>\n",
       "    <tr>\n",
       "      <th>3</th>\n",
       "      <td>29</td>\n",
       "      <td>30</td>\n",
       "      <td>29</td>\n",
       "      <td>29</td>\n",
       "      <td>30</td>\n",
       "      <td>29</td>\n",
       "      <td>765</td>\n",
       "    </tr>\n",
       "    <tr>\n",
       "      <th>4</th>\n",
       "      <td>12</td>\n",
       "      <td>16</td>\n",
       "      <td>14</td>\n",
       "      <td>12</td>\n",
       "      <td>16</td>\n",
       "      <td>14</td>\n",
       "      <td>1135</td>\n",
       "    </tr>\n",
       "    <tr>\n",
       "      <th>5</th>\n",
       "      <td>9</td>\n",
       "      <td>12</td>\n",
       "      <td>10</td>\n",
       "      <td>9</td>\n",
       "      <td>12</td>\n",
       "      <td>10</td>\n",
       "      <td>574</td>\n",
       "    </tr>\n",
       "    <tr>\n",
       "      <th>6</th>\n",
       "      <td>27</td>\n",
       "      <td>29</td>\n",
       "      <td>27</td>\n",
       "      <td>27</td>\n",
       "      <td>29</td>\n",
       "      <td>27</td>\n",
       "      <td>393</td>\n",
       "    </tr>\n",
       "    <tr>\n",
       "      <th>7</th>\n",
       "      <td>37</td>\n",
       "      <td>37</td>\n",
       "      <td>37</td>\n",
       "      <td>37</td>\n",
       "      <td>37</td>\n",
       "      <td>37</td>\n",
       "      <td>25</td>\n",
       "    </tr>\n",
       "    <tr>\n",
       "      <th>8</th>\n",
       "      <td>32</td>\n",
       "      <td>35</td>\n",
       "      <td>33</td>\n",
       "      <td>32</td>\n",
       "      <td>35</td>\n",
       "      <td>33</td>\n",
       "      <td>584</td>\n",
       "    </tr>\n",
       "    <tr>\n",
       "      <th>9</th>\n",
       "      <td>39</td>\n",
       "      <td>41</td>\n",
       "      <td>40</td>\n",
       "      <td>39</td>\n",
       "      <td>41</td>\n",
       "      <td>40</td>\n",
       "      <td>766</td>\n",
       "    </tr>\n",
       "  </tbody>\n",
       "</table>\n",
       "</div>"
      ],
      "text/plain": [
       "   DistMinH  DistMaxH  DistAvgH  DistMinL  DistMaxL  DistAvgL  DistTime\n",
       "0        27        29        28        27        29        28       207\n",
       "1        32        34        33        32        34        33      1136\n",
       "2         9        10         9         9        15        11       513\n",
       "3        29        30        29        29        30        29       765\n",
       "4        12        16        14        12        16        14      1135\n",
       "5         9        12        10         9        12        10       574\n",
       "6        27        29        27        27        29        27       393\n",
       "7        37        37        37        37        37        37        25\n",
       "8        32        35        33        32        35        33       584\n",
       "9        39        41        40        39        41        40       766"
      ]
     },
     "execution_count": 3,
     "metadata": {},
     "output_type": "execute_result"
    }
   ],
   "source": [
    "\n",
    "# verwijder kollomen die niet relevant zijn met model (id's,types)\n",
    "dataset.drop(['PartitionKey','RowKey','Timestamp','RackRow'],axis=1,inplace=True)\n",
    "dataset.drop('RackRow@type',axis=1,inplace=True)\n",
    "dataset.drop('Label',axis=1,inplace=True)\n",
    "dataset.drop('Label@type',axis=1,inplace=True)\n",
    "\n",
    "# verwijder kollomen weight \n",
    "dataset.drop(['WeightPre','WeightPre@type','WeightPost','WeightPost@type', 'WeightDiff','WeightDiff@type'],axis=1,inplace=True)\n",
    "\n",
    "\n",
    "#verwijder kollomen distance\n",
    "dataset.drop(['DistMinH@type','DistMaxH@type','DistAvgH@type','DistMinL@type', 'DistMaxL@type','DistAvgL@type', 'DistTime@type'],axis=1,inplace=True)\n",
    "\n",
    "\n",
    "#one hot encoding\n",
    "# dataset = pd.concat([dataset,pd.get_dummies(dataset['RackRow'], prefix='RackRow')],axis=1)\n",
    "# dataset.drop(['RackRow'],axis=1, inplace=True)\n",
    "\n",
    "\n",
    "\n",
    "dataset.head(10)\n"
   ]
  },
  {
   "cell_type": "code",
   "execution_count": 4,
   "metadata": {},
   "outputs": [
    {
     "data": {
      "text/html": [
       "<div>\n",
       "<style scoped>\n",
       "    .dataframe tbody tr th:only-of-type {\n",
       "        vertical-align: middle;\n",
       "    }\n",
       "\n",
       "    .dataframe tbody tr th {\n",
       "        vertical-align: top;\n",
       "    }\n",
       "\n",
       "    .dataframe thead th {\n",
       "        text-align: right;\n",
       "    }\n",
       "</style>\n",
       "<table border=\"1\" class=\"dataframe\">\n",
       "  <thead>\n",
       "    <tr style=\"text-align: right;\">\n",
       "      <th></th>\n",
       "      <th>bovenkant_krat</th>\n",
       "      <th>DistMinH</th>\n",
       "      <th>DistMaxH</th>\n",
       "      <th>DistAvgH</th>\n",
       "      <th>DistMinL</th>\n",
       "      <th>DistMaxL</th>\n",
       "      <th>DistAvgL</th>\n",
       "      <th>DistTime</th>\n",
       "    </tr>\n",
       "  </thead>\n",
       "  <tbody>\n",
       "    <tr>\n",
       "      <th>0</th>\n",
       "      <td>1</td>\n",
       "      <td>27</td>\n",
       "      <td>29</td>\n",
       "      <td>28</td>\n",
       "      <td>27</td>\n",
       "      <td>29</td>\n",
       "      <td>28</td>\n",
       "      <td>207</td>\n",
       "    </tr>\n",
       "    <tr>\n",
       "      <th>1</th>\n",
       "      <td>1</td>\n",
       "      <td>32</td>\n",
       "      <td>34</td>\n",
       "      <td>33</td>\n",
       "      <td>32</td>\n",
       "      <td>34</td>\n",
       "      <td>33</td>\n",
       "      <td>1136</td>\n",
       "    </tr>\n",
       "    <tr>\n",
       "      <th>2</th>\n",
       "      <td>0</td>\n",
       "      <td>9</td>\n",
       "      <td>10</td>\n",
       "      <td>9</td>\n",
       "      <td>9</td>\n",
       "      <td>15</td>\n",
       "      <td>11</td>\n",
       "      <td>513</td>\n",
       "    </tr>\n",
       "    <tr>\n",
       "      <th>3</th>\n",
       "      <td>1</td>\n",
       "      <td>29</td>\n",
       "      <td>30</td>\n",
       "      <td>29</td>\n",
       "      <td>29</td>\n",
       "      <td>30</td>\n",
       "      <td>29</td>\n",
       "      <td>765</td>\n",
       "    </tr>\n",
       "    <tr>\n",
       "      <th>4</th>\n",
       "      <td>0</td>\n",
       "      <td>12</td>\n",
       "      <td>16</td>\n",
       "      <td>14</td>\n",
       "      <td>12</td>\n",
       "      <td>16</td>\n",
       "      <td>14</td>\n",
       "      <td>1135</td>\n",
       "    </tr>\n",
       "    <tr>\n",
       "      <th>5</th>\n",
       "      <td>0</td>\n",
       "      <td>9</td>\n",
       "      <td>12</td>\n",
       "      <td>10</td>\n",
       "      <td>9</td>\n",
       "      <td>12</td>\n",
       "      <td>10</td>\n",
       "      <td>574</td>\n",
       "    </tr>\n",
       "    <tr>\n",
       "      <th>6</th>\n",
       "      <td>1</td>\n",
       "      <td>27</td>\n",
       "      <td>29</td>\n",
       "      <td>27</td>\n",
       "      <td>27</td>\n",
       "      <td>29</td>\n",
       "      <td>27</td>\n",
       "      <td>393</td>\n",
       "    </tr>\n",
       "    <tr>\n",
       "      <th>7</th>\n",
       "      <td>1</td>\n",
       "      <td>37</td>\n",
       "      <td>37</td>\n",
       "      <td>37</td>\n",
       "      <td>37</td>\n",
       "      <td>37</td>\n",
       "      <td>37</td>\n",
       "      <td>25</td>\n",
       "    </tr>\n",
       "    <tr>\n",
       "      <th>8</th>\n",
       "      <td>1</td>\n",
       "      <td>32</td>\n",
       "      <td>35</td>\n",
       "      <td>33</td>\n",
       "      <td>32</td>\n",
       "      <td>35</td>\n",
       "      <td>33</td>\n",
       "      <td>584</td>\n",
       "    </tr>\n",
       "    <tr>\n",
       "      <th>9</th>\n",
       "      <td>1</td>\n",
       "      <td>39</td>\n",
       "      <td>41</td>\n",
       "      <td>40</td>\n",
       "      <td>39</td>\n",
       "      <td>41</td>\n",
       "      <td>40</td>\n",
       "      <td>766</td>\n",
       "    </tr>\n",
       "  </tbody>\n",
       "</table>\n",
       "</div>"
      ],
      "text/plain": [
       "   bovenkant_krat  DistMinH  DistMaxH  DistAvgH  DistMinL  DistMaxL  DistAvgL  \\\n",
       "0               1        27        29        28        27        29        28   \n",
       "1               1        32        34        33        32        34        33   \n",
       "2               0         9        10         9         9        15        11   \n",
       "3               1        29        30        29        29        30        29   \n",
       "4               0        12        16        14        12        16        14   \n",
       "5               0         9        12        10         9        12        10   \n",
       "6               1        27        29        27        27        29        27   \n",
       "7               1        37        37        37        37        37        37   \n",
       "8               1        32        35        33        32        35        33   \n",
       "9               1        39        41        40        39        41        40   \n",
       "\n",
       "   DistTime  \n",
       "0       207  \n",
       "1      1136  \n",
       "2       513  \n",
       "3       765  \n",
       "4      1135  \n",
       "5       574  \n",
       "6       393  \n",
       "7        25  \n",
       "8       584  \n",
       "9       766  "
      ]
     },
     "execution_count": 4,
     "metadata": {},
     "output_type": "execute_result"
    }
   ],
   "source": [
    "# Toevoegen van 'kant_krat_links' kolom op basis van DistAvgH\n",
    "dataset.insert(0,'bovenkant_krat', dataset['DistAvgH'])\n",
    "\n",
    "#DistAvgL waarden\n",
    "\n",
    "dataset['bovenkant_krat'].values[dataset['DistAvgH'] < 20] = 0\n",
    "dataset['bovenkant_krat'].values[dataset['DistAvgH'] >= 20] = 1\n",
    "\n",
    "dataset.head(10)"
   ]
  },
  {
   "cell_type": "code",
   "execution_count": 5,
   "metadata": {
    "scrolled": true
   },
   "outputs": [
    {
     "data": {
      "text/plain": [
       "Text(0.5, 1.0, 'Countplot bovenkant_krat')"
      ]
     },
     "execution_count": 5,
     "metadata": {},
     "output_type": "execute_result"
    },
    {
     "data": {
      "image/png": "[encoded data removed]",
      "text/plain": [
       "<Figure size 432x288 with 1 Axes>"
      ]
     },
     "metadata": {
      "needs_background": "light"
     },
     "output_type": "display_data"
    }
   ],
   "source": [
    "# gebalanceerdheid controleren\n",
    "sns.countplot(data=dataset, x=\"bovenkant_krat\")\n",
    "plt.title('Countplot bovenkant_krat')\n"
   ]
  },
  {
   "cell_type": "code",
   "execution_count": 6,
   "metadata": {},
   "outputs": [
    {
     "name": "stderr",
     "output_type": "stream",
     "text": [
      "C:\\Users\\domin\\AppData\\Local\\Temp\\ipykernel_26468\\1331905442.py:8: DeprecationWarning: `np.bool` is a deprecated alias for the builtin `bool`. To silence this warning, use `bool` by itself. Doing this will not modify any behavior and is safe. If you specifically wanted the numpy scalar type, use `np.bool_` here.\n",
      "Deprecated in NumPy 1.20; for more details and guidance: https://numpy.org/devdocs/release/1.20.0-notes.html#deprecations\n",
      "  sns.heatmap(corr, mask=np.zeros_like(corr, dtype=np.bool), cmap=sns.diverging_palette(220, 10, as_cmap=True),\n"
     ]
    },
    {
     "data": {
      "text/plain": [
       "<AxesSubplot:>"
      ]
     },
     "execution_count": 6,
     "metadata": {},
     "output_type": "execute_result"
    },
    {
     "data": {
      "image/png": "[encoded data removed]",
      "text/plain": [
       "<Figure size 864x720 with 2 Axes>"
      ]
     },
     "metadata": {
      "needs_background": "light"
     },
     "output_type": "display_data"
    }
   ],
   "source": [
    "# Lineaire correlatie tussen de features - heatmap\n",
    "\n",
    "dataset.corr()\n",
    "\n",
    "# Visualiseer de onderlinge correlatiecoëfficiënten\n",
    "f, ax = plt.subplots(figsize=(12, 10))\n",
    "corr = dataset.corr()\n",
    "sns.heatmap(corr, mask=np.zeros_like(corr, dtype=np.bool), cmap=sns.diverging_palette(220, 10, as_cmap=True),\n",
    "            square=True, ax=ax,annot=True)"
   ]
  },
  {
   "cell_type": "code",
   "execution_count": 7,
   "metadata": {
    "scrolled": true
   },
   "outputs": [],
   "source": [
    "#FLES\n",
    "# dataset['Post_groter_dan_pre'] = dataset['WeightPost'].gt(dataset['WeightPre'])\n",
    "# # fles in  op basis vanpost groter dan pre\n",
    "# dataset.insert(0,'Bottle_in',dataset['Post_groter_dan_pre'])\n",
    "# dataset.drop('Post_groter_dan_pre',axis=1,inplace=True)\n",
    "\n",
    "\n",
    "# dataset['Pre_groter_dan_post'] = dataset['WeightPre'].gt(dataset['WeightPost'])\n",
    "# #  fles uit op basis van pre  groter dan post\n",
    "# dataset.insert(0,'Bottle_out',dataset['Pre_groter_dan_post'])\n",
    "# dataset.drop('Pre_groter_dan_post',axis=1,inplace=True)\n",
    "\n",
    "# # True en False  van Fles_volomzetten naar 0 en 1:\n",
    "# dataset.Bottle_in.replace({False:0,True:1},inplace=True)\n",
    "\n",
    "# dataset.Bottle_out.replace({False:0,True:1},inplace=True)\n",
    "\n",
    "\n",
    "# #Volle fles in\n",
    "# dataset.insert(0,'Bottle_full',dataset['Bottle_in'])\n",
    "# dataset['Bottle_full'].values[dataset['WeightDiff'] < 2] = 0\n",
    "# dataset['Bottle_full'].values[dataset['WeightDiff'] > 2] = 1\n",
    "\n",
    "# #bottle full in\n",
    "# dataset.insert(0,'Bottle_full_in',dataset['Bottle_in'])\n",
    "# dataset['Bottle_full_in'].values[dataset['Bottle_full'] == 1 & (dataset['Bottle_in'] == 1 ) ] = 1\n",
    "# dataset['Bottle_full_in'].values[dataset['Bottle_in'] == 1 & (dataset['Bottle_full'] == 1 ) ] = 1\n",
    "# dataset['Bottle_full_in'].values[dataset['Bottle_full'] == 0 & (dataset['Bottle_in'] == 1 ) ] = 0\n",
    "# dataset['Bottle_full_in'].values[dataset['Bottle_in'] == 0 & (dataset['Bottle_full'] == 1 ) ] = 0\n",
    "\n",
    "# #bottle full out\n",
    "# dataset.insert(0,'Bottle_full_out',dataset['Bottle_out'])\n",
    "# dataset['Bottle_full_out'].values[dataset['Bottle_full'] == 1 & (dataset['Bottle_out'] == 1 ) ] = 1\n",
    "# dataset['Bottle_full_out'].values[dataset['Bottle_out'] == 1 & (dataset['Bottle_full'] == 1 ) ] = 1\n",
    "# dataset['Bottle_full_out'].values[dataset['Bottle_full'] == 0 & (dataset['Bottle_out'] == 1 ) ] = 0\n",
    "# dataset['Bottle_full_out'].values[dataset['Bottle_out'] == 0 & (dataset['Bottle_full'] == 1 ) ] = 0\n",
    "\n",
    "# # #bottle empty in\n",
    "# dataset.insert(0,'Bottle_empty_in',dataset['Bottle_in'])\n",
    "# dataset['Bottle_empty_in'].values[dataset['Bottle_full'] == 1 & (dataset['Bottle_in'] == 1 ) ] = 0\n",
    "# dataset['Bottle_empty_in'].values[dataset['Bottle_in'] == 1 & (dataset['Bottle_full'] == 1 ) ] = 0\n",
    "# dataset['Bottle_empty_in'].values[dataset['Bottle_full'] == 0 & (dataset['Bottle_in'] == 1 ) ] = 1\n",
    "# dataset['Bottle_empty_in'].values[dataset['Bottle_in'] == 0 & (dataset['Bottle_full'] == 1 ) ] = 0\n",
    "\n",
    "#  #bottle empty out\n",
    "# dataset.insert(0,'Bottle_empty_out',dataset['Bottle_out'])\n",
    "# dataset['Bottle_empty_out'].values[dataset['Bottle_full'] == 1 & (dataset['Bottle_out'] == 1 ) ] = 0\n",
    "# dataset['Bottle_empty_out'].values[dataset['Bottle_out'] == 1 & (dataset['Bottle_full'] == 1 ) ] = 0\n",
    "# dataset['Bottle_empty_out'].values[dataset['Bottle_full'] == 0 & (dataset['Bottle_out'] == 1 ) ] = 1\n",
    "# dataset['Bottle_empty_out'].values[dataset['Bottle_out'] == 0 & (dataset['Bottle_full'] == 1 ) ] = 0\n",
    "\n",
    "# #Bottle\n",
    "# dataset.insert(0,'Bottle',0)\n",
    "# dataset['Bottle'].values[dataset['Bottle_full_in'] == 1] = 1\n",
    "# dataset['Bottle'].values[dataset['Bottle_full_out'] == 1] = 2\n",
    "# dataset['Bottle'].values[dataset['Bottle_empty_in'] == 1] = 3\n",
    "# dataset['Bottle'].values[dataset['Bottle_empty_out'] == 1] = 4\n",
    "\n"
   ]
  },
  {
   "cell_type": "markdown",
   "metadata": {},
   "source": [
    "### Preprocessing en opsplitsen van de dataset"
   ]
  },
  {
   "cell_type": "markdown",
   "metadata": {},
   "source": [
    "Splits de dataset in **features en targets**."
   ]
  },
  {
   "cell_type": "code",
   "execution_count": 8,
   "metadata": {},
   "outputs": [
    {
     "name": "stdout",
     "output_type": "stream",
     "text": [
      "(29, 7)\n",
      "(29,)\n"
     ]
    }
   ],
   "source": [
    "# Opsplitsen in features en targets\n",
    "y = dataset['bovenkant_krat'].values\n",
    "X = dataset.drop(['bovenkant_krat'], axis = 1).values\n",
    "\n",
    "print(X.shape)\n",
    "print(y.shape)\n",
    "\n",
    "\n",
    "#1 lijst met 303 waarden, 13 features"
   ]
  },
  {
   "cell_type": "markdown",
   "metadata": {},
   "source": [
    "Creëer een **trainingset en een testset**. Zorg dat er 100 patiënten in de testset steken. "
   ]
  },
  {
   "cell_type": "code",
   "execution_count": 9,
   "metadata": {},
   "outputs": [
    {
     "name": "stdout",
     "output_type": "stream",
     "text": [
      "(19, 7)\n",
      "(10, 7)\n"
     ]
    }
   ],
   "source": [
    "# Opsplitsen/opdelen in training set en test set\n",
    "X_train, X_test, y_train, y_test = train_test_split(X, y, test_size=0.33, random_state=0)\n",
    "\n",
    "#training set\n",
    "print(X_train.shape)\n",
    "\n",
    "#test set\n",
    "print(X_test.shape)\n",
    "\n"
   ]
  },
  {
   "cell_type": "markdown",
   "metadata": {},
   "source": [
    "**Schaal de dataset**. Zorg er dus voor dat de features op een gelijke schaalverdeling staan. Voor het scalen kan gebruik gemaakt worden van de *preprocessing.StandardScaler()*. Meer info over het gebruik ervan is te vinden op http://scikit-learn.org/stable/modules/generated/sklearn.preprocessing.StandardScaler.html"
   ]
  },
  {
   "cell_type": "code",
   "execution_count": 10,
   "metadata": {},
   "outputs": [],
   "source": [
    "# Normaliseren / scaling van de training set en de test set\n",
    "scaler = StandardScaler() #scalen\n",
    "scaler.fit(X_train)\n",
    "\n",
    "X_train = scaler.transform(X_train)\n",
    "X_test = scaler.transform(X_test)"
   ]
  },
  {
   "cell_type": "code",
   "execution_count": 11,
   "metadata": {},
   "outputs": [
    {
     "data": {
      "text/plain": [
       "array([-0.29092512, -0.1606592 , -0.24354051, -0.31179979, -0.17375559,\n",
       "       -0.26386824, -0.4816289 ])"
      ]
     },
     "execution_count": 11,
     "metadata": {},
     "output_type": "execute_result"
    }
   ],
   "source": [
    "X_train[1]"
   ]
  },
  {
   "cell_type": "markdown",
   "metadata": {},
   "source": [
    "### Trainen van een logistic regression classifier en testen van het bekomen model"
   ]
  },
  {
   "cell_type": "markdown",
   "metadata": {},
   "source": [
    "Train een logistic regression classifier op de training data. Kies C=1 als startwaarde. Mocht de dataset niet gebalanceerd zijn (de ene klasse komt frequenter voor dan de andere klasse) dan kan je bij de creatie van het logistic regression model de parameter class_weight='balanced' meegeven. Meer info: http://scikit-learn.org/stable/modules/generated/sklearn.linear_model.LogisticRegression.html\n",
    "\n",
    "Test het getrainde model op de test set. Bepaal hierbij de confusion matrix, de accuracy en het classification report. Wat zijn de bevindingen? Probeer ook verschillende solvers uit. Bepaal ook telkens de ROC en formuleer conclusies.\n",
    "\n",
    "Probeer de performantie van de classifier te verhogen door de parameter C te veranderen.\n",
    "\n",
    "Evalueer de modellen telkens via de confusion matrix, classification report en indien mogelijk via de ROC-curve. Bespreek de resultaten."
   ]
  },
  {
   "cell_type": "code",
   "execution_count": 12,
   "metadata": {},
   "outputs": [
    {
     "name": "stdout",
     "output_type": "stream",
     "text": [
      "coefficiënten:  [[11.0995765   2.96225024 -6.82822721 -8.95877956  0.15685815  4.44159951\n",
      "   0.01116189]]\n",
      "intercept: [-60.72547395]\n"
     ]
    },
    {
     "name": "stderr",
     "output_type": "stream",
     "text": [
      "C:\\Users\\domin\\AppData\\Local\\Programs\\Python\\Python310\\lib\\site-packages\\sklearn\\linear_model\\_logistic.py:814: ConvergenceWarning: lbfgs failed to converge (status=1):\n",
      "STOP: TOTAL NO. of ITERATIONS REACHED LIMIT.\n",
      "\n",
      "Increase the number of iterations (max_iter) or scale the data as shown in:\n",
      "    https://scikit-learn.org/stable/modules/preprocessing.html\n",
      "Please also refer to the documentation for alternative solver options:\n",
      "    https://scikit-learn.org/stable/modules/linear_model.html#logistic-regression\n",
      "  n_iter_i = _check_optimize_result(\n"
     ]
    }
   ],
   "source": [
    "# Train een logistic regression classifier\n",
    "\n",
    "logreg = linear_model.LogisticRegression(C=1e4, solver='lbfgs') # C= Inverse of regularization strength;\n",
    "                                                # must be a positive float. Like in support vector machines,\n",
    "\n",
    "\n",
    "\n",
    "    # smaller values specify stronger regularization.\n",
    "logreg.fit(X, y)\n",
    "\n",
    "print('coefficiënten: ',logreg.coef_)\n",
    "print('intercept:',logreg.intercept_)"
   ]
  },
  {
   "cell_type": "code",
   "execution_count": 13,
   "metadata": {},
   "outputs": [
    {
     "name": "stdout",
     "output_type": "stream",
     "text": [
      "              precision    recall  f1-score   support\n",
      "\n",
      "           0       0.40      1.00      0.57         4\n",
      "           1       0.00      0.00      0.00         6\n",
      "\n",
      "    accuracy                           0.40        10\n",
      "   macro avg       0.20      0.50      0.29        10\n",
      "weighted avg       0.16      0.40      0.23        10\n",
      "\n",
      "40.0\n",
      "[[4 0]\n",
      " [6 0]]\n"
     ]
    },
    {
     "name": "stderr",
     "output_type": "stream",
     "text": [
      "C:\\Users\\domin\\AppData\\Local\\Programs\\Python\\Python310\\lib\\site-packages\\sklearn\\metrics\\_classification.py:1318: UndefinedMetricWarning: Precision and F-score are ill-defined and being set to 0.0 in labels with no predicted samples. Use `zero_division` parameter to control this behavior.\n",
      "  _warn_prf(average, modifier, msg_start, len(result))\n",
      "C:\\Users\\domin\\AppData\\Local\\Programs\\Python\\Python310\\lib\\site-packages\\sklearn\\metrics\\_classification.py:1318: UndefinedMetricWarning: Precision and F-score are ill-defined and being set to 0.0 in labels with no predicted samples. Use `zero_division` parameter to control this behavior.\n",
      "  _warn_prf(average, modifier, msg_start, len(result))\n",
      "C:\\Users\\domin\\AppData\\Local\\Programs\\Python\\Python310\\lib\\site-packages\\sklearn\\metrics\\_classification.py:1318: UndefinedMetricWarning: Precision and F-score are ill-defined and being set to 0.0 in labels with no predicted samples. Use `zero_division` parameter to control this behavior.\n",
      "  _warn_prf(average, modifier, msg_start, len(result))\n"
     ]
    }
   ],
   "source": [
    "# testen van de logistic regression classifier\n",
    "\n",
    "y_pred = logreg.predict(X_test)\n",
    "\n",
    "print(classification_report(y_test,y_pred))\n",
    "\n",
    "print(accuracy_score(y_test,y_pred)*100)\n",
    "\n",
    "\n",
    "print(confusion_matrix(y_test,y_pred))"
   ]
  },
  {
   "cell_type": "code",
   "execution_count": 14,
   "metadata": {},
   "outputs": [
    {
     "data": {
      "image/png": "[encoded data removed]",
      "text/plain": [
       "<Figure size 432x288 with 1 Axes>"
      ]
     },
     "metadata": {
      "needs_background": "light"
     },
     "output_type": "display_data"
    }
   ],
   "source": [
    "# ROC\n",
    "\n",
    "import sklearn.metrics as metrics\n",
    "# calculate the fpr and tpr for all thresholds of the classification\n",
    "probs = logreg.predict_proba(X_test)\n",
    "preds = probs[:,1]\n",
    "fpr, tpr, threshold = metrics.roc_curve(y_test, preds)\n",
    "roc_auc = metrics.auc(fpr, tpr)\n",
    "\n",
    "# method I: plt\n",
    "import matplotlib.pyplot as plt\n",
    "plt.title('Receiver Operating Characteristic')\n",
    "plt.plot(fpr, tpr, 'b', label = 'AUC = %0.2f' % roc_auc)\n",
    "plt.legend(loc = 'lower right')\n",
    "plt.plot([0, 1], [0, 1],'r--')\n",
    "plt.xlim([0, 1])\n",
    "plt.ylim([0, 1])\n",
    "plt.ylabel('True Positive Rate')\n",
    "plt.xlabel('False Positive Rate')\n",
    "plt.show()"
   ]
  },
  {
   "cell_type": "code",
   "execution_count": 15,
   "metadata": {},
   "outputs": [
    {
     "name": "stdout",
     "output_type": "stream",
     "text": [
      "[[1.00000000e+00 9.84195869e-29]\n",
      " [1.00000000e+00 7.43514612e-26]\n",
      " [1.00000000e+00 1.19721322e-24]\n",
      " [1.00000000e+00 3.67772037e-29]\n",
      " [1.00000000e+00 4.37584716e-25]\n",
      " [1.00000000e+00 8.79476888e-25]\n",
      " [1.00000000e+00 9.22804427e-26]\n",
      " [1.00000000e+00 1.16845851e-26]\n",
      " [1.00000000e+00 5.05861586e-29]\n",
      " [1.00000000e+00 3.27509939e-28]]\n"
     ]
    }
   ],
   "source": [
    "#probability prediciton van ROC\n",
    "print(probs)"
   ]
  },
  {
   "cell_type": "markdown",
   "metadata": {},
   "source": [
    "### Feature engineering\n",
    "Creeër hogere orde features door gebruik te maken van *preprocessing.PolynomialFeatures*. Meer info is te vinden op http://scikit-learn.org/stable/modules/generated/sklearn.preprocessing.PolynomialFeatures.html\n",
    "\n",
    "Deze functie zal automatische hogere orde features aanmaken door het combineren van de aanwezige features. Heb je bijvoorbeeld drie features, zijnde A, B en C dan worden bij de keuze van een derde orde PolynomialFeatures volgende nieuwe features bijgemaakt:\n",
    "$A^3, B^3,C^3,A^2B,A^2C,AB^2, B^2C,...$\n",
    "\n",
    "Experimenteer met verschillende ordes en gebruik de regularisatieparameter C om de performantie te verhogen. Voor indien nodig ook regularisatie uit via een L1 of L2 penalty.\n",
    "\n",
    "**Opgepast**: het kiezen van een te hoge orde zorgt voor een exponentiële toename aan features waardoor de logistic regression classifier niet meer binnen aanvaardbare tijd getraind kan worden. Advies is om niet hoger te gaan dan 4de orde."
   ]
  },
  {
   "cell_type": "code",
   "execution_count": 38,
   "metadata": {},
   "outputs": [
    {
     "name": "stdout",
     "output_type": "stream",
     "text": [
      "dimensie van X_train_poly:  (19, 120)\n",
      "dimensie van X_test_poly:  (10, 120)\n",
      "R2 score op test set via L2:  0.904451594646577\n",
      "R2 score op training set via L2:  0.7035820024995074\n",
      "R2 score op test set via L1:  0.12196758461368273\n",
      "R2 score op training set via L1:  0.9525325921700416\n"
     ]
    },
    {
     "name": "stderr",
     "output_type": "stream",
     "text": [
      "C:\\Users\\domin\\AppData\\Local\\Programs\\Python\\Python310\\lib\\site-packages\\sklearn\\linear_model\\_coordinate_descent.py:647: ConvergenceWarning: Objective did not converge. You might want to increase the number of iterations, check the scale of the features or consider increasing regularisation. Duality gap: 4.445e-02, tolerance: 4.105e-03\n",
      "  model = cd_fast.enet_coordinate_descent(\n"
     ]
    }
   ],
   "source": [
    "# Toevoegen van extra features\n",
    "# Modeloptimalisatie en Hyperparameter tuning\n",
    "# Automatisch toevoegen van hogere orde features\n",
    "\n",
    "from sklearn.preprocessing import PolynomialFeatures\n",
    "\n",
    "\n",
    "# Aanmaken van de hogere orde features\n",
    "graad = 3\n",
    "\n",
    "poly = PolynomialFeatures(graad)\n",
    "poly.fit(X_train)\n",
    "X_train_poly = poly.transform(X_train)\n",
    "X_test_poly = poly.transform(X_test)\n",
    "print('dimensie van X_train_poly: ',X_train_poly.shape)\n",
    "print('dimensie van X_test_poly: ',X_test_poly.shape)\n",
    "\n",
    "#scalen (optioneel?)\n",
    "scaler_poly = StandardScaler()\n",
    "scaler_poly.fit(X_train_poly)\n",
    "\n",
    "X_train_poly = scaler_poly.transform(X_train_poly)\n",
    "X_test_poly = scaler_poly.transform(X_test_poly)\n",
    "\n",
    "\n",
    "# met L2 regularisatie via Ridge regression\n",
    "lregmodel_poly = Ridge(alpha=20,tol=0.0001,fit_intercept=True)\n",
    "lregmodel_poly.fit(X_train_poly,y_train)\n",
    "\n",
    "print('R2 score op test set via L2: ',lregmodel_poly.score(X_test_poly,y_test))\n",
    "# R2 -score via L2 op de trainingset\n",
    "print('R2 score op training set via L2: ',lregmodel_poly.score(X_train_poly,y_train))\n",
    "\n",
    "\n",
    "# met L1 regularisatie via Lasso regression\n",
    "lregmodel_poly = Lasso(alpha=0.001,tol=0.001,fit_intercept=True)\n",
    "lregmodel_poly.fit(X_train_poly,y_train)      \n",
    "  \n",
    "      \n",
    "print('R2 score op test set via L1: ',lregmodel_poly.score(X_test_poly,y_test))\n",
    "  \n",
    "# R2 -score via L1 op de trainingset\n",
    "print('R2 score op training set via L1: ',lregmodel_poly.score(X_train_poly,y_train))  \n"
   ]
  },
  {
   "cell_type": "markdown",
   "metadata": {},
   "source": [
    "Wat zijn de bevindingen? Formuleer een conclusie. Bespreek hierin de performantie van de getrainde modellen. Wat is de invloed van de parameter C en van het aantal features? Heb je te maken gehad met underfitting en overfitting en hoe heb je dit bepaald? Welke accuracy werd bekomen en hoe zit het met de Recall en Precision? Is de grootte van de trainingset voldoende?"
   ]
  },
  {
   "cell_type": "markdown",
   "metadata": {},
   "source": [
    "Antwoord: Er was een schommeling van 0.02 bij accuracy afhankelijk van hoe ik de C-waarde wijzigde (C1e5->C1e1), mijn accuracy is 80.0, ook de recall en precision wijzigde mee met de C-waarde (schommeling van 0.1)\n",
    "\n",
    "Bij het toevoegen van hogere orde features heb ik de R2 score bij de trainingsets op 0.96 en 0.99."
   ]
  },
  {
   "cell_type": "markdown",
   "metadata": {},
   "source": [
    "### Voorspel aan de hand van het getrainde model\n",
    "\n",
    "Voorspel of iemand met onderstaande medische parameters als dan niet hartpatient is. Geef ook de zekerheid van het model weer (kansen dat de patiënt tot een bepaalde klasse behoort).\n",
    "\n",
    "age: 37 - sex: man, cp:3, trestbps: 140, chol:274, fbs: 1, restecg: 1, thalach: 153, exang: 0, oldpeak: 1.4, \n",
    "slope: 2, ca: 1, thal: 3\n",
    "\n",
    "\n",
    "DistMinH:29\tDistMaxH:30\t\tDistAvgH:X\tDistMinL:29\tDistMaxL:30\tDistAvgL:29\tDistTime:765\tRackRow_2:1\n",
    "\n",
    "\n",
    "bovenkant_krat\tDistMinH\tDistMaxH\tDistAvgH\tDistMinL\tDistMaxL\tDistAvgL\tDistTime\n",
    "\tx\t          27\t       29\t       28\t       27\t       29\t       28\t        207\n",
    "\n",
    "\t\t\t\t\n"
   ]
  },
  {
   "cell_type": "code",
   "execution_count": 17,
   "metadata": {},
   "outputs": [
    {
     "name": "stdout",
     "output_type": "stream",
     "text": [
      "[1]\n",
      "[[1.01078701e-10 1.00000000e+00]]\n"
     ]
    }
   ],
   "source": [
    "# Voorspelling van de target.\n",
    "target = np.array([[27,29,28,27,29,28,207]])\n",
    "\n",
    "#scaling\n",
    "scaler.transform(target)\n",
    "\n",
    "print(logreg.predict(target))\n",
    "\n",
    "print(logreg.predict_proba(np.array([27,29,28,27,29,28,207]).reshape(1,-1)))\n",
    "\n",
    "\n",
    "\n",
    "\n"
   ]
  },
  {
   "cell_type": "markdown",
   "metadata": {},
   "source": [
    "Standaard zal het model een sample toewijzen aan klasse 1 van zodra de probiliteit boven de threshold van 50% uisteekt. \n",
    "Men wil echter de kans op false negatives drastisch verminderen door het aanpassen van de threshold. Welke threshold moet men instellen om ervoor te zorgen dat het model op de test set geen false negatives meer voorspelt en toch nog een zo hoog mogelijke accuraatheid heeft?\n",
    "Stel het aantal false negatives in functie van de threshold grafisch voor. Bespreek de resultaten."
   ]
  },
  {
   "cell_type": "code",
   "execution_count": 18,
   "metadata": {},
   "outputs": [],
   "source": [
    "# reduceren van het aantal false negatives door de threshold aan te passen\n",
    "#threshold verlagen!\n",
    "\n"
   ]
  },
  {
   "cell_type": "markdown",
   "metadata": {},
   "source": [
    "## Opdracht 2. Penguins\n",
    "\n",
    "\n",
    "De dataset `penguins.csv` bevat data van verschillende soorten pinguïns. Deze dataset is origineel bedoeld om te kijken of het mogelijk is om te voorspellen tot welke soort een pinguïns behoort aan de hand van de andere variabelen.\n",
    "\n",
    "<img src='penguins.jpg'>\n",
    "\n",
    "<br />\n",
    "\n",
    "| Variable | Beschrijving |\n",
    "| --- | --- | \n",
    "|studyName \t|De studie waar de data van de penguin oorspronkelijk vandaan komt. |\n",
    "|Sample Number|\tEen unieke ID die iedere penguin die in het onderzoek voorkomt krijgt.\n",
    "|Species |\t De soorten penguins die voorkomen in de dataset.|\n",
    "|Island | Het eiland waar de penguin geobserveerd werd.|\n",
    "|Clutch Completion | Of er minstens 1 eitje uit het nest uitgekomen is.|\n",
    "|Culmen Length (mm) |\tDe lengte van de snavel in millimeter. |\n",
    "|Culmen Depth (mm) | De diepte van de snavel in millimeter. |\n",
    "|Flipper Length (mm)  \t| De lengte van de vin in millimeter. |\n",
    "|Body Mass (g) | Het gewicht van de penguin in gram. |\n",
    "|Sex | Het geslacht (binair: 'FEMALE' - vrouw or 'MALE' - man)|\n",
    "|Comments | Specifieke commentaar die bij een bepaalde penguin hoort.|\n",
    "\n",
    "<br />   \n",
    "lees de dataset in en toon de eerste 7 rijen.  <br />   \n",
    "De kolom comments heeft amper data, deze kolom mag uit de dataset verwijdert worden.  <br />   \n",
    "Gebruik listwise deletion bij de overige ontbrekende waarden. Is de dataset gebalanceerd? Maw, zijn er evenveel penguins per soort?  <br />   \n",
    "Bouw een logistic regression model dat zo accuraat mogelijk de penguinsoort kan bepalen. Hierbij pas je alle overige preprocessing stappen toe die je nodig acht. Het is ook toegestaann om features bij te maken of weg te laten.\n",
    "<br />   \n",
    "Schrijf jouw conclusies op met betrekking tot het finaal bekomen model.\n"
   ]
  },
  {
   "cell_type": "code",
   "execution_count": 19,
   "metadata": {},
   "outputs": [
    {
     "name": "stdout",
     "output_type": "stream",
     "text": [
      "Dimensie van de dataset: (29, 27)\n"
     ]
    },
    {
     "data": {
      "text/html": [
       "<div>\n",
       "<style scoped>\n",
       "    .dataframe tbody tr th:only-of-type {\n",
       "        vertical-align: middle;\n",
       "    }\n",
       "\n",
       "    .dataframe tbody tr th {\n",
       "        vertical-align: top;\n",
       "    }\n",
       "\n",
       "    .dataframe thead th {\n",
       "        text-align: right;\n",
       "    }\n",
       "</style>\n",
       "<table border=\"1\" class=\"dataframe\">\n",
       "  <thead>\n",
       "    <tr style=\"text-align: right;\">\n",
       "      <th></th>\n",
       "      <th>PartitionKey</th>\n",
       "      <th>RowKey</th>\n",
       "      <th>Timestamp</th>\n",
       "      <th>RackRow</th>\n",
       "      <th>RackRow@type</th>\n",
       "      <th>Label</th>\n",
       "      <th>Label@type</th>\n",
       "      <th>WeightPre</th>\n",
       "      <th>WeightPre@type</th>\n",
       "      <th>WeightPost</th>\n",
       "      <th>...</th>\n",
       "      <th>DistAvgH</th>\n",
       "      <th>DistAvgH@type</th>\n",
       "      <th>DistMinL</th>\n",
       "      <th>DistMinL@type</th>\n",
       "      <th>DistMaxL</th>\n",
       "      <th>DistMaxL@type</th>\n",
       "      <th>DistAvgL</th>\n",
       "      <th>DistAvgL@type</th>\n",
       "      <th>DistTime</th>\n",
       "      <th>DistTime@type</th>\n",
       "    </tr>\n",
       "  </thead>\n",
       "  <tbody>\n",
       "    <tr>\n",
       "      <th>0</th>\n",
       "      <td>F0:08:D1:C8:A7:34</td>\n",
       "      <td>06e05b50-bcbf-4fad-a713-c19975ef4b42</td>\n",
       "      <td>2022-05-25T13:16:47.9637282Z</td>\n",
       "      <td>2</td>\n",
       "      <td>Int32</td>\n",
       "      <td>3</td>\n",
       "      <td>Int32</td>\n",
       "      <td>0</td>\n",
       "      <td>Int32</td>\n",
       "      <td>0</td>\n",
       "      <td>...</td>\n",
       "      <td>28</td>\n",
       "      <td>Int32</td>\n",
       "      <td>27</td>\n",
       "      <td>Int32</td>\n",
       "      <td>29</td>\n",
       "      <td>Int32</td>\n",
       "      <td>28</td>\n",
       "      <td>Int32</td>\n",
       "      <td>207</td>\n",
       "      <td>Int32</td>\n",
       "    </tr>\n",
       "    <tr>\n",
       "      <th>1</th>\n",
       "      <td>F0:08:D1:C8:A7:34</td>\n",
       "      <td>0cffb11c-0506-4d8d-8cad-7f2d00053380</td>\n",
       "      <td>2022-05-25T13:15:19.5884474Z</td>\n",
       "      <td>2</td>\n",
       "      <td>Int32</td>\n",
       "      <td>2</td>\n",
       "      <td>Int32</td>\n",
       "      <td>0</td>\n",
       "      <td>Int32</td>\n",
       "      <td>0</td>\n",
       "      <td>...</td>\n",
       "      <td>33</td>\n",
       "      <td>Int32</td>\n",
       "      <td>32</td>\n",
       "      <td>Int32</td>\n",
       "      <td>34</td>\n",
       "      <td>Int32</td>\n",
       "      <td>33</td>\n",
       "      <td>Int32</td>\n",
       "      <td>1136</td>\n",
       "      <td>Int32</td>\n",
       "    </tr>\n",
       "    <tr>\n",
       "      <th>2</th>\n",
       "      <td>F0:08:D1:C8:A7:34</td>\n",
       "      <td>11090373-a998-47a1-b8c3-807b4c036d53</td>\n",
       "      <td>2022-05-25T13:17:16.801118Z</td>\n",
       "      <td>2</td>\n",
       "      <td>Int32</td>\n",
       "      <td>6</td>\n",
       "      <td>Int32</td>\n",
       "      <td>0</td>\n",
       "      <td>Int32</td>\n",
       "      <td>0</td>\n",
       "      <td>...</td>\n",
       "      <td>9</td>\n",
       "      <td>Int32</td>\n",
       "      <td>9</td>\n",
       "      <td>Int32</td>\n",
       "      <td>15</td>\n",
       "      <td>Int32</td>\n",
       "      <td>11</td>\n",
       "      <td>Int32</td>\n",
       "      <td>513</td>\n",
       "      <td>Int32</td>\n",
       "    </tr>\n",
       "    <tr>\n",
       "      <th>3</th>\n",
       "      <td>F0:08:D1:C8:A7:34</td>\n",
       "      <td>13f3867e-2b06-43a9-8843-e3f5245cf925</td>\n",
       "      <td>2022-05-25T13:20:12.9485555Z</td>\n",
       "      <td>2</td>\n",
       "      <td>Int32</td>\n",
       "      <td>21</td>\n",
       "      <td>Int32</td>\n",
       "      <td>0</td>\n",
       "      <td>Int32</td>\n",
       "      <td>0</td>\n",
       "      <td>...</td>\n",
       "      <td>29</td>\n",
       "      <td>Int32</td>\n",
       "      <td>29</td>\n",
       "      <td>Int32</td>\n",
       "      <td>30</td>\n",
       "      <td>Int32</td>\n",
       "      <td>29</td>\n",
       "      <td>Int32</td>\n",
       "      <td>765</td>\n",
       "      <td>Int32</td>\n",
       "    </tr>\n",
       "    <tr>\n",
       "      <th>4</th>\n",
       "      <td>F0:08:D1:C8:A7:34</td>\n",
       "      <td>275027a4-b73f-484f-916b-ba69df4b65c4</td>\n",
       "      <td>2022-05-25T13:21:42.5068964Z</td>\n",
       "      <td>2</td>\n",
       "      <td>Int32</td>\n",
       "      <td>5</td>\n",
       "      <td>Int32</td>\n",
       "      <td>0</td>\n",
       "      <td>Int32</td>\n",
       "      <td>0</td>\n",
       "      <td>...</td>\n",
       "      <td>14</td>\n",
       "      <td>Int32</td>\n",
       "      <td>12</td>\n",
       "      <td>Int32</td>\n",
       "      <td>16</td>\n",
       "      <td>Int32</td>\n",
       "      <td>14</td>\n",
       "      <td>Int32</td>\n",
       "      <td>1135</td>\n",
       "      <td>Int32</td>\n",
       "    </tr>\n",
       "    <tr>\n",
       "      <th>5</th>\n",
       "      <td>F0:08:D1:C8:A7:34</td>\n",
       "      <td>397b206d-120f-41b2-875d-5aeb20a71121</td>\n",
       "      <td>2022-05-25T13:20:50.1554834Z</td>\n",
       "      <td>2</td>\n",
       "      <td>Int32</td>\n",
       "      <td>24</td>\n",
       "      <td>Int32</td>\n",
       "      <td>0</td>\n",
       "      <td>Int32</td>\n",
       "      <td>0</td>\n",
       "      <td>...</td>\n",
       "      <td>10</td>\n",
       "      <td>Int32</td>\n",
       "      <td>9</td>\n",
       "      <td>Int32</td>\n",
       "      <td>12</td>\n",
       "      <td>Int32</td>\n",
       "      <td>10</td>\n",
       "      <td>Int32</td>\n",
       "      <td>574</td>\n",
       "      <td>Int32</td>\n",
       "    </tr>\n",
       "    <tr>\n",
       "      <th>6</th>\n",
       "      <td>F0:08:D1:C8:A7:34</td>\n",
       "      <td>4a24c5c6-e4f8-4cff-860c-2f8d754e581b</td>\n",
       "      <td>2022-05-25T13:19:04.2714384Z</td>\n",
       "      <td>2</td>\n",
       "      <td>Int32</td>\n",
       "      <td>15</td>\n",
       "      <td>Int32</td>\n",
       "      <td>0</td>\n",
       "      <td>Int32</td>\n",
       "      <td>0</td>\n",
       "      <td>...</td>\n",
       "      <td>27</td>\n",
       "      <td>Int32</td>\n",
       "      <td>27</td>\n",
       "      <td>Int32</td>\n",
       "      <td>29</td>\n",
       "      <td>Int32</td>\n",
       "      <td>27</td>\n",
       "      <td>Int32</td>\n",
       "      <td>393</td>\n",
       "      <td>Int32</td>\n",
       "    </tr>\n",
       "  </tbody>\n",
       "</table>\n",
       "<p>7 rows × 27 columns</p>\n",
       "</div>"
      ],
      "text/plain": [
       "        PartitionKey                                RowKey  \\\n",
       "0  F0:08:D1:C8:A7:34  06e05b50-bcbf-4fad-a713-c19975ef4b42   \n",
       "1  F0:08:D1:C8:A7:34  0cffb11c-0506-4d8d-8cad-7f2d00053380   \n",
       "2  F0:08:D1:C8:A7:34  11090373-a998-47a1-b8c3-807b4c036d53   \n",
       "3  F0:08:D1:C8:A7:34  13f3867e-2b06-43a9-8843-e3f5245cf925   \n",
       "4  F0:08:D1:C8:A7:34  275027a4-b73f-484f-916b-ba69df4b65c4   \n",
       "5  F0:08:D1:C8:A7:34  397b206d-120f-41b2-875d-5aeb20a71121   \n",
       "6  F0:08:D1:C8:A7:34  4a24c5c6-e4f8-4cff-860c-2f8d754e581b   \n",
       "\n",
       "                      Timestamp  RackRow RackRow@type  Label Label@type  \\\n",
       "0  2022-05-25T13:16:47.9637282Z        2        Int32      3      Int32   \n",
       "1  2022-05-25T13:15:19.5884474Z        2        Int32      2      Int32   \n",
       "2   2022-05-25T13:17:16.801118Z        2        Int32      6      Int32   \n",
       "3  2022-05-25T13:20:12.9485555Z        2        Int32     21      Int32   \n",
       "4  2022-05-25T13:21:42.5068964Z        2        Int32      5      Int32   \n",
       "5  2022-05-25T13:20:50.1554834Z        2        Int32     24      Int32   \n",
       "6  2022-05-25T13:19:04.2714384Z        2        Int32     15      Int32   \n",
       "\n",
       "   WeightPre WeightPre@type  WeightPost  ... DistAvgH  DistAvgH@type DistMinL  \\\n",
       "0          0          Int32           0  ...       28          Int32       27   \n",
       "1          0          Int32           0  ...       33          Int32       32   \n",
       "2          0          Int32           0  ...        9          Int32        9   \n",
       "3          0          Int32           0  ...       29          Int32       29   \n",
       "4          0          Int32           0  ...       14          Int32       12   \n",
       "5          0          Int32           0  ...       10          Int32        9   \n",
       "6          0          Int32           0  ...       27          Int32       27   \n",
       "\n",
       "   DistMinL@type DistMaxL  DistMaxL@type DistAvgL  DistAvgL@type DistTime  \\\n",
       "0          Int32       29          Int32       28          Int32      207   \n",
       "1          Int32       34          Int32       33          Int32     1136   \n",
       "2          Int32       15          Int32       11          Int32      513   \n",
       "3          Int32       30          Int32       29          Int32      765   \n",
       "4          Int32       16          Int32       14          Int32     1135   \n",
       "5          Int32       12          Int32       10          Int32      574   \n",
       "6          Int32       29          Int32       27          Int32      393   \n",
       "\n",
       "   DistTime@type  \n",
       "0          Int32  \n",
       "1          Int32  \n",
       "2          Int32  \n",
       "3          Int32  \n",
       "4          Int32  \n",
       "5          Int32  \n",
       "6          Int32  \n",
       "\n",
       "[7 rows x 27 columns]"
      ]
     },
     "execution_count": 19,
     "metadata": {},
     "output_type": "execute_result"
    }
   ],
   "source": [
    "dataset = pd.read_csv('TestData.csv')\n",
    "print('Dimensie van de dataset:',dataset.shape)\n",
    "dataset.head(7)"
   ]
  },
  {
   "cell_type": "code",
   "execution_count": 20,
   "metadata": {},
   "outputs": [
    {
     "data": {
      "text/html": [
       "<div>\n",
       "<style scoped>\n",
       "    .dataframe tbody tr th:only-of-type {\n",
       "        vertical-align: middle;\n",
       "    }\n",
       "\n",
       "    .dataframe tbody tr th {\n",
       "        vertical-align: top;\n",
       "    }\n",
       "\n",
       "    .dataframe thead th {\n",
       "        text-align: right;\n",
       "    }\n",
       "</style>\n",
       "<table border=\"1\" class=\"dataframe\">\n",
       "  <thead>\n",
       "    <tr style=\"text-align: right;\">\n",
       "      <th></th>\n",
       "      <th>DistMinH</th>\n",
       "      <th>DistMaxH</th>\n",
       "      <th>DistAvgH</th>\n",
       "      <th>DistMinL</th>\n",
       "      <th>DistMaxL</th>\n",
       "      <th>DistAvgL</th>\n",
       "      <th>DistTime</th>\n",
       "    </tr>\n",
       "  </thead>\n",
       "  <tbody>\n",
       "    <tr>\n",
       "      <th>0</th>\n",
       "      <td>27</td>\n",
       "      <td>29</td>\n",
       "      <td>28</td>\n",
       "      <td>27</td>\n",
       "      <td>29</td>\n",
       "      <td>28</td>\n",
       "      <td>207</td>\n",
       "    </tr>\n",
       "    <tr>\n",
       "      <th>1</th>\n",
       "      <td>32</td>\n",
       "      <td>34</td>\n",
       "      <td>33</td>\n",
       "      <td>32</td>\n",
       "      <td>34</td>\n",
       "      <td>33</td>\n",
       "      <td>1136</td>\n",
       "    </tr>\n",
       "    <tr>\n",
       "      <th>2</th>\n",
       "      <td>9</td>\n",
       "      <td>10</td>\n",
       "      <td>9</td>\n",
       "      <td>9</td>\n",
       "      <td>15</td>\n",
       "      <td>11</td>\n",
       "      <td>513</td>\n",
       "    </tr>\n",
       "    <tr>\n",
       "      <th>3</th>\n",
       "      <td>29</td>\n",
       "      <td>30</td>\n",
       "      <td>29</td>\n",
       "      <td>29</td>\n",
       "      <td>30</td>\n",
       "      <td>29</td>\n",
       "      <td>765</td>\n",
       "    </tr>\n",
       "    <tr>\n",
       "      <th>4</th>\n",
       "      <td>12</td>\n",
       "      <td>16</td>\n",
       "      <td>14</td>\n",
       "      <td>12</td>\n",
       "      <td>16</td>\n",
       "      <td>14</td>\n",
       "      <td>1135</td>\n",
       "    </tr>\n",
       "    <tr>\n",
       "      <th>5</th>\n",
       "      <td>9</td>\n",
       "      <td>12</td>\n",
       "      <td>10</td>\n",
       "      <td>9</td>\n",
       "      <td>12</td>\n",
       "      <td>10</td>\n",
       "      <td>574</td>\n",
       "    </tr>\n",
       "    <tr>\n",
       "      <th>6</th>\n",
       "      <td>27</td>\n",
       "      <td>29</td>\n",
       "      <td>27</td>\n",
       "      <td>27</td>\n",
       "      <td>29</td>\n",
       "      <td>27</td>\n",
       "      <td>393</td>\n",
       "    </tr>\n",
       "  </tbody>\n",
       "</table>\n",
       "</div>"
      ],
      "text/plain": [
       "   DistMinH  DistMaxH  DistAvgH  DistMinL  DistMaxL  DistAvgL  DistTime\n",
       "0        27        29        28        27        29        28       207\n",
       "1        32        34        33        32        34        33      1136\n",
       "2         9        10         9         9        15        11       513\n",
       "3        29        30        29        29        30        29       765\n",
       "4        12        16        14        12        16        14      1135\n",
       "5         9        12        10         9        12        10       574\n",
       "6        27        29        27        27        29        27       393"
      ]
     },
     "execution_count": 20,
     "metadata": {},
     "output_type": "execute_result"
    }
   ],
   "source": [
    "# uitwerking van de opdracht: \n",
    "\n",
    "#comments kolom verwijderen\n",
    "# verwijder kollomen die niet relevant zijn met model (id's,types)\n",
    "dataset.drop(['PartitionKey','RowKey','Timestamp','RackRow',],axis=1,inplace=True)\n",
    "dataset.drop('RackRow@type',axis=1,inplace=True)\n",
    "dataset.drop('Label',axis=1,inplace=True)\n",
    "dataset.drop('Label@type',axis=1,inplace=True)\n",
    "\n",
    "# verwijder kollomen weight \n",
    "dataset.drop(['WeightPre','WeightPre@type','WeightPost','WeightPost@type', 'WeightDiff','WeightDiff@type'],axis=1,inplace=True)\n",
    "\n",
    "\n",
    "#verwijder kollomen distance\n",
    "dataset.drop(['DistMinH@type','DistMaxH@type','DistAvgH@type','DistMinL@type', 'DistMaxL@type','DistAvgL@type', 'DistTime@type'],axis=1,inplace=True)\n",
    "\n",
    "\n",
    "# #one hot encoding\n",
    "# dataset = pd.concat([dataset,pd.get_dummies(dataset['RackRow'], prefix='RackRow')],axis=1)\n",
    "# dataset.drop(['RackRow'],axis=1, inplace=True)\n",
    "\n",
    "\n",
    "\n",
    "\n",
    "\n",
    "dataset.head(7)"
   ]
  },
  {
   "cell_type": "code",
   "execution_count": 21,
   "metadata": {},
   "outputs": [
    {
     "data": {
      "text/html": [
       "<div>\n",
       "<style scoped>\n",
       "    .dataframe tbody tr th:only-of-type {\n",
       "        vertical-align: middle;\n",
       "    }\n",
       "\n",
       "    .dataframe tbody tr th {\n",
       "        vertical-align: top;\n",
       "    }\n",
       "\n",
       "    .dataframe thead th {\n",
       "        text-align: right;\n",
       "    }\n",
       "</style>\n",
       "<table border=\"1\" class=\"dataframe\">\n",
       "  <thead>\n",
       "    <tr style=\"text-align: right;\">\n",
       "      <th></th>\n",
       "      <th>bovenkant_krat</th>\n",
       "      <th>DistMinH</th>\n",
       "      <th>DistMaxH</th>\n",
       "      <th>DistAvgH</th>\n",
       "      <th>DistMinL</th>\n",
       "      <th>DistMaxL</th>\n",
       "      <th>DistAvgL</th>\n",
       "      <th>DistTime</th>\n",
       "    </tr>\n",
       "  </thead>\n",
       "  <tbody>\n",
       "    <tr>\n",
       "      <th>0</th>\n",
       "      <td>1</td>\n",
       "      <td>27</td>\n",
       "      <td>29</td>\n",
       "      <td>28</td>\n",
       "      <td>27</td>\n",
       "      <td>29</td>\n",
       "      <td>28</td>\n",
       "      <td>207</td>\n",
       "    </tr>\n",
       "    <tr>\n",
       "      <th>1</th>\n",
       "      <td>1</td>\n",
       "      <td>32</td>\n",
       "      <td>34</td>\n",
       "      <td>33</td>\n",
       "      <td>32</td>\n",
       "      <td>34</td>\n",
       "      <td>33</td>\n",
       "      <td>1136</td>\n",
       "    </tr>\n",
       "    <tr>\n",
       "      <th>2</th>\n",
       "      <td>0</td>\n",
       "      <td>9</td>\n",
       "      <td>10</td>\n",
       "      <td>9</td>\n",
       "      <td>9</td>\n",
       "      <td>15</td>\n",
       "      <td>11</td>\n",
       "      <td>513</td>\n",
       "    </tr>\n",
       "    <tr>\n",
       "      <th>3</th>\n",
       "      <td>1</td>\n",
       "      <td>29</td>\n",
       "      <td>30</td>\n",
       "      <td>29</td>\n",
       "      <td>29</td>\n",
       "      <td>30</td>\n",
       "      <td>29</td>\n",
       "      <td>765</td>\n",
       "    </tr>\n",
       "    <tr>\n",
       "      <th>4</th>\n",
       "      <td>0</td>\n",
       "      <td>12</td>\n",
       "      <td>16</td>\n",
       "      <td>14</td>\n",
       "      <td>12</td>\n",
       "      <td>16</td>\n",
       "      <td>14</td>\n",
       "      <td>1135</td>\n",
       "    </tr>\n",
       "    <tr>\n",
       "      <th>5</th>\n",
       "      <td>0</td>\n",
       "      <td>9</td>\n",
       "      <td>12</td>\n",
       "      <td>10</td>\n",
       "      <td>9</td>\n",
       "      <td>12</td>\n",
       "      <td>10</td>\n",
       "      <td>574</td>\n",
       "    </tr>\n",
       "    <tr>\n",
       "      <th>6</th>\n",
       "      <td>1</td>\n",
       "      <td>27</td>\n",
       "      <td>29</td>\n",
       "      <td>27</td>\n",
       "      <td>27</td>\n",
       "      <td>29</td>\n",
       "      <td>27</td>\n",
       "      <td>393</td>\n",
       "    </tr>\n",
       "    <tr>\n",
       "      <th>7</th>\n",
       "      <td>1</td>\n",
       "      <td>37</td>\n",
       "      <td>37</td>\n",
       "      <td>37</td>\n",
       "      <td>37</td>\n",
       "      <td>37</td>\n",
       "      <td>37</td>\n",
       "      <td>25</td>\n",
       "    </tr>\n",
       "    <tr>\n",
       "      <th>8</th>\n",
       "      <td>1</td>\n",
       "      <td>32</td>\n",
       "      <td>35</td>\n",
       "      <td>33</td>\n",
       "      <td>32</td>\n",
       "      <td>35</td>\n",
       "      <td>33</td>\n",
       "      <td>584</td>\n",
       "    </tr>\n",
       "    <tr>\n",
       "      <th>9</th>\n",
       "      <td>1</td>\n",
       "      <td>39</td>\n",
       "      <td>41</td>\n",
       "      <td>40</td>\n",
       "      <td>39</td>\n",
       "      <td>41</td>\n",
       "      <td>40</td>\n",
       "      <td>766</td>\n",
       "    </tr>\n",
       "  </tbody>\n",
       "</table>\n",
       "</div>"
      ],
      "text/plain": [
       "   bovenkant_krat  DistMinH  DistMaxH  DistAvgH  DistMinL  DistMaxL  DistAvgL  \\\n",
       "0               1        27        29        28        27        29        28   \n",
       "1               1        32        34        33        32        34        33   \n",
       "2               0         9        10         9         9        15        11   \n",
       "3               1        29        30        29        29        30        29   \n",
       "4               0        12        16        14        12        16        14   \n",
       "5               0         9        12        10         9        12        10   \n",
       "6               1        27        29        27        27        29        27   \n",
       "7               1        37        37        37        37        37        37   \n",
       "8               1        32        35        33        32        35        33   \n",
       "9               1        39        41        40        39        41        40   \n",
       "\n",
       "   DistTime  \n",
       "0       207  \n",
       "1      1136  \n",
       "2       513  \n",
       "3       765  \n",
       "4      1135  \n",
       "5       574  \n",
       "6       393  \n",
       "7        25  \n",
       "8       584  \n",
       "9       766  "
      ]
     },
     "execution_count": 21,
     "metadata": {},
     "output_type": "execute_result"
    }
   ],
   "source": [
    "# Toevoegen van 'kant_krat_links' kolom op basis van DistAvgH\n",
    "dataset.insert(0,'bovenkant_krat', dataset['DistAvgH'])\n",
    "\n",
    "#DistAvgL waarden\n",
    "\n",
    "dataset['bovenkant_krat'].values[dataset['DistAvgH'] < 20] = 0\n",
    "dataset['bovenkant_krat'].values[dataset['DistAvgH'] >= 20] = 1\n",
    "\n",
    "dataset.head(10)"
   ]
  },
  {
   "cell_type": "code",
   "execution_count": 22,
   "metadata": {},
   "outputs": [
    {
     "data": {
      "text/plain": [
       "Text(0.5, 1.0, 'bovenkant_krat')"
      ]
     },
     "execution_count": 22,
     "metadata": {},
     "output_type": "execute_result"
    },
    {
     "data": {
      "image/png": "[encoded data removed]",
      "text/plain": [
       "<Figure size 432x288 with 1 Axes>"
      ]
     },
     "metadata": {
      "needs_background": "light"
     },
     "output_type": "display_data"
    }
   ],
   "source": [
    "# gebalanceerdheid controleren\n",
    "sns.countplot(data=dataset, x=\"bovenkant_krat\")\n",
    "plt.title('bovenkant_krat')"
   ]
  },
  {
   "cell_type": "code",
   "execution_count": 23,
   "metadata": {},
   "outputs": [
    {
     "name": "stdout",
     "output_type": "stream",
     "text": [
      "bovenkant_krat    0\n",
      "DistMinH          0\n",
      "DistMaxH          0\n",
      "DistAvgH          0\n",
      "DistMinL          0\n",
      "DistMaxL          0\n",
      "DistAvgL          0\n",
      "DistTime          0\n",
      "dtype: int64\n"
     ]
    },
    {
     "data": {
      "text/plain": [
       "<AxesSubplot:>"
      ]
     },
     "execution_count": 23,
     "metadata": {},
     "output_type": "execute_result"
    },
    {
     "data": {
      "image/png": "[encoded data removed]",
      "text/plain": [
       "<Figure size 1800x720 with 2 Axes>"
      ]
     },
     "metadata": {
      "needs_background": "light"
     },
     "output_type": "display_data"
    }
   ],
   "source": [
    "# Opsporen van ontbrekende waarden\n",
    "\n",
    "missing_values_count = dataset.isnull().sum()\n",
    "print(missing_values_count)\n",
    "msno.matrix(dataset)"
   ]
  },
  {
   "cell_type": "code",
   "execution_count": 24,
   "metadata": {},
   "outputs": [
    {
     "name": "stderr",
     "output_type": "stream",
     "text": [
      "C:\\Users\\domin\\AppData\\Local\\Temp\\ipykernel_26468\\904895116.py:8: DeprecationWarning: `np.bool` is a deprecated alias for the builtin `bool`. To silence this warning, use `bool` by itself. Doing this will not modify any behavior and is safe. If you specifically wanted the numpy scalar type, use `np.bool_` here.\n",
      "Deprecated in NumPy 1.20; for more details and guidance: https://numpy.org/devdocs/release/1.20.0-notes.html#deprecations\n",
      "  sns.heatmap(corr, mask=np.zeros_like(corr, dtype=np.bool), cmap=sns.diverging_palette(220, 10, as_cmap=True),\n"
     ]
    },
    {
     "data": {
      "text/plain": [
       "<AxesSubplot:>"
      ]
     },
     "execution_count": 24,
     "metadata": {},
     "output_type": "execute_result"
    },
    {
     "data": {
      "image/png": "[encoded data removed]",
      "text/plain": [
       "<Figure size 720x576 with 2 Axes>"
      ]
     },
     "metadata": {
      "needs_background": "light"
     },
     "output_type": "display_data"
    }
   ],
   "source": [
    "# Lineaire correlatie tussen de features - heatmap\n",
    "\n",
    "dataset.corr()\n",
    "\n",
    "# Visualiseer de onderlinge correlatiecoëfficiënten\n",
    "f, ax = plt.subplots(figsize=(10, 8))\n",
    "corr = dataset.corr()\n",
    "sns.heatmap(corr, mask=np.zeros_like(corr, dtype=np.bool), cmap=sns.diverging_palette(220, 10, as_cmap=True),\n",
    "            square=True, ax=ax,annot=True)"
   ]
  },
  {
   "cell_type": "code",
   "execution_count": 25,
   "metadata": {},
   "outputs": [
    {
     "name": "stdout",
     "output_type": "stream",
     "text": [
      "(29, 7)\n",
      "(29,)\n"
     ]
    }
   ],
   "source": [
    "# Opsplitsen in features en targets\n",
    "y = dataset['bovenkant_krat'].values\n",
    "X = dataset.drop(['bovenkant_krat'], axis = 1).values\n",
    "\n",
    "print(X.shape)\n",
    "print(y.shape)\n",
    "\n",
    "\n",
    "\n",
    "#1 lijst met 333 waarden, 10 features"
   ]
  },
  {
   "cell_type": "code",
   "execution_count": 26,
   "metadata": {},
   "outputs": [
    {
     "name": "stdout",
     "output_type": "stream",
     "text": [
      "(19, 7)\n",
      "(10, 7)\n"
     ]
    }
   ],
   "source": [
    "# Opsplitsen/opdelen in training set en test set\n",
    "X_train, X_test, y_train, y_test = train_test_split(X, y, test_size=0.33, random_state=0)\n",
    "\n",
    "#training set\n",
    "print(X_train.shape)\n",
    "\n",
    "#test set\n",
    "print(X_test.shape)"
   ]
  },
  {
   "cell_type": "code",
   "execution_count": 27,
   "metadata": {},
   "outputs": [],
   "source": [
    "# Normaliseren / scaling van de training set en de test set\n",
    "\n",
    "# Om conversion warning te vermijden:\n",
    "X_train = X_train.astype('float64')\n",
    "X_test = X_test.astype('float64')\n",
    "\n",
    "\n",
    "scaler = StandardScaler() #scalen\n",
    "scaler.fit(X_train)\n",
    "\n",
    "X_train = scaler.transform(X_train)\n",
    "X_test = scaler.transform(X_test)"
   ]
  },
  {
   "cell_type": "code",
   "execution_count": 28,
   "metadata": {},
   "outputs": [
    {
     "data": {
      "text/plain": [
       "array([-0.29092512, -0.1606592 , -0.24354051, -0.31179979, -0.17375559,\n",
       "       -0.26386824, -0.4816289 ])"
      ]
     },
     "execution_count": 28,
     "metadata": {},
     "output_type": "execute_result"
    }
   ],
   "source": [
    "X_train[1]"
   ]
  },
  {
   "cell_type": "code",
   "execution_count": 29,
   "metadata": {},
   "outputs": [
    {
     "name": "stdout",
     "output_type": "stream",
     "text": [
      "coefficiënten:  [[12.40662761  4.6730876   0.73644586 -9.82279499 -7.92540634  2.57482714\n",
      "   0.01477926]]\n",
      "intercept: [-50.61631926]\n"
     ]
    },
    {
     "name": "stderr",
     "output_type": "stream",
     "text": [
      "C:\\Users\\domin\\AppData\\Local\\Programs\\Python\\Python310\\lib\\site-packages\\sklearn\\linear_model\\_logistic.py:814: ConvergenceWarning: lbfgs failed to converge (status=1):\n",
      "STOP: TOTAL NO. of ITERATIONS REACHED LIMIT.\n",
      "\n",
      "Increase the number of iterations (max_iter) or scale the data as shown in:\n",
      "    https://scikit-learn.org/stable/modules/preprocessing.html\n",
      "Please also refer to the documentation for alternative solver options:\n",
      "    https://scikit-learn.org/stable/modules/linear_model.html#logistic-regression\n",
      "  n_iter_i = _check_optimize_result(\n"
     ]
    }
   ],
   "source": [
    "# Train een logistic regression classifier\n",
    "\n",
    "logreg = linear_model.LogisticRegression(C=1e3, solver='lbfgs') # C= Inverse of regularization strength;\n",
    "                                                # must be a positive float. Like in support vector machines,\n",
    "                                                # smaller values specify stronger regularization.\n",
    "logreg.fit(X, y)\n",
    "\n",
    "print('coefficiënten: ',logreg.coef_)\n",
    "print('intercept:',logreg.intercept_)"
   ]
  },
  {
   "cell_type": "code",
   "execution_count": 30,
   "metadata": {
    "scrolled": true
   },
   "outputs": [
    {
     "name": "stdout",
     "output_type": "stream",
     "text": [
      "              precision    recall  f1-score   support\n",
      "\n",
      "           0       0.40      1.00      0.57         4\n",
      "           1       0.00      0.00      0.00         6\n",
      "\n",
      "    accuracy                           0.40        10\n",
      "   macro avg       0.20      0.50      0.29        10\n",
      "weighted avg       0.16      0.40      0.23        10\n",
      "\n",
      "40.0\n",
      "[[4 0]\n",
      " [6 0]]\n"
     ]
    },
    {
     "name": "stderr",
     "output_type": "stream",
     "text": [
      "C:\\Users\\domin\\AppData\\Local\\Programs\\Python\\Python310\\lib\\site-packages\\sklearn\\metrics\\_classification.py:1318: UndefinedMetricWarning: Precision and F-score are ill-defined and being set to 0.0 in labels with no predicted samples. Use `zero_division` parameter to control this behavior.\n",
      "  _warn_prf(average, modifier, msg_start, len(result))\n",
      "C:\\Users\\domin\\AppData\\Local\\Programs\\Python\\Python310\\lib\\site-packages\\sklearn\\metrics\\_classification.py:1318: UndefinedMetricWarning: Precision and F-score are ill-defined and being set to 0.0 in labels with no predicted samples. Use `zero_division` parameter to control this behavior.\n",
      "  _warn_prf(average, modifier, msg_start, len(result))\n",
      "C:\\Users\\domin\\AppData\\Local\\Programs\\Python\\Python310\\lib\\site-packages\\sklearn\\metrics\\_classification.py:1318: UndefinedMetricWarning: Precision and F-score are ill-defined and being set to 0.0 in labels with no predicted samples. Use `zero_division` parameter to control this behavior.\n",
      "  _warn_prf(average, modifier, msg_start, len(result))\n"
     ]
    }
   ],
   "source": [
    "# testen van de logistic regression classifier\n",
    "\n",
    "y_pred = logreg.predict(X_test)\n",
    "\n",
    "print(classification_report(y_test,y_pred))\n",
    "\n",
    "print(accuracy_score(y_test,y_pred)*100)\n",
    "\n",
    "print(confusion_matrix(y_test,y_pred))"
   ]
  },
  {
   "cell_type": "code",
   "execution_count": 31,
   "metadata": {},
   "outputs": [
    {
     "data": {
      "image/png": "[encoded data removed]",
      "text/plain": [
       "<Figure size 432x288 with 1 Axes>"
      ]
     },
     "metadata": {
      "needs_background": "light"
     },
     "output_type": "display_data"
    }
   ],
   "source": [
    "# ROC\n",
    "\n",
    "import sklearn.metrics as metrics\n",
    "# calculate the fpr and tpr for all thresholds of the classification\n",
    "probs = logreg.predict_proba(X_test)\n",
    "preds = probs[:,1]\n",
    "fpr, tpr, threshold = metrics.roc_curve(y_test, preds)\n",
    "roc_auc = metrics.auc(fpr, tpr)\n",
    "\n",
    "# method I: plt\n",
    "import matplotlib.pyplot as plt\n",
    "plt.title('Receiver Operating Characteristic')\n",
    "plt.plot(fpr, tpr, 'b', label = 'AUC = %0.2f' % roc_auc)\n",
    "plt.legend(loc = 'lower right')\n",
    "plt.plot([0, 1], [0, 1],'r--')\n",
    "plt.xlim([0, 1])\n",
    "plt.ylim([0, 1])\n",
    "plt.ylabel('True Positive Rate')\n",
    "plt.xlabel('False Positive Rate')\n",
    "plt.show()"
   ]
  },
  {
   "cell_type": "code",
   "execution_count": 32,
   "metadata": {},
   "outputs": [
    {
     "name": "stdout",
     "output_type": "stream",
     "text": [
      "[[1.00000000e+00 3.80817839e-26]\n",
      " [1.00000000e+00 8.39237956e-22]\n",
      " [1.00000000e+00 1.68005216e-21]\n",
      " [1.00000000e+00 1.16218414e-24]\n",
      " [1.00000000e+00 3.61967808e-21]\n",
      " [1.00000000e+00 3.28008590e-21]\n",
      " [1.00000000e+00 2.23160670e-21]\n",
      " [1.00000000e+00 3.02063813e-23]\n",
      " [1.00000000e+00 1.52257857e-24]\n",
      " [1.00000000e+00 7.72601019e-25]]\n"
     ]
    }
   ],
   "source": [
    "#probability prediciton van ROC\n",
    "print(probs)"
   ]
  },
  {
   "cell_type": "code",
   "execution_count": 40,
   "metadata": {},
   "outputs": [
    {
     "name": "stdout",
     "output_type": "stream",
     "text": [
      "dimensie van X_train_poly:  (19, 330)\n",
      "dimensie van X_test_poly:  (10, 330)\n",
      "R2 score op test set via L2:  0.8949627355076603\n",
      "R2 score op training set via L2:  0.7657424008318878\n",
      "R2 score op test set via L1:  0.883829226769009\n",
      "R2 score op training set via L1:  0.6432372180143754\n"
     ]
    }
   ],
   "source": [
    "# Toevoegen van extra features\n",
    "# Modeloptimalisatie en Hyperparameter tuning\n",
    "# Automatisch toevoegen van hogere orde features\n",
    "\n",
    "from sklearn.preprocessing import PolynomialFeatures\n",
    "\n",
    "\n",
    "# Aanmaken van de hogere orde features\n",
    "graad = 4\n",
    "\n",
    "poly = PolynomialFeatures(graad)\n",
    "poly.fit(X_train)\n",
    "X_train_poly = poly.transform(X_train)\n",
    "X_test_poly = poly.transform(X_test)\n",
    "print('dimensie van X_train_poly: ',X_train_poly.shape)\n",
    "print('dimensie van X_test_poly: ',X_test_poly.shape)\n",
    "\n",
    "#scalen (optioneel?)\n",
    "scaler_poly = StandardScaler()\n",
    "scaler_poly.fit(X_train_poly)\n",
    "\n",
    "X_train_poly = scaler_poly.transform(X_train_poly)\n",
    "X_test_poly = scaler_poly.transform(X_test_poly)\n",
    "\n",
    "\n",
    "# met L2 regularisatie via Ridge regression\n",
    "lregmodel_poly = Ridge(alpha=20,tol=0.01,fit_intercept=True)\n",
    "lregmodel_poly.fit(X_train_poly,y_train)\n",
    "\n",
    "print('R2 score op test set via L2: ',lregmodel_poly.score(X_test_poly,y_test))\n",
    "# R2 -score via L2 op de trainingset\n",
    "print('R2 score op training set via L2: ',lregmodel_poly.score(X_train_poly,y_train))\n",
    "\n",
    "\n",
    "# met L1 regularisatie via Lasso regression\n",
    "lregmodel_poly = Lasso(alpha=0.1,tol=0.01,fit_intercept=True)\n",
    "lregmodel_poly.fit(X_train_poly,y_train)      \n",
    "  \n",
    "      \n",
    "print('R2 score op test set via L1: ',lregmodel_poly.score(X_test_poly,y_test))\n",
    "  \n",
    "# R2 -score via L1 op de trainingset\n",
    "print('R2 score op training set via L1: ',lregmodel_poly.score(X_train_poly,y_train)) "
   ]
  },
  {
   "cell_type": "code",
   "execution_count": 34,
   "metadata": {},
   "outputs": [],
   "source": [
    "#R2- score op trainingsets: 0.76 en 0.64"
   ]
  },
  {
   "cell_type": "markdown",
   "metadata": {},
   "source": [
    "## Opdracht 3.  Star Wars\n",
    "\n",
    "Train een logistic regression classifier aan de hand van de dataset 'StarWars.csv') om te voorspellen of iemand al dan niet een Star Wars fan is.\n",
    "Gebruik one-hot encondig waar nodig. Zorg ervoor dat de test set uit minstens 200 samples bestaat.\n",
    "Evalueer de getrainde classifier via de geziene metrics en bespreek de resultaten."
   ]
  },
  {
   "cell_type": "code",
   "execution_count": 35,
   "metadata": {
    "scrolled": false
   },
   "outputs": [
    {
     "ename": "FileNotFoundError",
     "evalue": "[Errno 2] No such file or directory: 'StarWars.csv'",
     "output_type": "error",
     "traceback": [
      "\u001b[1;31m---------------------------------------------------------------------------\u001b[0m",
      "\u001b[1;31mFileNotFoundError\u001b[0m                         Traceback (most recent call last)",
      "Input \u001b[1;32mIn [35]\u001b[0m, in \u001b[0;36m<cell line: 1>\u001b[1;34m()\u001b[0m\n\u001b[1;32m----> 1\u001b[0m dataset \u001b[38;5;241m=\u001b[39m \u001b[43mpd\u001b[49m\u001b[38;5;241;43m.\u001b[39;49m\u001b[43mread_csv\u001b[49m\u001b[43m(\u001b[49m\u001b[38;5;124;43m'\u001b[39;49m\u001b[38;5;124;43mStarWars.csv\u001b[39;49m\u001b[38;5;124;43m'\u001b[39;49m\u001b[43m)\u001b[49m\n\u001b[0;32m      2\u001b[0m dataset\u001b[38;5;241m.\u001b[39mhead(\u001b[38;5;241m35\u001b[39m)\n",
      "File \u001b[1;32m~\\AppData\\Local\\Programs\\Python\\Python310\\lib\\site-packages\\pandas\\util\\_decorators.py:311\u001b[0m, in \u001b[0;36mdeprecate_nonkeyword_arguments.<locals>.decorate.<locals>.wrapper\u001b[1;34m(*args, **kwargs)\u001b[0m\n\u001b[0;32m    305\u001b[0m \u001b[38;5;28;01mif\u001b[39;00m \u001b[38;5;28mlen\u001b[39m(args) \u001b[38;5;241m>\u001b[39m num_allow_args:\n\u001b[0;32m    306\u001b[0m     warnings\u001b[38;5;241m.\u001b[39mwarn(\n\u001b[0;32m    307\u001b[0m         msg\u001b[38;5;241m.\u001b[39mformat(arguments\u001b[38;5;241m=\u001b[39marguments),\n\u001b[0;32m    308\u001b[0m         \u001b[38;5;167;01mFutureWarning\u001b[39;00m,\n\u001b[0;32m    309\u001b[0m         stacklevel\u001b[38;5;241m=\u001b[39mstacklevel,\n\u001b[0;32m    310\u001b[0m     )\n\u001b[1;32m--> 311\u001b[0m \u001b[38;5;28;01mreturn\u001b[39;00m func(\u001b[38;5;241m*\u001b[39margs, \u001b[38;5;241m*\u001b[39m\u001b[38;5;241m*\u001b[39mkwargs)\n",
      "File \u001b[1;32m~\\AppData\\Local\\Programs\\Python\\Python310\\lib\\site-packages\\pandas\\io\\parsers\\readers.py:680\u001b[0m, in \u001b[0;36mread_csv\u001b[1;34m(filepath_or_buffer, sep, delimiter, header, names, index_col, usecols, squeeze, prefix, mangle_dupe_cols, dtype, engine, converters, true_values, false_values, skipinitialspace, skiprows, skipfooter, nrows, na_values, keep_default_na, na_filter, verbose, skip_blank_lines, parse_dates, infer_datetime_format, keep_date_col, date_parser, dayfirst, cache_dates, iterator, chunksize, compression, thousands, decimal, lineterminator, quotechar, quoting, doublequote, escapechar, comment, encoding, encoding_errors, dialect, error_bad_lines, warn_bad_lines, on_bad_lines, delim_whitespace, low_memory, memory_map, float_precision, storage_options)\u001b[0m\n\u001b[0;32m    665\u001b[0m kwds_defaults \u001b[38;5;241m=\u001b[39m _refine_defaults_read(\n\u001b[0;32m    666\u001b[0m     dialect,\n\u001b[0;32m    667\u001b[0m     delimiter,\n\u001b[1;32m   (...)\u001b[0m\n\u001b[0;32m    676\u001b[0m     defaults\u001b[38;5;241m=\u001b[39m{\u001b[38;5;124m\"\u001b[39m\u001b[38;5;124mdelimiter\u001b[39m\u001b[38;5;124m\"\u001b[39m: \u001b[38;5;124m\"\u001b[39m\u001b[38;5;124m,\u001b[39m\u001b[38;5;124m\"\u001b[39m},\n\u001b[0;32m    677\u001b[0m )\n\u001b[0;32m    678\u001b[0m kwds\u001b[38;5;241m.\u001b[39mupdate(kwds_defaults)\n\u001b[1;32m--> 680\u001b[0m \u001b[38;5;28;01mreturn\u001b[39;00m \u001b[43m_read\u001b[49m\u001b[43m(\u001b[49m\u001b[43mfilepath_or_buffer\u001b[49m\u001b[43m,\u001b[49m\u001b[43m \u001b[49m\u001b[43mkwds\u001b[49m\u001b[43m)\u001b[49m\n",
      "File \u001b[1;32m~\\AppData\\Local\\Programs\\Python\\Python310\\lib\\site-packages\\pandas\\io\\parsers\\readers.py:575\u001b[0m, in \u001b[0;36m_read\u001b[1;34m(filepath_or_buffer, kwds)\u001b[0m\n\u001b[0;32m    572\u001b[0m _validate_names(kwds\u001b[38;5;241m.\u001b[39mget(\u001b[38;5;124m\"\u001b[39m\u001b[38;5;124mnames\u001b[39m\u001b[38;5;124m\"\u001b[39m, \u001b[38;5;28;01mNone\u001b[39;00m))\n\u001b[0;32m    574\u001b[0m \u001b[38;5;66;03m# Create the parser.\u001b[39;00m\n\u001b[1;32m--> 575\u001b[0m parser \u001b[38;5;241m=\u001b[39m TextFileReader(filepath_or_buffer, \u001b[38;5;241m*\u001b[39m\u001b[38;5;241m*\u001b[39mkwds)\n\u001b[0;32m    577\u001b[0m \u001b[38;5;28;01mif\u001b[39;00m chunksize \u001b[38;5;129;01mor\u001b[39;00m iterator:\n\u001b[0;32m    578\u001b[0m     \u001b[38;5;28;01mreturn\u001b[39;00m parser\n",
      "File \u001b[1;32m~\\AppData\\Local\\Programs\\Python\\Python310\\lib\\site-packages\\pandas\\io\\parsers\\readers.py:933\u001b[0m, in \u001b[0;36mTextFileReader.__init__\u001b[1;34m(self, f, engine, **kwds)\u001b[0m\n\u001b[0;32m    930\u001b[0m     \u001b[38;5;28mself\u001b[39m\u001b[38;5;241m.\u001b[39moptions[\u001b[38;5;124m\"\u001b[39m\u001b[38;5;124mhas_index_names\u001b[39m\u001b[38;5;124m\"\u001b[39m] \u001b[38;5;241m=\u001b[39m kwds[\u001b[38;5;124m\"\u001b[39m\u001b[38;5;124mhas_index_names\u001b[39m\u001b[38;5;124m\"\u001b[39m]\n\u001b[0;32m    932\u001b[0m \u001b[38;5;28mself\u001b[39m\u001b[38;5;241m.\u001b[39mhandles: IOHandles \u001b[38;5;241m|\u001b[39m \u001b[38;5;28;01mNone\u001b[39;00m \u001b[38;5;241m=\u001b[39m \u001b[38;5;28;01mNone\u001b[39;00m\n\u001b[1;32m--> 933\u001b[0m \u001b[38;5;28mself\u001b[39m\u001b[38;5;241m.\u001b[39m_engine \u001b[38;5;241m=\u001b[39m \u001b[38;5;28;43mself\u001b[39;49m\u001b[38;5;241;43m.\u001b[39;49m\u001b[43m_make_engine\u001b[49m\u001b[43m(\u001b[49m\u001b[43mf\u001b[49m\u001b[43m,\u001b[49m\u001b[43m \u001b[49m\u001b[38;5;28;43mself\u001b[39;49m\u001b[38;5;241;43m.\u001b[39;49m\u001b[43mengine\u001b[49m\u001b[43m)\u001b[49m\n",
      "File \u001b[1;32m~\\AppData\\Local\\Programs\\Python\\Python310\\lib\\site-packages\\pandas\\io\\parsers\\readers.py:1217\u001b[0m, in \u001b[0;36mTextFileReader._make_engine\u001b[1;34m(self, f, engine)\u001b[0m\n\u001b[0;32m   1213\u001b[0m     mode \u001b[38;5;241m=\u001b[39m \u001b[38;5;124m\"\u001b[39m\u001b[38;5;124mrb\u001b[39m\u001b[38;5;124m\"\u001b[39m\n\u001b[0;32m   1214\u001b[0m \u001b[38;5;66;03m# error: No overload variant of \"get_handle\" matches argument types\u001b[39;00m\n\u001b[0;32m   1215\u001b[0m \u001b[38;5;66;03m# \"Union[str, PathLike[str], ReadCsvBuffer[bytes], ReadCsvBuffer[str]]\"\u001b[39;00m\n\u001b[0;32m   1216\u001b[0m \u001b[38;5;66;03m# , \"str\", \"bool\", \"Any\", \"Any\", \"Any\", \"Any\", \"Any\"\u001b[39;00m\n\u001b[1;32m-> 1217\u001b[0m \u001b[38;5;28mself\u001b[39m\u001b[38;5;241m.\u001b[39mhandles \u001b[38;5;241m=\u001b[39m \u001b[43mget_handle\u001b[49m\u001b[43m(\u001b[49m\u001b[43m  \u001b[49m\u001b[38;5;66;43;03m# type: ignore[call-overload]\u001b[39;49;00m\n\u001b[0;32m   1218\u001b[0m \u001b[43m    \u001b[49m\u001b[43mf\u001b[49m\u001b[43m,\u001b[49m\n\u001b[0;32m   1219\u001b[0m \u001b[43m    \u001b[49m\u001b[43mmode\u001b[49m\u001b[43m,\u001b[49m\n\u001b[0;32m   1220\u001b[0m \u001b[43m    \u001b[49m\u001b[43mencoding\u001b[49m\u001b[38;5;241;43m=\u001b[39;49m\u001b[38;5;28;43mself\u001b[39;49m\u001b[38;5;241;43m.\u001b[39;49m\u001b[43moptions\u001b[49m\u001b[38;5;241;43m.\u001b[39;49m\u001b[43mget\u001b[49m\u001b[43m(\u001b[49m\u001b[38;5;124;43m\"\u001b[39;49m\u001b[38;5;124;43mencoding\u001b[39;49m\u001b[38;5;124;43m\"\u001b[39;49m\u001b[43m,\u001b[49m\u001b[43m \u001b[49m\u001b[38;5;28;43;01mNone\u001b[39;49;00m\u001b[43m)\u001b[49m\u001b[43m,\u001b[49m\n\u001b[0;32m   1221\u001b[0m \u001b[43m    \u001b[49m\u001b[43mcompression\u001b[49m\u001b[38;5;241;43m=\u001b[39;49m\u001b[38;5;28;43mself\u001b[39;49m\u001b[38;5;241;43m.\u001b[39;49m\u001b[43moptions\u001b[49m\u001b[38;5;241;43m.\u001b[39;49m\u001b[43mget\u001b[49m\u001b[43m(\u001b[49m\u001b[38;5;124;43m\"\u001b[39;49m\u001b[38;5;124;43mcompression\u001b[39;49m\u001b[38;5;124;43m\"\u001b[39;49m\u001b[43m,\u001b[49m\u001b[43m \u001b[49m\u001b[38;5;28;43;01mNone\u001b[39;49;00m\u001b[43m)\u001b[49m\u001b[43m,\u001b[49m\n\u001b[0;32m   1222\u001b[0m \u001b[43m    \u001b[49m\u001b[43mmemory_map\u001b[49m\u001b[38;5;241;43m=\u001b[39;49m\u001b[38;5;28;43mself\u001b[39;49m\u001b[38;5;241;43m.\u001b[39;49m\u001b[43moptions\u001b[49m\u001b[38;5;241;43m.\u001b[39;49m\u001b[43mget\u001b[49m\u001b[43m(\u001b[49m\u001b[38;5;124;43m\"\u001b[39;49m\u001b[38;5;124;43mmemory_map\u001b[39;49m\u001b[38;5;124;43m\"\u001b[39;49m\u001b[43m,\u001b[49m\u001b[43m \u001b[49m\u001b[38;5;28;43;01mFalse\u001b[39;49;00m\u001b[43m)\u001b[49m\u001b[43m,\u001b[49m\n\u001b[0;32m   1223\u001b[0m \u001b[43m    \u001b[49m\u001b[43mis_text\u001b[49m\u001b[38;5;241;43m=\u001b[39;49m\u001b[43mis_text\u001b[49m\u001b[43m,\u001b[49m\n\u001b[0;32m   1224\u001b[0m \u001b[43m    \u001b[49m\u001b[43merrors\u001b[49m\u001b[38;5;241;43m=\u001b[39;49m\u001b[38;5;28;43mself\u001b[39;49m\u001b[38;5;241;43m.\u001b[39;49m\u001b[43moptions\u001b[49m\u001b[38;5;241;43m.\u001b[39;49m\u001b[43mget\u001b[49m\u001b[43m(\u001b[49m\u001b[38;5;124;43m\"\u001b[39;49m\u001b[38;5;124;43mencoding_errors\u001b[39;49m\u001b[38;5;124;43m\"\u001b[39;49m\u001b[43m,\u001b[49m\u001b[43m \u001b[49m\u001b[38;5;124;43m\"\u001b[39;49m\u001b[38;5;124;43mstrict\u001b[39;49m\u001b[38;5;124;43m\"\u001b[39;49m\u001b[43m)\u001b[49m\u001b[43m,\u001b[49m\n\u001b[0;32m   1225\u001b[0m \u001b[43m    \u001b[49m\u001b[43mstorage_options\u001b[49m\u001b[38;5;241;43m=\u001b[39;49m\u001b[38;5;28;43mself\u001b[39;49m\u001b[38;5;241;43m.\u001b[39;49m\u001b[43moptions\u001b[49m\u001b[38;5;241;43m.\u001b[39;49m\u001b[43mget\u001b[49m\u001b[43m(\u001b[49m\u001b[38;5;124;43m\"\u001b[39;49m\u001b[38;5;124;43mstorage_options\u001b[39;49m\u001b[38;5;124;43m\"\u001b[39;49m\u001b[43m,\u001b[49m\u001b[43m \u001b[49m\u001b[38;5;28;43;01mNone\u001b[39;49;00m\u001b[43m)\u001b[49m\u001b[43m,\u001b[49m\n\u001b[0;32m   1226\u001b[0m \u001b[43m\u001b[49m\u001b[43m)\u001b[49m\n\u001b[0;32m   1227\u001b[0m \u001b[38;5;28;01massert\u001b[39;00m \u001b[38;5;28mself\u001b[39m\u001b[38;5;241m.\u001b[39mhandles \u001b[38;5;129;01mis\u001b[39;00m \u001b[38;5;129;01mnot\u001b[39;00m \u001b[38;5;28;01mNone\u001b[39;00m\n\u001b[0;32m   1228\u001b[0m f \u001b[38;5;241m=\u001b[39m \u001b[38;5;28mself\u001b[39m\u001b[38;5;241m.\u001b[39mhandles\u001b[38;5;241m.\u001b[39mhandle\n",
      "File \u001b[1;32m~\\AppData\\Local\\Programs\\Python\\Python310\\lib\\site-packages\\pandas\\io\\common.py:789\u001b[0m, in \u001b[0;36mget_handle\u001b[1;34m(path_or_buf, mode, encoding, compression, memory_map, is_text, errors, storage_options)\u001b[0m\n\u001b[0;32m    784\u001b[0m \u001b[38;5;28;01melif\u001b[39;00m \u001b[38;5;28misinstance\u001b[39m(handle, \u001b[38;5;28mstr\u001b[39m):\n\u001b[0;32m    785\u001b[0m     \u001b[38;5;66;03m# Check whether the filename is to be opened in binary mode.\u001b[39;00m\n\u001b[0;32m    786\u001b[0m     \u001b[38;5;66;03m# Binary mode does not support 'encoding' and 'newline'.\u001b[39;00m\n\u001b[0;32m    787\u001b[0m     \u001b[38;5;28;01mif\u001b[39;00m ioargs\u001b[38;5;241m.\u001b[39mencoding \u001b[38;5;129;01mand\u001b[39;00m \u001b[38;5;124m\"\u001b[39m\u001b[38;5;124mb\u001b[39m\u001b[38;5;124m\"\u001b[39m \u001b[38;5;129;01mnot\u001b[39;00m \u001b[38;5;129;01min\u001b[39;00m ioargs\u001b[38;5;241m.\u001b[39mmode:\n\u001b[0;32m    788\u001b[0m         \u001b[38;5;66;03m# Encoding\u001b[39;00m\n\u001b[1;32m--> 789\u001b[0m         handle \u001b[38;5;241m=\u001b[39m \u001b[38;5;28;43mopen\u001b[39;49m\u001b[43m(\u001b[49m\n\u001b[0;32m    790\u001b[0m \u001b[43m            \u001b[49m\u001b[43mhandle\u001b[49m\u001b[43m,\u001b[49m\n\u001b[0;32m    791\u001b[0m \u001b[43m            \u001b[49m\u001b[43mioargs\u001b[49m\u001b[38;5;241;43m.\u001b[39;49m\u001b[43mmode\u001b[49m\u001b[43m,\u001b[49m\n\u001b[0;32m    792\u001b[0m \u001b[43m            \u001b[49m\u001b[43mencoding\u001b[49m\u001b[38;5;241;43m=\u001b[39;49m\u001b[43mioargs\u001b[49m\u001b[38;5;241;43m.\u001b[39;49m\u001b[43mencoding\u001b[49m\u001b[43m,\u001b[49m\n\u001b[0;32m    793\u001b[0m \u001b[43m            \u001b[49m\u001b[43merrors\u001b[49m\u001b[38;5;241;43m=\u001b[39;49m\u001b[43merrors\u001b[49m\u001b[43m,\u001b[49m\n\u001b[0;32m    794\u001b[0m \u001b[43m            \u001b[49m\u001b[43mnewline\u001b[49m\u001b[38;5;241;43m=\u001b[39;49m\u001b[38;5;124;43m\"\u001b[39;49m\u001b[38;5;124;43m\"\u001b[39;49m\u001b[43m,\u001b[49m\n\u001b[0;32m    795\u001b[0m \u001b[43m        \u001b[49m\u001b[43m)\u001b[49m\n\u001b[0;32m    796\u001b[0m     \u001b[38;5;28;01melse\u001b[39;00m:\n\u001b[0;32m    797\u001b[0m         \u001b[38;5;66;03m# Binary mode\u001b[39;00m\n\u001b[0;32m    798\u001b[0m         handle \u001b[38;5;241m=\u001b[39m \u001b[38;5;28mopen\u001b[39m(handle, ioargs\u001b[38;5;241m.\u001b[39mmode)\n",
      "\u001b[1;31mFileNotFoundError\u001b[0m: [Errno 2] No such file or directory: 'StarWars.csv'"
     ]
    }
   ],
   "source": [
    "dataset = pd.read_csv('StarWars.csv')\n",
    "dataset.head(35)\n",
    "\n",
    "# we merken op dat rij 19 en 24 allemaal nullen bevat"
   ]
  },
  {
   "cell_type": "code",
   "execution_count": null,
   "metadata": {
    "scrolled": true
   },
   "outputs": [],
   "source": [
    "#dataset.info()"
   ]
  },
  {
   "cell_type": "code",
   "execution_count": null,
   "metadata": {
    "scrolled": true
   },
   "outputs": [],
   "source": [
    "# Visualiseer de onderlinge correlatiecoëfficiënten\n",
    "f, ax = plt.subplots(figsize=(10, 8))\n",
    "corr = dataset.corr()\n",
    "sns.heatmap(corr, mask=np.zeros_like(corr, dtype=np.bool), cmap=sns.diverging_palette(220, 10, as_cmap=True),\n",
    "           square=True, ax=ax,annot=True)"
   ]
  },
  {
   "cell_type": "code",
   "execution_count": null,
   "metadata": {
    "scrolled": true
   },
   "outputs": [],
   "source": [
    "#one hot encoding! (for loop?)\n",
    "\n",
    "#Have you seen any of the 6 films in the Star Wars franchise? kolom verwijderen en omzetten naar ..yes and ..no\n",
    "\n",
    "#omzetten/features toevoegen\n",
    "dataset = pd.concat([dataset,pd.get_dummies(dataset['Have you seen any of the 6 films in the Star Wars franchise?'], prefix='Have you seen any of the 6 films in the Star Wars franchise?')],axis=1)\n",
    "#originele kolom verwijderen\n",
    "dataset.drop(['Have you seen any of the 6 films in the Star Wars franchise?'],axis=1, inplace=True)\n",
    "\n",
    "dataset.head(25)"
   ]
  },
  {
   "cell_type": "code",
   "execution_count": null,
   "metadata": {},
   "outputs": [],
   "source": [
    "#we verwijderen rij 19 en 24  van kolom have you..No omdat ze daar 1 zijn\n",
    "dataset.drop(dataset.loc[dataset['Have you seen any of the 6 films in the Star Wars franchise?_No']==1].index, inplace=True)\n",
    "dataset.head(30)"
   ]
  },
  {
   "cell_type": "code",
   "execution_count": null,
   "metadata": {
    "scrolled": true
   },
   "outputs": [],
   "source": [
    "#one hot encoding toepassen op de overige kolommen\n",
    "\n",
    "\n",
    "\n",
    "\n",
    "\n",
    "\n",
    "#one-hot encoden van LIJST Features\n",
    "datasets_encode_list = ['Han Solo','Luke Skywalker','Princess Leia Organa','Anakin Skywalker',\n",
    "                        'Obi Wan Kenobi','Emperor Palpatine','Darth Vader','Lando Calrissian',\n",
    "                       'Boba Fett','C-3P0','Jar Jar Binks','Padme Amidala','Yoda',\n",
    "                        'Are you familiar with the Expanded Universe?',\n",
    "                        'Do you consider yourself to be a fan of the Expanded Universe?','Gender','Education',\n",
    "                        'phantom menace seen','attack of the clones seen','revenge of the sith seen','a new hope seen',\n",
    "                        'empire strikes back seen','return of the jedi seen','Location','StarWars fan','R2 D2',\n",
    "                        'Which character shot first?','Age'\n",
    "                       ]\n",
    "\n",
    "oude_datasets = dataset\n",
    "for column in datasets_encode_list:\n",
    "    dataset = pd.concat([dataset,pd.get_dummies(dataset[column],prefix=column)],axis=1)\n",
    "    oude_datasets = dataset.drop([column],axis=1, inplace=True)\n",
    "    \n",
    "\n",
    "# # Han Solo omzetten\n",
    "# dataset = pd.concat([dataset,pd.get_dummies(dataset['Han Solo'], prefix='Han Solo')],axis=1)\n",
    "# #originele kolom verwijderen\n",
    "# dataset.drop(['Han Solo'],axis=1, inplace=True)\n",
    "\n",
    "\n",
    "\n",
    "\n",
    "\n",
    "\n",
    "\n",
    "\n",
    "dataset.head(25)\n",
    "\n"
   ]
  },
  {
   "cell_type": "code",
   "execution_count": null,
   "metadata": {},
   "outputs": [],
   "source": [
    "# gebalanceerdheid controleren\n",
    "sns.countplot(data=dataset, x=\"StarWars fan_Yes\")\n",
    "plt.title('StarWars fan')"
   ]
  },
  {
   "cell_type": "code",
   "execution_count": null,
   "metadata": {},
   "outputs": [],
   "source": [
    "# Opsplitsen in features en targets\n",
    "y = dataset['StarWars fan_Yes'].values\n",
    "X = dataset.drop(['StarWars fan_Yes'], axis = 1).values\n",
    "\n",
    "print(X.shape)\n",
    "print(y.shape)\n",
    "\n",
    "\n",
    "#1 lijst met 600 waarden, 130 features"
   ]
  },
  {
   "cell_type": "code",
   "execution_count": null,
   "metadata": {},
   "outputs": [],
   "source": [
    "# Opsplitsen/opdelen in training set en test set (hier minstens 200 training sample)\n",
    "X_train, X_test, y_train, y_test = train_test_split(X, y, test_size=0.34, random_state=0)\n",
    "\n",
    "#training set\n",
    "print(X_train.shape)\n",
    "\n",
    "#test set\n",
    "print(X_test.shape)\n",
    "\n"
   ]
  },
  {
   "cell_type": "code",
   "execution_count": null,
   "metadata": {},
   "outputs": [],
   "source": [
    "# Normaliseren / scaling van de training set en de test set\n",
    "scaler = StandardScaler() #scalen\n",
    "scaler.fit(X_train)\n",
    "\n",
    "X_train = scaler.transform(X_train)\n",
    "X_test = scaler.transform(X_test)"
   ]
  },
  {
   "cell_type": "code",
   "execution_count": null,
   "metadata": {},
   "outputs": [],
   "source": [
    "X_train[1]"
   ]
  },
  {
   "cell_type": "code",
   "execution_count": null,
   "metadata": {},
   "outputs": [],
   "source": [
    "# Train een logistic regression classifier\n",
    "\n",
    "logreg = linear_model.LogisticRegression(C=1e2, solver='lbfgs') # C= Inverse of regularization strength;\n",
    "                                                # must be a positive float. Like in support vector machines,\n",
    "                                                # smaller values specify stronger regularization.\n",
    "logreg.fit(X, y)\n",
    "\n",
    "print('coefficiënten: ',logreg.coef_)\n",
    "print('intercept:',logreg.intercept_)"
   ]
  },
  {
   "cell_type": "code",
   "execution_count": null,
   "metadata": {
    "scrolled": true
   },
   "outputs": [],
   "source": [
    "# testen van de logistic regression classifier\n",
    "\n",
    "y_pred = logreg.predict(X_test)\n",
    "\n",
    "print(classification_report(y_test,y_pred))\n",
    "\n",
    "print(accuracy_score(y_test,y_pred)*100)\n",
    "\n",
    "print(confusion_matrix(y_test,y_pred))"
   ]
  },
  {
   "cell_type": "code",
   "execution_count": null,
   "metadata": {},
   "outputs": [],
   "source": [
    "# ROC\n",
    "\n",
    "import sklearn.metrics as metrics\n",
    "# calculate the fpr and tpr for all thresholds of the classification\n",
    "probs = logreg.predict_proba(X_test)\n",
    "preds = probs[:,1]\n",
    "fpr, tpr, threshold = metrics.roc_curve(y_test, preds)\n",
    "roc_auc = metrics.auc(fpr, tpr)\n",
    "\n",
    "# method I: plt\n",
    "import matplotlib.pyplot as plt\n",
    "plt.title('Receiver Operating Characteristic')\n",
    "plt.plot(fpr, tpr, 'b', label = 'AUC = %0.2f' % roc_auc)\n",
    "plt.legend(loc = 'lower right')\n",
    "plt.plot([0, 1], [0, 1],'r--')\n",
    "plt.xlim([0, 1])\n",
    "plt.ylim([0, 1])\n",
    "plt.ylabel('True Positive Rate')\n",
    "plt.xlabel('False Positive Rate')\n",
    "plt.show()"
   ]
  },
  {
   "cell_type": "code",
   "execution_count": null,
   "metadata": {},
   "outputs": [],
   "source": [
    "#probability prediciton van ROC\n",
    "print(probs)\n",
    "\n"
   ]
  },
  {
   "cell_type": "code",
   "execution_count": null,
   "metadata": {},
   "outputs": [],
   "source": [
    "# Toevoegen van extra features\n",
    "# Modeloptimalisatie en Hyperparameter tuning\n",
    "# Automatisch toevoegen van hogere orde features\n",
    "\n",
    "from sklearn.preprocessing import PolynomialFeatures\n",
    "\n",
    "\n",
    "# Aanmaken van de hogere orde features\n",
    "graad = 1\n",
    "\n",
    "poly = PolynomialFeatures(graad)\n",
    "poly.fit(X_train)\n",
    "X_train_poly = poly.transform(X_train)\n",
    "X_test_poly = poly.transform(X_test)\n",
    "print('dimensie van X_train_poly: ',X_train_poly.shape)\n",
    "print('dimensie van X_test_poly: ',X_test_poly.shape)\n",
    "\n",
    "#scalen (optioneel?)\n",
    "scaler_poly = StandardScaler()\n",
    "scaler_poly.fit(X_train_poly)\n",
    "\n",
    "X_train_poly = scaler_poly.transform(X_train_poly)\n",
    "X_test_poly = scaler_poly.transform(X_test_poly)\n",
    "\n",
    "\n",
    "# met L2 regularisatie via Ridge regression\n",
    "lregmodel_poly = Ridge(alpha=20,tol=0.0001,fit_intercept=True)\n",
    "lregmodel_poly.fit(X_train_poly,y_train)\n",
    "\n",
    "print('R2 score op test set via L2: ',lregmodel_poly.score(X_test_poly,y_test))\n",
    "# R2 -score via L2 op de trainingset\n",
    "print('R2 score op training set via L2: ',lregmodel_poly.score(X_train_poly,y_train))\n",
    "\n",
    "\n",
    "# met L1 regularisatie via Lasso regression\n",
    "lregmodel_poly = Lasso(alpha=0.001,tol=0.001,fit_intercept=True)\n",
    "lregmodel_poly.fit(X_train_poly,y_train)      \n",
    "  \n",
    "      \n",
    "print('R2 score op test set via L1: ',lregmodel_poly.score(X_test_poly,y_test))\n",
    "  \n",
    "# R2 -score via L1 op de trainingset\n",
    "print('R2 score op training set via L1: ',lregmodel_poly.score(X_train_poly,y_train)) "
   ]
  },
  {
   "cell_type": "code",
   "execution_count": null,
   "metadata": {},
   "outputs": [],
   "source": [
    "#Op beide trainingsets 0.99 en 0.99\n",
    "#AUC = 1.00 wat betekenet dat men perfect de klassen kan onderscheiden\n",
    "#Bij het wijzigen van C-parameter schommeling van ~0.1 accuracy"
   ]
  },
  {
   "cell_type": "markdown",
   "metadata": {},
   "source": [
    "## Opdracht 4. Menselijke activiteit\n",
    "\n",
    "\n",
    "De dataset 'activiteit.csv' bevat meetgegevens die van 30 personen via een smartphone werden afgenomen. Deze meetwaarden zijn onderandere afkomstig van een accelerometer en een gyroscoop die in de smartphone zijn ingebouwd.\n",
    "De bedoeling is om om basis van deze meetwaarden de activiteit van de persoon zo nauwkeurig mogelijk te kunnen inschatten.\n",
    "Er zijn 6 verschillende klasses.\n",
    "\n",
    "\n",
    "Bepaal de 6 verschillende klasses en onderzoek meteen of de dataset gebalanceerd is (gelijkmatige verdeling van de verschillende klasses).\n",
    "Bouw een logistic regression model dat zo accuraat mogelijk de activiteit van de persoon kan bepalen. Hierbij pas je alle nodige preprocessing stappen toe je nodig acht.\n",
    "Het is ook toegestaann om features bij te maken of weg te laten. \n",
    "\n",
    "Schrijf jouw conclusies op met betrekking tot het finaal bekomen model.\n",
    "\n",
    "\n"
   ]
  },
  {
   "cell_type": "code",
   "execution_count": null,
   "metadata": {},
   "outputs": [],
   "source": [
    "dataset = pd.read_csv('activiteit.csv')\n",
    "dataset.head()"
   ]
  },
  {
   "cell_type": "code",
   "execution_count": null,
   "metadata": {},
   "outputs": [],
   "source": [
    "# Uitwerking opdracht menselijke activiteit\n",
    "sns.countplot(data=dataset,x='Activity')\n",
    "plt.title('Countplot activity')\n"
   ]
  },
  {
   "cell_type": "code",
   "execution_count": null,
   "metadata": {},
   "outputs": [],
   "source": [
    "# Lineaire correlatie tussen de features - heatmap\n",
    "\n",
    "#dataset.corr()\n",
    "\n",
    "# Visualiseer de onderlinge correlatiecoëfficiënten\n",
    "#f, ax = plt.subplots(figsize=(12, 10))\n",
    "#corr = dataset.corr()\n",
    "#sns.heatmap(corr, mask=np.zeros_like(corr, dtype=np.bool), cmap=sns.diverging_palette(220, 10, as_cmap=True),\n",
    "#            square=True, ax=ax,annot=True)"
   ]
  },
  {
   "cell_type": "code",
   "execution_count": null,
   "metadata": {},
   "outputs": [],
   "source": [
    "#dataset.info()"
   ]
  },
  {
   "cell_type": "code",
   "execution_count": null,
   "metadata": {},
   "outputs": [],
   "source": [
    "# statistische kerngetallen\n",
    "#dataset.describe()\n"
   ]
  },
  {
   "cell_type": "code",
   "execution_count": null,
   "metadata": {},
   "outputs": [],
   "source": [
    "#One-hot-encoding toepassen omdat ik strings moet omzetten naar getallen\n",
    "\n",
    "#Species omzetten\n",
    "dataset = pd.concat([dataset,pd.get_dummies(dataset['Activity'], prefix='Activity')],axis=1)\n",
    "dataset.drop(['Activity'],axis=1, inplace=True)\n",
    "\n",
    "dataset.head()"
   ]
  },
  {
   "cell_type": "code",
   "execution_count": null,
   "metadata": {},
   "outputs": [],
   "source": [
    "# Opsporen van ontbrekende waarden\n",
    "\n",
    "missing_values_count = dataset.isnull().sum()\n",
    "print(missing_values_count)\n",
    "msno.matrix(dataset)"
   ]
  },
  {
   "cell_type": "code",
   "execution_count": null,
   "metadata": {},
   "outputs": [],
   "source": [
    "# Opsplitsen in features en targets\n",
    "y = dataset['Activity_STANDING'].values\n",
    "X = dataset.drop(['Activity_STANDING'], axis = 1).values\n",
    "\n",
    "print(X.shape)\n",
    "print(y.shape)\n",
    "\n",
    "\n",
    "#1 lijst met 303 waarden, 13 features"
   ]
  },
  {
   "cell_type": "code",
   "execution_count": null,
   "metadata": {},
   "outputs": [],
   "source": [
    "# Opsplitsen/opdelen in training set en test set\n",
    "X_train, X_test, y_train, y_test = train_test_split(X, y, test_size=0.2, random_state=0)\n",
    "\n",
    "#training set\n",
    "print(X_train.shape)\n",
    "\n",
    "#test set\n",
    "print(X_test.shape)\n",
    "\n"
   ]
  },
  {
   "cell_type": "code",
   "execution_count": null,
   "metadata": {},
   "outputs": [],
   "source": [
    "# Normaliseren / scaling van de training set en de test set\n",
    "scaler = StandardScaler() #scalen\n",
    "scaler.fit(X_train)\n",
    "\n",
    "X_train = scaler.transform(X_train)\n",
    "X_test = scaler.transform(X_test)"
   ]
  },
  {
   "cell_type": "code",
   "execution_count": null,
   "metadata": {},
   "outputs": [],
   "source": [
    "X_train[1]"
   ]
  },
  {
   "cell_type": "code",
   "execution_count": null,
   "metadata": {},
   "outputs": [],
   "source": [
    "# Train een logistic regression classifier\n",
    "\n",
    "logreg = linear_model.LogisticRegression(C=1e3, solver='lbfgs') # C= Inverse of regularization strength;\n",
    "                                                # must be a positive float. Like in support vector machines,\n",
    "                                                # smaller values specify stronger regularization.\n",
    "logreg.fit(X, y)\n",
    "\n",
    "print('coefficiënten: ',logreg.coef_)\n",
    "print('intercept:',logreg.intercept_)"
   ]
  },
  {
   "cell_type": "code",
   "execution_count": null,
   "metadata": {},
   "outputs": [],
   "source": [
    "# testen van de logistic regression classifier\n",
    "\n",
    "y_pred = logreg.predict(X_test)\n",
    "\n",
    "print(classification_report(y_test,y_pred))\n",
    "\n",
    "print(accuracy_score(y_test,y_pred)*100)\n",
    "\n",
    "print(confusion_matrix(y_test,y_pred))"
   ]
  },
  {
   "cell_type": "code",
   "execution_count": null,
   "metadata": {},
   "outputs": [],
   "source": [
    "# ROC\n",
    "\n",
    "import sklearn.metrics as metrics\n",
    "# calculate the fpr and tpr for all thresholds of the classification\n",
    "probs = logreg.predict_proba(X_test)\n",
    "preds = probs[:,1]\n",
    "fpr, tpr, threshold = metrics.roc_curve(y_test, preds)\n",
    "roc_auc = metrics.auc(fpr, tpr)\n",
    "\n",
    "# method I: plt\n",
    "import matplotlib.pyplot as plt\n",
    "plt.title('Receiver Operating Characteristic')\n",
    "plt.plot(fpr, tpr, 'b', label = 'AUC = %0.2f' % roc_auc)\n",
    "plt.legend(loc = 'lower right')\n",
    "plt.plot([0, 1], [0, 1],'r--')\n",
    "plt.xlim([0, 1])\n",
    "plt.ylim([0, 1])\n",
    "plt.ylabel('True Positive Rate')\n",
    "plt.xlabel('False Positive Rate')\n",
    "plt.show()"
   ]
  },
  {
   "cell_type": "code",
   "execution_count": null,
   "metadata": {},
   "outputs": [],
   "source": [
    "#probability prediciton van ROC\n",
    "print(probs)"
   ]
  },
  {
   "cell_type": "code",
   "execution_count": null,
   "metadata": {},
   "outputs": [],
   "source": [
    "# Toevoegen van extra features\n",
    "# Modeloptimalisatie en Hyperparameter tuning\n",
    "# Automatisch toevoegen van hogere orde features\n",
    "\n",
    "from sklearn.preprocessing import PolynomialFeatures\n",
    "\n",
    "\n",
    "# Aanmaken van de hogere orde features\n",
    "graad = 1\n",
    "\n",
    "poly = PolynomialFeatures(graad)\n",
    "poly.fit(X_train)\n",
    "X_train_poly = poly.transform(X_train)\n",
    "X_test_poly = poly.transform(X_test)\n",
    "print('dimensie van X_train_poly: ',X_train_poly.shape)\n",
    "print('dimensie van X_test_poly: ',X_test_poly.shape)\n",
    "\n",
    "#scalen (optioneel?)\n",
    "scaler_poly = StandardScaler()\n",
    "scaler_poly.fit(X_train_poly)\n",
    "\n",
    "X_train_poly = scaler_poly.transform(X_train_poly)\n",
    "X_test_poly = scaler_poly.transform(X_test_poly)\n",
    "\n",
    "\n",
    "# met L2 regularisatie via Ridge regression\n",
    "lregmodel_poly = Ridge(alpha=20,tol=0.01,fit_intercept=True)\n",
    "lregmodel_poly.fit(X_train_poly,y_train)\n",
    "\n",
    "print('R2 score op test set via L2: ',lregmodel_poly.score(X_test_poly,y_test))\n",
    "# R2 -score via L2 op de trainingset\n",
    "print('R2 score op training set via L2: ',lregmodel_poly.score(X_train_poly,y_train))\n",
    "\n",
    "\n",
    "# met L1 regularisatie via Lasso regression\n",
    "lregmodel_poly = Lasso(alpha=0.1,tol=0.01,fit_intercept=True)\n",
    "lregmodel_poly.fit(X_train_poly,y_train)      \n",
    "  \n",
    "      \n",
    "print('R2 score op test set via L1: ',lregmodel_poly.score(X_test_poly,y_test))\n",
    "  \n",
    "# R2 -score via L1 op de trainingset\n",
    "print('R2 score op training set via L1: ',lregmodel_poly.score(X_train_poly,y_train)) "
   ]
  },
  {
   "cell_type": "code",
   "execution_count": null,
   "metadata": {},
   "outputs": [],
   "source": [
    "#R2 score op trainingsets 0.99 en 0.30(?)\n",
    "#Bij het wijzigen van C-parameter enkel verschil van accuracy (~0.1)"
   ]
  },
  {
   "cell_type": "code",
   "execution_count": null,
   "metadata": {},
   "outputs": [],
   "source": []
  }
 ],
 "metadata": {
  "kernelspec": {
   "display_name": "Python 3 (ipykernel)",
   "language": "python",
   "name": "python3"
  },
  "language_info": {
   "codemirror_mode": {
    "name": "ipython",
    "version": 3
   },
   "file_extension": ".py",
   "mimetype": "text/x-python",
   "name": "python",
   "nbconvert_exporter": "python",
   "pygments_lexer": "ipython3",
   "version": "3.10.4"
  }
 },
 "nbformat": 4,
 "nbformat_minor": 4
}
