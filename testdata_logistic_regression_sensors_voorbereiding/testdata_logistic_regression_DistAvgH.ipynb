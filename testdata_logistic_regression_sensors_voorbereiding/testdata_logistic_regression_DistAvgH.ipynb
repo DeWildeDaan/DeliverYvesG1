{
 "cells": [
  {
   "cell_type": "markdown",
   "metadata": {},
   "source": [
    "# Opdracht classificatie 1 - logistic regression\n",
    "\n",
    "Logistische regressie is een bijzonder populaire classificatietechniek. Enerzijds door zijn eenvoud en relatief lage eisen die het stelt in termen van rekenkracht. In veel gevallen is de performantie qua accuracy vergelijkbaar (en soms beter) dan gecompliceerdere algoritmes zoals de support vector machines.\n",
    "Daarnaast heeft logistische regressie het voordeel dat het getrainde model een voorspelling doet in termen van de kans dat de input tot een bepaalde klasse behoort. Uit deze kans kan je afleiden hoe overtuigd het model is van de gemaakte voorspelling.\n",
    "\n",
    "Het is de bedoeling om via enkele classificatieopdrachten inzicht te verkrijgen in:\n",
    "- Correct trainen en het uitvoeren van hyperparameter tuning bij logistische regressie.\n",
    "- Classificaties kunnen uitvoeren via logistische regressie.\n",
    "- Feature engineering uitvoeren.\n",
    "- Interpreteren van de verschillende performance metrics: accuracy, recall, precision, f1-score, ROC.\n",
    "- Kunnen omgaan met niet-gebalanceerde data en het kunnen regelen tussen het aantal false positives en false negatives. \n",
    "- Weten wanneer je te maken hebt met overfitting en underfitting en de juiste bijstellingen kunnen doen.\n"
   ]
  },
  {
   "cell_type": "code",
   "execution_count": 1,
   "metadata": {},
   "outputs": [],
   "source": [
    "%matplotlib inline\n",
    "import numpy as np\n",
    "import pandas as pd\n",
    "import matplotlib.pyplot as plt\n",
    "from sklearn import linear_model\n",
    "from sklearn.model_selection import train_test_split\n",
    "from sklearn.metrics import classification_report\n",
    "from sklearn import preprocessing\n",
    "from sklearn.preprocessing import PolynomialFeatures\n",
    "from sklearn.metrics import confusion_matrix, accuracy_score\n",
    "from sklearn.linear_model import LogisticRegression\n",
    "import seaborn as sns\n",
    "import missingno as msno\n",
    "from sklearn.preprocessing import StandardScaler\n",
    "from sklearn.preprocessing import RobustScaler\n",
    "from sklearn.preprocessing import MinMaxScaler\n",
    "from sklearn.linear_model import Ridge\n",
    "from sklearn.linear_model import Lasso\n",
    "from sklearn.metrics import r2_score"
   ]
  },
  {
   "cell_type": "markdown",
   "metadata": {},
   "source": [
    "## Opdracht 1: Sensors data\n"
   ]
  },
  {
   "cell_type": "markdown",
   "metadata": {},
   "source": [
    "Het bestand sensors_data_test is een tijdelijke bestand om onze sensorsdata te simuleren\n",
    "Train nu een logic regression model dat op basis van de features een zo goed mogelijke predictie kan doenvan de afstand waar er eenfles is genomen.\n",
    "\n",
    "### Kolom toevoegen\n",
    "\n",
    "\n",
    "### Inlezen van de dataset en vooranalyse"
   ]
  },
  {
   "cell_type": "code",
   "execution_count": 2,
   "metadata": {},
   "outputs": [
    {
     "data": {
      "text/html": [
       "<div>\n",
       "<style scoped>\n",
       "    .dataframe tbody tr th:only-of-type {\n",
       "        vertical-align: middle;\n",
       "    }\n",
       "\n",
       "    .dataframe tbody tr th {\n",
       "        vertical-align: top;\n",
       "    }\n",
       "\n",
       "    .dataframe thead th {\n",
       "        text-align: right;\n",
       "    }\n",
       "</style>\n",
       "<table border=\"1\" class=\"dataframe\">\n",
       "  <thead>\n",
       "    <tr style=\"text-align: right;\">\n",
       "      <th></th>\n",
       "      <th>PartitionKey</th>\n",
       "      <th>RowKey</th>\n",
       "      <th>Timestamp</th>\n",
       "      <th>RackRow</th>\n",
       "      <th>RackRow@type</th>\n",
       "      <th>Label</th>\n",
       "      <th>Label@type</th>\n",
       "      <th>WeightPre</th>\n",
       "      <th>WeightPre@type</th>\n",
       "      <th>WeightPost</th>\n",
       "      <th>...</th>\n",
       "      <th>DistAvgH</th>\n",
       "      <th>DistAvgH@type</th>\n",
       "      <th>DistMinL</th>\n",
       "      <th>DistMinL@type</th>\n",
       "      <th>DistMaxL</th>\n",
       "      <th>DistMaxL@type</th>\n",
       "      <th>DistAvgL</th>\n",
       "      <th>DistAvgL@type</th>\n",
       "      <th>DistTime</th>\n",
       "      <th>DistTime@type</th>\n",
       "    </tr>\n",
       "  </thead>\n",
       "  <tbody>\n",
       "    <tr>\n",
       "      <th>0</th>\n",
       "      <td>F0:08:D1:C8:A7:34</td>\n",
       "      <td>06e05b50-bcbf-4fad-a713-c19975ef4b42</td>\n",
       "      <td>2022-05-25T13:16:47.9637282Z</td>\n",
       "      <td>2</td>\n",
       "      <td>Int32</td>\n",
       "      <td>3</td>\n",
       "      <td>Int32</td>\n",
       "      <td>0</td>\n",
       "      <td>Int32</td>\n",
       "      <td>0</td>\n",
       "      <td>...</td>\n",
       "      <td>28</td>\n",
       "      <td>Int32</td>\n",
       "      <td>27</td>\n",
       "      <td>Int32</td>\n",
       "      <td>29</td>\n",
       "      <td>Int32</td>\n",
       "      <td>28</td>\n",
       "      <td>Int32</td>\n",
       "      <td>207</td>\n",
       "      <td>Int32</td>\n",
       "    </tr>\n",
       "    <tr>\n",
       "      <th>1</th>\n",
       "      <td>F0:08:D1:C8:A7:34</td>\n",
       "      <td>0cffb11c-0506-4d8d-8cad-7f2d00053380</td>\n",
       "      <td>2022-05-25T13:15:19.5884474Z</td>\n",
       "      <td>2</td>\n",
       "      <td>Int32</td>\n",
       "      <td>2</td>\n",
       "      <td>Int32</td>\n",
       "      <td>0</td>\n",
       "      <td>Int32</td>\n",
       "      <td>0</td>\n",
       "      <td>...</td>\n",
       "      <td>33</td>\n",
       "      <td>Int32</td>\n",
       "      <td>32</td>\n",
       "      <td>Int32</td>\n",
       "      <td>34</td>\n",
       "      <td>Int32</td>\n",
       "      <td>33</td>\n",
       "      <td>Int32</td>\n",
       "      <td>1136</td>\n",
       "      <td>Int32</td>\n",
       "    </tr>\n",
       "    <tr>\n",
       "      <th>2</th>\n",
       "      <td>F0:08:D1:C8:A7:34</td>\n",
       "      <td>11090373-a998-47a1-b8c3-807b4c036d53</td>\n",
       "      <td>2022-05-25T13:17:16.801118Z</td>\n",
       "      <td>2</td>\n",
       "      <td>Int32</td>\n",
       "      <td>6</td>\n",
       "      <td>Int32</td>\n",
       "      <td>0</td>\n",
       "      <td>Int32</td>\n",
       "      <td>0</td>\n",
       "      <td>...</td>\n",
       "      <td>9</td>\n",
       "      <td>Int32</td>\n",
       "      <td>9</td>\n",
       "      <td>Int32</td>\n",
       "      <td>15</td>\n",
       "      <td>Int32</td>\n",
       "      <td>11</td>\n",
       "      <td>Int32</td>\n",
       "      <td>513</td>\n",
       "      <td>Int32</td>\n",
       "    </tr>\n",
       "    <tr>\n",
       "      <th>3</th>\n",
       "      <td>F0:08:D1:C8:A7:34</td>\n",
       "      <td>13f3867e-2b06-43a9-8843-e3f5245cf925</td>\n",
       "      <td>2022-05-25T13:20:12.9485555Z</td>\n",
       "      <td>2</td>\n",
       "      <td>Int32</td>\n",
       "      <td>21</td>\n",
       "      <td>Int32</td>\n",
       "      <td>0</td>\n",
       "      <td>Int32</td>\n",
       "      <td>0</td>\n",
       "      <td>...</td>\n",
       "      <td>29</td>\n",
       "      <td>Int32</td>\n",
       "      <td>29</td>\n",
       "      <td>Int32</td>\n",
       "      <td>30</td>\n",
       "      <td>Int32</td>\n",
       "      <td>29</td>\n",
       "      <td>Int32</td>\n",
       "      <td>765</td>\n",
       "      <td>Int32</td>\n",
       "    </tr>\n",
       "    <tr>\n",
       "      <th>4</th>\n",
       "      <td>F0:08:D1:C8:A7:34</td>\n",
       "      <td>275027a4-b73f-484f-916b-ba69df4b65c4</td>\n",
       "      <td>2022-05-25T13:21:42.5068964Z</td>\n",
       "      <td>2</td>\n",
       "      <td>Int32</td>\n",
       "      <td>5</td>\n",
       "      <td>Int32</td>\n",
       "      <td>0</td>\n",
       "      <td>Int32</td>\n",
       "      <td>0</td>\n",
       "      <td>...</td>\n",
       "      <td>14</td>\n",
       "      <td>Int32</td>\n",
       "      <td>12</td>\n",
       "      <td>Int32</td>\n",
       "      <td>16</td>\n",
       "      <td>Int32</td>\n",
       "      <td>14</td>\n",
       "      <td>Int32</td>\n",
       "      <td>1135</td>\n",
       "      <td>Int32</td>\n",
       "    </tr>\n",
       "    <tr>\n",
       "      <th>5</th>\n",
       "      <td>F0:08:D1:C8:A7:34</td>\n",
       "      <td>397b206d-120f-41b2-875d-5aeb20a71121</td>\n",
       "      <td>2022-05-25T13:20:50.1554834Z</td>\n",
       "      <td>2</td>\n",
       "      <td>Int32</td>\n",
       "      <td>24</td>\n",
       "      <td>Int32</td>\n",
       "      <td>0</td>\n",
       "      <td>Int32</td>\n",
       "      <td>0</td>\n",
       "      <td>...</td>\n",
       "      <td>10</td>\n",
       "      <td>Int32</td>\n",
       "      <td>9</td>\n",
       "      <td>Int32</td>\n",
       "      <td>12</td>\n",
       "      <td>Int32</td>\n",
       "      <td>10</td>\n",
       "      <td>Int32</td>\n",
       "      <td>574</td>\n",
       "      <td>Int32</td>\n",
       "    </tr>\n",
       "    <tr>\n",
       "      <th>6</th>\n",
       "      <td>F0:08:D1:C8:A7:34</td>\n",
       "      <td>4a24c5c6-e4f8-4cff-860c-2f8d754e581b</td>\n",
       "      <td>2022-05-25T13:19:04.2714384Z</td>\n",
       "      <td>2</td>\n",
       "      <td>Int32</td>\n",
       "      <td>15</td>\n",
       "      <td>Int32</td>\n",
       "      <td>0</td>\n",
       "      <td>Int32</td>\n",
       "      <td>0</td>\n",
       "      <td>...</td>\n",
       "      <td>27</td>\n",
       "      <td>Int32</td>\n",
       "      <td>27</td>\n",
       "      <td>Int32</td>\n",
       "      <td>29</td>\n",
       "      <td>Int32</td>\n",
       "      <td>27</td>\n",
       "      <td>Int32</td>\n",
       "      <td>393</td>\n",
       "      <td>Int32</td>\n",
       "    </tr>\n",
       "    <tr>\n",
       "      <th>7</th>\n",
       "      <td>F0:08:D1:C8:A7:34</td>\n",
       "      <td>578c8377-49cf-481b-b234-77900570a574</td>\n",
       "      <td>2022-05-25T13:14:52.8453005Z</td>\n",
       "      <td>2</td>\n",
       "      <td>Int32</td>\n",
       "      <td>1</td>\n",
       "      <td>Int32</td>\n",
       "      <td>0</td>\n",
       "      <td>Int32</td>\n",
       "      <td>0</td>\n",
       "      <td>...</td>\n",
       "      <td>37</td>\n",
       "      <td>Int32</td>\n",
       "      <td>37</td>\n",
       "      <td>Int32</td>\n",
       "      <td>37</td>\n",
       "      <td>Int32</td>\n",
       "      <td>37</td>\n",
       "      <td>Int32</td>\n",
       "      <td>25</td>\n",
       "      <td>Int32</td>\n",
       "    </tr>\n",
       "    <tr>\n",
       "      <th>8</th>\n",
       "      <td>F0:08:D1:C8:A7:34</td>\n",
       "      <td>666f1a7f-25ef-4638-91cb-fd561b596359</td>\n",
       "      <td>2022-05-25T13:21:15.7140073Z</td>\n",
       "      <td>2</td>\n",
       "      <td>Int32</td>\n",
       "      <td>2</td>\n",
       "      <td>Int32</td>\n",
       "      <td>0</td>\n",
       "      <td>Int32</td>\n",
       "      <td>0</td>\n",
       "      <td>...</td>\n",
       "      <td>33</td>\n",
       "      <td>Int32</td>\n",
       "      <td>32</td>\n",
       "      <td>Int32</td>\n",
       "      <td>35</td>\n",
       "      <td>Int32</td>\n",
       "      <td>33</td>\n",
       "      <td>Int32</td>\n",
       "      <td>584</td>\n",
       "      <td>Int32</td>\n",
       "    </tr>\n",
       "    <tr>\n",
       "      <th>9</th>\n",
       "      <td>F0:08:D1:C8:A7:34</td>\n",
       "      <td>712dd309-c888-45d3-8997-234eb473d2d1</td>\n",
       "      <td>2022-05-25T13:19:43.1138419Z</td>\n",
       "      <td>2</td>\n",
       "      <td>Int32</td>\n",
       "      <td>19</td>\n",
       "      <td>Int32</td>\n",
       "      <td>0</td>\n",
       "      <td>Int32</td>\n",
       "      <td>0</td>\n",
       "      <td>...</td>\n",
       "      <td>40</td>\n",
       "      <td>Int32</td>\n",
       "      <td>39</td>\n",
       "      <td>Int32</td>\n",
       "      <td>41</td>\n",
       "      <td>Int32</td>\n",
       "      <td>40</td>\n",
       "      <td>Int32</td>\n",
       "      <td>766</td>\n",
       "      <td>Int32</td>\n",
       "    </tr>\n",
       "  </tbody>\n",
       "</table>\n",
       "<p>10 rows × 27 columns</p>\n",
       "</div>"
      ],
      "text/plain": [
       "        PartitionKey                                RowKey  \\\n",
       "0  F0:08:D1:C8:A7:34  06e05b50-bcbf-4fad-a713-c19975ef4b42   \n",
       "1  F0:08:D1:C8:A7:34  0cffb11c-0506-4d8d-8cad-7f2d00053380   \n",
       "2  F0:08:D1:C8:A7:34  11090373-a998-47a1-b8c3-807b4c036d53   \n",
       "3  F0:08:D1:C8:A7:34  13f3867e-2b06-43a9-8843-e3f5245cf925   \n",
       "4  F0:08:D1:C8:A7:34  275027a4-b73f-484f-916b-ba69df4b65c4   \n",
       "5  F0:08:D1:C8:A7:34  397b206d-120f-41b2-875d-5aeb20a71121   \n",
       "6  F0:08:D1:C8:A7:34  4a24c5c6-e4f8-4cff-860c-2f8d754e581b   \n",
       "7  F0:08:D1:C8:A7:34  578c8377-49cf-481b-b234-77900570a574   \n",
       "8  F0:08:D1:C8:A7:34  666f1a7f-25ef-4638-91cb-fd561b596359   \n",
       "9  F0:08:D1:C8:A7:34  712dd309-c888-45d3-8997-234eb473d2d1   \n",
       "\n",
       "                      Timestamp  RackRow RackRow@type  Label Label@type  \\\n",
       "0  2022-05-25T13:16:47.9637282Z        2        Int32      3      Int32   \n",
       "1  2022-05-25T13:15:19.5884474Z        2        Int32      2      Int32   \n",
       "2   2022-05-25T13:17:16.801118Z        2        Int32      6      Int32   \n",
       "3  2022-05-25T13:20:12.9485555Z        2        Int32     21      Int32   \n",
       "4  2022-05-25T13:21:42.5068964Z        2        Int32      5      Int32   \n",
       "5  2022-05-25T13:20:50.1554834Z        2        Int32     24      Int32   \n",
       "6  2022-05-25T13:19:04.2714384Z        2        Int32     15      Int32   \n",
       "7  2022-05-25T13:14:52.8453005Z        2        Int32      1      Int32   \n",
       "8  2022-05-25T13:21:15.7140073Z        2        Int32      2      Int32   \n",
       "9  2022-05-25T13:19:43.1138419Z        2        Int32     19      Int32   \n",
       "\n",
       "   WeightPre WeightPre@type  WeightPost  ... DistAvgH  DistAvgH@type DistMinL  \\\n",
       "0          0          Int32           0  ...       28          Int32       27   \n",
       "1          0          Int32           0  ...       33          Int32       32   \n",
       "2          0          Int32           0  ...        9          Int32        9   \n",
       "3          0          Int32           0  ...       29          Int32       29   \n",
       "4          0          Int32           0  ...       14          Int32       12   \n",
       "5          0          Int32           0  ...       10          Int32        9   \n",
       "6          0          Int32           0  ...       27          Int32       27   \n",
       "7          0          Int32           0  ...       37          Int32       37   \n",
       "8          0          Int32           0  ...       33          Int32       32   \n",
       "9          0          Int32           0  ...       40          Int32       39   \n",
       "\n",
       "   DistMinL@type DistMaxL  DistMaxL@type DistAvgL  DistAvgL@type DistTime  \\\n",
       "0          Int32       29          Int32       28          Int32      207   \n",
       "1          Int32       34          Int32       33          Int32     1136   \n",
       "2          Int32       15          Int32       11          Int32      513   \n",
       "3          Int32       30          Int32       29          Int32      765   \n",
       "4          Int32       16          Int32       14          Int32     1135   \n",
       "5          Int32       12          Int32       10          Int32      574   \n",
       "6          Int32       29          Int32       27          Int32      393   \n",
       "7          Int32       37          Int32       37          Int32       25   \n",
       "8          Int32       35          Int32       33          Int32      584   \n",
       "9          Int32       41          Int32       40          Int32      766   \n",
       "\n",
       "   DistTime@type  \n",
       "0          Int32  \n",
       "1          Int32  \n",
       "2          Int32  \n",
       "3          Int32  \n",
       "4          Int32  \n",
       "5          Int32  \n",
       "6          Int32  \n",
       "7          Int32  \n",
       "8          Int32  \n",
       "9          Int32  \n",
       "\n",
       "[10 rows x 27 columns]"
      ]
     },
     "execution_count": 2,
     "metadata": {},
     "output_type": "execute_result"
    }
   ],
   "source": [
    "# inlezen van de dataset\n",
    "dataset = pd.read_csv('TestData.csv')\n",
    "dataset.head(10)"
   ]
  },
  {
   "cell_type": "markdown",
   "metadata": {},
   "source": [
    "Controleer of de dataset inconsistenties of foute waarden bevat. Gebruik listwise deletion. Dit betekent dat je alle gegevens van een persoon uit de dataset verwijdert van zodra er 1 feature foutief is of ontbreekt."
   ]
  },
  {
   "cell_type": "code",
   "execution_count": 3,
   "metadata": {},
   "outputs": [
    {
     "data": {
      "text/html": [
       "<div>\n",
       "<style scoped>\n",
       "    .dataframe tbody tr th:only-of-type {\n",
       "        vertical-align: middle;\n",
       "    }\n",
       "\n",
       "    .dataframe tbody tr th {\n",
       "        vertical-align: top;\n",
       "    }\n",
       "\n",
       "    .dataframe thead th {\n",
       "        text-align: right;\n",
       "    }\n",
       "</style>\n",
       "<table border=\"1\" class=\"dataframe\">\n",
       "  <thead>\n",
       "    <tr style=\"text-align: right;\">\n",
       "      <th></th>\n",
       "      <th>DistMinH</th>\n",
       "      <th>DistMaxH</th>\n",
       "      <th>DistAvgH</th>\n",
       "      <th>DistMinL</th>\n",
       "      <th>DistMaxL</th>\n",
       "      <th>DistAvgL</th>\n",
       "      <th>DistTime</th>\n",
       "    </tr>\n",
       "  </thead>\n",
       "  <tbody>\n",
       "    <tr>\n",
       "      <th>0</th>\n",
       "      <td>27</td>\n",
       "      <td>29</td>\n",
       "      <td>28</td>\n",
       "      <td>27</td>\n",
       "      <td>29</td>\n",
       "      <td>28</td>\n",
       "      <td>207</td>\n",
       "    </tr>\n",
       "    <tr>\n",
       "      <th>1</th>\n",
       "      <td>32</td>\n",
       "      <td>34</td>\n",
       "      <td>33</td>\n",
       "      <td>32</td>\n",
       "      <td>34</td>\n",
       "      <td>33</td>\n",
       "      <td>1136</td>\n",
       "    </tr>\n",
       "    <tr>\n",
       "      <th>2</th>\n",
       "      <td>9</td>\n",
       "      <td>10</td>\n",
       "      <td>9</td>\n",
       "      <td>9</td>\n",
       "      <td>15</td>\n",
       "      <td>11</td>\n",
       "      <td>513</td>\n",
       "    </tr>\n",
       "    <tr>\n",
       "      <th>3</th>\n",
       "      <td>29</td>\n",
       "      <td>30</td>\n",
       "      <td>29</td>\n",
       "      <td>29</td>\n",
       "      <td>30</td>\n",
       "      <td>29</td>\n",
       "      <td>765</td>\n",
       "    </tr>\n",
       "    <tr>\n",
       "      <th>4</th>\n",
       "      <td>12</td>\n",
       "      <td>16</td>\n",
       "      <td>14</td>\n",
       "      <td>12</td>\n",
       "      <td>16</td>\n",
       "      <td>14</td>\n",
       "      <td>1135</td>\n",
       "    </tr>\n",
       "    <tr>\n",
       "      <th>5</th>\n",
       "      <td>9</td>\n",
       "      <td>12</td>\n",
       "      <td>10</td>\n",
       "      <td>9</td>\n",
       "      <td>12</td>\n",
       "      <td>10</td>\n",
       "      <td>574</td>\n",
       "    </tr>\n",
       "    <tr>\n",
       "      <th>6</th>\n",
       "      <td>27</td>\n",
       "      <td>29</td>\n",
       "      <td>27</td>\n",
       "      <td>27</td>\n",
       "      <td>29</td>\n",
       "      <td>27</td>\n",
       "      <td>393</td>\n",
       "    </tr>\n",
       "    <tr>\n",
       "      <th>7</th>\n",
       "      <td>37</td>\n",
       "      <td>37</td>\n",
       "      <td>37</td>\n",
       "      <td>37</td>\n",
       "      <td>37</td>\n",
       "      <td>37</td>\n",
       "      <td>25</td>\n",
       "    </tr>\n",
       "    <tr>\n",
       "      <th>8</th>\n",
       "      <td>32</td>\n",
       "      <td>35</td>\n",
       "      <td>33</td>\n",
       "      <td>32</td>\n",
       "      <td>35</td>\n",
       "      <td>33</td>\n",
       "      <td>584</td>\n",
       "    </tr>\n",
       "    <tr>\n",
       "      <th>9</th>\n",
       "      <td>39</td>\n",
       "      <td>41</td>\n",
       "      <td>40</td>\n",
       "      <td>39</td>\n",
       "      <td>41</td>\n",
       "      <td>40</td>\n",
       "      <td>766</td>\n",
       "    </tr>\n",
       "  </tbody>\n",
       "</table>\n",
       "</div>"
      ],
      "text/plain": [
       "   DistMinH  DistMaxH  DistAvgH  DistMinL  DistMaxL  DistAvgL  DistTime\n",
       "0        27        29        28        27        29        28       207\n",
       "1        32        34        33        32        34        33      1136\n",
       "2         9        10         9         9        15        11       513\n",
       "3        29        30        29        29        30        29       765\n",
       "4        12        16        14        12        16        14      1135\n",
       "5         9        12        10         9        12        10       574\n",
       "6        27        29        27        27        29        27       393\n",
       "7        37        37        37        37        37        37        25\n",
       "8        32        35        33        32        35        33       584\n",
       "9        39        41        40        39        41        40       766"
      ]
     },
     "execution_count": 3,
     "metadata": {},
     "output_type": "execute_result"
    }
   ],
   "source": [
    "\n",
    "# verwijder kollomen die niet relevant zijn met model (id's,types)\n",
    "dataset.drop(['PartitionKey','RowKey','Timestamp','RackRow'],axis=1,inplace=True)\n",
    "dataset.drop('RackRow@type',axis=1,inplace=True)\n",
    "dataset.drop('Label',axis=1,inplace=True)\n",
    "dataset.drop('Label@type',axis=1,inplace=True)\n",
    "\n",
    "# verwijder kollomen weight \n",
    "dataset.drop(['WeightPre','WeightPre@type','WeightPost','WeightPost@type', 'WeightDiff','WeightDiff@type'],axis=1,inplace=True)\n",
    "\n",
    "\n",
    "#verwijder kollomen distance\n",
    "dataset.drop(['DistMinH@type','DistMaxH@type','DistAvgH@type','DistMinL@type', 'DistMaxL@type','DistAvgL@type', 'DistTime@type'],axis=1,inplace=True)\n",
    "\n",
    "\n",
    "#one hot encoding\n",
    "# dataset = pd.concat([dataset,pd.get_dummies(dataset['RackRow'], prefix='RackRow')],axis=1)\n",
    "# dataset.drop(['RackRow'],axis=1, inplace=True)\n",
    "\n",
    "\n",
    "\n",
    "dataset.head(10)\n"
   ]
  },
  {
   "cell_type": "code",
   "execution_count": 4,
   "metadata": {
    "scrolled": true
   },
   "outputs": [
    {
     "data": {
      "text/plain": [
       "Text(0.5, 1.0, 'Countplot DistAvgH')"
      ]
     },
     "execution_count": 4,
     "metadata": {},
     "output_type": "execute_result"
    },
    {
     "data": {
      "image/png": "[encoded data removed]",
      "text/plain": [
       "<Figure size 432x288 with 1 Axes>"
      ]
     },
     "metadata": {
      "needs_background": "light"
     },
     "output_type": "display_data"
    }
   ],
   "source": [
    "# gebalanceerdheid controleren\n",
    "sns.countplot(data=dataset, x=\"DistAvgH\")\n",
    "plt.title('Countplot DistAvgH')\n"
   ]
  },
  {
   "cell_type": "code",
   "execution_count": 5,
   "metadata": {},
   "outputs": [
    {
     "name": "stderr",
     "output_type": "stream",
     "text": [
      "C:\\Users\\domin\\AppData\\Local\\Temp\\ipykernel_22380\\1331905442.py:8: DeprecationWarning: `np.bool` is a deprecated alias for the builtin `bool`. To silence this warning, use `bool` by itself. Doing this will not modify any behavior and is safe. If you specifically wanted the numpy scalar type, use `np.bool_` here.\n",
      "Deprecated in NumPy 1.20; for more details and guidance: https://numpy.org/devdocs/release/1.20.0-notes.html#deprecations\n",
      "  sns.heatmap(corr, mask=np.zeros_like(corr, dtype=np.bool), cmap=sns.diverging_palette(220, 10, as_cmap=True),\n"
     ]
    },
    {
     "data": {
      "text/plain": [
       "<AxesSubplot:>"
      ]
     },
     "execution_count": 5,
     "metadata": {},
     "output_type": "execute_result"
    },
    {
     "data": {
      "image/png": "[encoded data removed]",
      "text/plain": [
       "<Figure size 864x720 with 2 Axes>"
      ]
     },
     "metadata": {
      "needs_background": "light"
     },
     "output_type": "display_data"
    }
   ],
   "source": [
    "# Lineaire correlatie tussen de features - heatmap\n",
    "\n",
    "dataset.corr()\n",
    "\n",
    "# Visualiseer de onderlinge correlatiecoëfficiënten\n",
    "f, ax = plt.subplots(figsize=(12, 10))\n",
    "corr = dataset.corr()\n",
    "sns.heatmap(corr, mask=np.zeros_like(corr, dtype=np.bool), cmap=sns.diverging_palette(220, 10, as_cmap=True),\n",
    "            square=True, ax=ax,annot=True)"
   ]
  },
  {
   "cell_type": "code",
   "execution_count": 6,
   "metadata": {
    "scrolled": true
   },
   "outputs": [],
   "source": [
    "#FLES\n",
    "# dataset['Post_groter_dan_pre'] = dataset['WeightPost'].gt(dataset['WeightPre'])\n",
    "# # fles in  op basis vanpost groter dan pre\n",
    "# dataset.insert(0,'Bottle_in',dataset['Post_groter_dan_pre'])\n",
    "# dataset.drop('Post_groter_dan_pre',axis=1,inplace=True)\n",
    "\n",
    "\n",
    "# dataset['Pre_groter_dan_post'] = dataset['WeightPre'].gt(dataset['WeightPost'])\n",
    "# #  fles uit op basis van pre  groter dan post\n",
    "# dataset.insert(0,'Bottle_out',dataset['Pre_groter_dan_post'])\n",
    "# dataset.drop('Pre_groter_dan_post',axis=1,inplace=True)\n",
    "\n",
    "# # True en False  van Fles_volomzetten naar 0 en 1:\n",
    "# dataset.Bottle_in.replace({False:0,True:1},inplace=True)\n",
    "\n",
    "# dataset.Bottle_out.replace({False:0,True:1},inplace=True)\n",
    "\n",
    "\n",
    "# #Volle fles in\n",
    "# dataset.insert(0,'Bottle_full',dataset['Bottle_in'])\n",
    "# dataset['Bottle_full'].values[dataset['WeightDiff'] < 2] = 0\n",
    "# dataset['Bottle_full'].values[dataset['WeightDiff'] > 2] = 1\n",
    "\n",
    "# #bottle full in\n",
    "# dataset.insert(0,'Bottle_full_in',dataset['Bottle_in'])\n",
    "# dataset['Bottle_full_in'].values[dataset['Bottle_full'] == 1 & (dataset['Bottle_in'] == 1 ) ] = 1\n",
    "# dataset['Bottle_full_in'].values[dataset['Bottle_in'] == 1 & (dataset['Bottle_full'] == 1 ) ] = 1\n",
    "# dataset['Bottle_full_in'].values[dataset['Bottle_full'] == 0 & (dataset['Bottle_in'] == 1 ) ] = 0\n",
    "# dataset['Bottle_full_in'].values[dataset['Bottle_in'] == 0 & (dataset['Bottle_full'] == 1 ) ] = 0\n",
    "\n",
    "# #bottle full out\n",
    "# dataset.insert(0,'Bottle_full_out',dataset['Bottle_out'])\n",
    "# dataset['Bottle_full_out'].values[dataset['Bottle_full'] == 1 & (dataset['Bottle_out'] == 1 ) ] = 1\n",
    "# dataset['Bottle_full_out'].values[dataset['Bottle_out'] == 1 & (dataset['Bottle_full'] == 1 ) ] = 1\n",
    "# dataset['Bottle_full_out'].values[dataset['Bottle_full'] == 0 & (dataset['Bottle_out'] == 1 ) ] = 0\n",
    "# dataset['Bottle_full_out'].values[dataset['Bottle_out'] == 0 & (dataset['Bottle_full'] == 1 ) ] = 0\n",
    "\n",
    "# # #bottle empty in\n",
    "# dataset.insert(0,'Bottle_empty_in',dataset['Bottle_in'])\n",
    "# dataset['Bottle_empty_in'].values[dataset['Bottle_full'] == 1 & (dataset['Bottle_in'] == 1 ) ] = 0\n",
    "# dataset['Bottle_empty_in'].values[dataset['Bottle_in'] == 1 & (dataset['Bottle_full'] == 1 ) ] = 0\n",
    "# dataset['Bottle_empty_in'].values[dataset['Bottle_full'] == 0 & (dataset['Bottle_in'] == 1 ) ] = 1\n",
    "# dataset['Bottle_empty_in'].values[dataset['Bottle_in'] == 0 & (dataset['Bottle_full'] == 1 ) ] = 0\n",
    "\n",
    "#  #bottle empty out\n",
    "# dataset.insert(0,'Bottle_empty_out',dataset['Bottle_out'])\n",
    "# dataset['Bottle_empty_out'].values[dataset['Bottle_full'] == 1 & (dataset['Bottle_out'] == 1 ) ] = 0\n",
    "# dataset['Bottle_empty_out'].values[dataset['Bottle_out'] == 1 & (dataset['Bottle_full'] == 1 ) ] = 0\n",
    "# dataset['Bottle_empty_out'].values[dataset['Bottle_full'] == 0 & (dataset['Bottle_out'] == 1 ) ] = 1\n",
    "# dataset['Bottle_empty_out'].values[dataset['Bottle_out'] == 0 & (dataset['Bottle_full'] == 1 ) ] = 0\n",
    "\n",
    "# #Bottle\n",
    "# dataset.insert(0,'Bottle',0)\n",
    "# dataset['Bottle'].values[dataset['Bottle_full_in'] == 1] = 1\n",
    "# dataset['Bottle'].values[dataset['Bottle_full_out'] == 1] = 2\n",
    "# dataset['Bottle'].values[dataset['Bottle_empty_in'] == 1] = 3\n",
    "# dataset['Bottle'].values[dataset['Bottle_empty_out'] == 1] = 4\n",
    "\n"
   ]
  },
  {
   "cell_type": "markdown",
   "metadata": {},
   "source": [
    "### Preprocessing en opsplitsen van de dataset"
   ]
  },
  {
   "cell_type": "markdown",
   "metadata": {},
   "source": [
    "Splits de dataset in **features en targets**."
   ]
  },
  {
   "cell_type": "code",
   "execution_count": 7,
   "metadata": {},
   "outputs": [
    {
     "name": "stdout",
     "output_type": "stream",
     "text": [
      "(29, 6)\n",
      "(29,)\n"
     ]
    }
   ],
   "source": [
    "# Opsplitsen in features en targets\n",
    "y = dataset['DistAvgH'].values\n",
    "X = dataset.drop(['DistAvgH'], axis = 1).values\n",
    "\n",
    "print(X.shape)\n",
    "print(y.shape)\n",
    "\n",
    "\n",
    "#1 lijst met 303 waarden, 13 features"
   ]
  },
  {
   "cell_type": "markdown",
   "metadata": {},
   "source": [
    "Creëer een **trainingset en een testset**. Zorg dat er 100 patiënten in de testset steken. "
   ]
  },
  {
   "cell_type": "code",
   "execution_count": 8,
   "metadata": {},
   "outputs": [
    {
     "name": "stdout",
     "output_type": "stream",
     "text": [
      "(19, 6)\n",
      "(10, 6)\n"
     ]
    }
   ],
   "source": [
    "# Opsplitsen/opdelen in training set en test set\n",
    "X_train, X_test, y_train, y_test = train_test_split(X, y, test_size=0.33, random_state=0)\n",
    "\n",
    "#training set\n",
    "print(X_train.shape)\n",
    "\n",
    "#test set\n",
    "print(X_test.shape)\n",
    "\n"
   ]
  },
  {
   "cell_type": "markdown",
   "metadata": {},
   "source": [
    "**Schaal de dataset**. Zorg er dus voor dat de features op een gelijke schaalverdeling staan. Voor het scalen kan gebruik gemaakt worden van de *preprocessing.StandardScaler()*. Meer info over het gebruik ervan is te vinden op http://scikit-learn.org/stable/modules/generated/sklearn.preprocessing.StandardScaler.html"
   ]
  },
  {
   "cell_type": "code",
   "execution_count": 9,
   "metadata": {},
   "outputs": [],
   "source": [
    "# Normaliseren / scaling van de training set en de test set\n",
    "scaler = StandardScaler() #scalen\n",
    "scaler.fit(X_train)\n",
    "\n",
    "X_train = scaler.transform(X_train)\n",
    "X_test = scaler.transform(X_test)"
   ]
  },
  {
   "cell_type": "code",
   "execution_count": 10,
   "metadata": {},
   "outputs": [
    {
     "data": {
      "text/plain": [
       "array([-0.29092512, -0.1606592 , -0.31179979, -0.17375559, -0.26386824,\n",
       "       -0.4816289 ])"
      ]
     },
     "execution_count": 10,
     "metadata": {},
     "output_type": "execute_result"
    }
   ],
   "source": [
    "X_train[1]"
   ]
  },
  {
   "cell_type": "markdown",
   "metadata": {},
   "source": [
    "### Trainen van een logistic regression classifier en testen van het bekomen model"
   ]
  },
  {
   "cell_type": "markdown",
   "metadata": {},
   "source": [
    "Train een logistic regression classifier op de training data. Kies C=1 als startwaarde. Mocht de dataset niet gebalanceerd zijn (de ene klasse komt frequenter voor dan de andere klasse) dan kan je bij de creatie van het logistic regression model de parameter class_weight='balanced' meegeven. Meer info: http://scikit-learn.org/stable/modules/generated/sklearn.linear_model.LogisticRegression.html\n",
    "\n",
    "Test het getrainde model op de test set. Bepaal hierbij de confusion matrix, de accuracy en het classification report. Wat zijn de bevindingen? Probeer ook verschillende solvers uit. Bepaal ook telkens de ROC en formuleer conclusies.\n",
    "\n",
    "Probeer de performantie van de classifier te verhogen door de parameter C te veranderen.\n",
    "\n",
    "Evalueer de modellen telkens via de confusion matrix, classification report en indien mogelijk via de ROC-curve. Bespreek de resultaten."
   ]
  },
  {
   "cell_type": "code",
   "execution_count": 11,
   "metadata": {},
   "outputs": [
    {
     "name": "stdout",
     "output_type": "stream",
     "text": [
      "coefficiënten:  [[-0.31978509 -0.37342432 -0.32114512 -0.2906899  -0.32896151  0.10084573]\n",
      " [-0.13195636 -0.12364556 -0.13337557 -0.1409738  -0.14892968  0.08253184]\n",
      " [-0.27758906 -0.28043723 -0.27884871 -0.29687836 -0.27751417  0.09743777]\n",
      " [-0.09228451 -0.127299   -0.0938386  -0.08790497 -0.10093897  0.07870478]\n",
      " [ 0.00303489  0.01099551  0.00100089  0.00570278  0.00857788  0.0602145 ]\n",
      " [ 0.0853561   0.12262153  0.14096803  0.13974601  0.13434658  0.01779857]\n",
      " [-0.08536519 -0.0846508  -0.08685066 -0.09893413 -0.09537675  0.07686248]\n",
      " [-0.13064433 -0.14558983 -0.13207247 -0.14345229 -0.12914432  0.08273359]\n",
      " [ 0.03612109  0.06146005  0.0330228   0.05694114  0.04085557  0.04903416]\n",
      " [ 0.2966978   0.29299133  0.29621023  0.29231942  0.29491118 -0.45357399]\n",
      " [-0.04925302  0.03141775 -0.05437544  0.01676619 -0.02064953  0.0667799 ]\n",
      " [ 0.16630363  0.1796824   0.16021101  0.17648764  0.17208162 -0.00560328]\n",
      " [ 0.0087489  -0.03102544  0.00658379 -0.04089491 -0.01886883  0.06598324]\n",
      " [ 0.11184825  0.12878775  0.10435757  0.12390063  0.11139325  0.02356799]\n",
      " [ 0.06472059 -0.04276027  0.05796941 -0.06277636 -0.00600497  0.06458319]\n",
      " [ 0.32422128  0.32046421  0.32372661  0.31978535  0.32241073 -0.59150797]\n",
      " [-0.04721015  0.02762603 -0.05290822  0.01503121  0.00859127  0.06565099]\n",
      " [-0.0128627   0.01062121 -0.01577298  0.00061025 -0.00740425  0.06399338]\n",
      " [ 0.04989789  0.02216467  0.04513744  0.01521411  0.04062491  0.05396313]]\n",
      "intercept: [ 6.27730335e-03  1.39912861e-02 -1.05615453e-02  6.63099109e-03\n",
      "  5.73018197e-03  8.94096273e-03 -2.81571479e-03 -7.11441323e-03\n",
      "  4.44017613e-03  1.41179412e-02  7.49691934e-04  5.15542989e-03\n",
      " -4.37887097e-03 -8.04749475e-05 -1.32099185e-02  6.25207708e-03\n",
      " -1.51832691e-02 -1.05037951e-02 -8.43803953e-03]\n"
     ]
    },
    {
     "name": "stderr",
     "output_type": "stream",
     "text": [
      "C:\\Users\\domin\\AppData\\Local\\Programs\\Python\\Python310\\lib\\site-packages\\sklearn\\linear_model\\_logistic.py:814: ConvergenceWarning: lbfgs failed to converge (status=1):\n",
      "STOP: TOTAL NO. of ITERATIONS REACHED LIMIT.\n",
      "\n",
      "Increase the number of iterations (max_iter) or scale the data as shown in:\n",
      "    https://scikit-learn.org/stable/modules/preprocessing.html\n",
      "Please also refer to the documentation for alternative solver options:\n",
      "    https://scikit-learn.org/stable/modules/linear_model.html#logistic-regression\n",
      "  n_iter_i = _check_optimize_result(\n"
     ]
    }
   ],
   "source": [
    "# Train een logistic regression classifier\n",
    "\n",
    "logreg = linear_model.LogisticRegression(C=1e4, solver='lbfgs') # C= Inverse of regularization strength;\n",
    "                                                # must be a positive float. Like in support vector machines,\n",
    "\n",
    "\n",
    "\n",
    "    # smaller values specify stronger regularization.\n",
    "logreg.fit(X, y)\n",
    "\n",
    "print('coefficiënten: ',logreg.coef_)\n",
    "print('intercept:',logreg.intercept_)"
   ]
  },
  {
   "cell_type": "code",
   "execution_count": 12,
   "metadata": {},
   "outputs": [
    {
     "name": "stdout",
     "output_type": "stream",
     "text": [
      "              precision    recall  f1-score   support\n",
      "\n",
      "           9       0.50      1.00      0.67         2\n",
      "          10       0.00      0.00      0.00         1\n",
      "          15       0.00      0.00      0.00         1\n",
      "          27       0.00      0.00      0.00         1\n",
      "          28       0.00      0.00      0.00         0\n",
      "          32       0.00      0.00      0.00         1\n",
      "          33       0.00      0.00      0.00         1\n",
      "          37       0.00      0.00      0.00         0\n",
      "          38       0.00      0.00      0.00         2\n",
      "          39       0.00      0.00      0.00         1\n",
      "\n",
      "    accuracy                           0.20        10\n",
      "   macro avg       0.05      0.10      0.07        10\n",
      "weighted avg       0.10      0.20      0.13        10\n",
      "\n",
      "20.0\n",
      "[[2 0 0 0 0 0 0 0 0 0]\n",
      " [1 0 0 0 0 0 0 0 0 0]\n",
      " [1 0 0 0 0 0 0 0 0 0]\n",
      " [0 0 0 0 1 0 0 0 0 0]\n",
      " [0 0 0 0 0 0 0 0 0 0]\n",
      " [0 0 0 0 0 0 0 1 0 0]\n",
      " [0 0 0 0 0 0 0 1 0 0]\n",
      " [0 0 0 0 0 0 0 0 0 0]\n",
      " [0 0 0 0 0 0 0 2 0 0]\n",
      " [0 0 0 0 0 0 0 1 0 0]]\n"
     ]
    },
    {
     "name": "stderr",
     "output_type": "stream",
     "text": [
      "C:\\Users\\domin\\AppData\\Local\\Programs\\Python\\Python310\\lib\\site-packages\\sklearn\\metrics\\_classification.py:1318: UndefinedMetricWarning: Precision and F-score are ill-defined and being set to 0.0 in labels with no predicted samples. Use `zero_division` parameter to control this behavior.\n",
      "  _warn_prf(average, modifier, msg_start, len(result))\n",
      "C:\\Users\\domin\\AppData\\Local\\Programs\\Python\\Python310\\lib\\site-packages\\sklearn\\metrics\\_classification.py:1318: UndefinedMetricWarning: Recall and F-score are ill-defined and being set to 0.0 in labels with no true samples. Use `zero_division` parameter to control this behavior.\n",
      "  _warn_prf(average, modifier, msg_start, len(result))\n",
      "C:\\Users\\domin\\AppData\\Local\\Programs\\Python\\Python310\\lib\\site-packages\\sklearn\\metrics\\_classification.py:1318: UndefinedMetricWarning: Precision and F-score are ill-defined and being set to 0.0 in labels with no predicted samples. Use `zero_division` parameter to control this behavior.\n",
      "  _warn_prf(average, modifier, msg_start, len(result))\n",
      "C:\\Users\\domin\\AppData\\Local\\Programs\\Python\\Python310\\lib\\site-packages\\sklearn\\metrics\\_classification.py:1318: UndefinedMetricWarning: Recall and F-score are ill-defined and being set to 0.0 in labels with no true samples. Use `zero_division` parameter to control this behavior.\n",
      "  _warn_prf(average, modifier, msg_start, len(result))\n",
      "C:\\Users\\domin\\AppData\\Local\\Programs\\Python\\Python310\\lib\\site-packages\\sklearn\\metrics\\_classification.py:1318: UndefinedMetricWarning: Precision and F-score are ill-defined and being set to 0.0 in labels with no predicted samples. Use `zero_division` parameter to control this behavior.\n",
      "  _warn_prf(average, modifier, msg_start, len(result))\n",
      "C:\\Users\\domin\\AppData\\Local\\Programs\\Python\\Python310\\lib\\site-packages\\sklearn\\metrics\\_classification.py:1318: UndefinedMetricWarning: Recall and F-score are ill-defined and being set to 0.0 in labels with no true samples. Use `zero_division` parameter to control this behavior.\n",
      "  _warn_prf(average, modifier, msg_start, len(result))\n"
     ]
    }
   ],
   "source": [
    "# testen van de logistic regression classifier\n",
    "\n",
    "y_pred = logreg.predict(X_test)\n",
    "\n",
    "print(classification_report(y_test,y_pred))\n",
    "\n",
    "print(accuracy_score(y_test,y_pred)*100)\n",
    "\n",
    "\n",
    "print(confusion_matrix(y_test,y_pred))"
   ]
  },
  {
   "cell_type": "code",
   "execution_count": 13,
   "metadata": {},
   "outputs": [
    {
     "ename": "ValueError",
     "evalue": "multiclass format is not supported",
     "output_type": "error",
     "traceback": [
      "\u001b[1;31m---------------------------------------------------------------------------\u001b[0m",
      "\u001b[1;31mValueError\u001b[0m                                Traceback (most recent call last)",
      "Input \u001b[1;32mIn [13]\u001b[0m, in \u001b[0;36m<cell line: 7>\u001b[1;34m()\u001b[0m\n\u001b[0;32m      5\u001b[0m probs \u001b[38;5;241m=\u001b[39m logreg\u001b[38;5;241m.\u001b[39mpredict_proba(X_test)\n\u001b[0;32m      6\u001b[0m preds \u001b[38;5;241m=\u001b[39m probs[:,\u001b[38;5;241m1\u001b[39m]\n\u001b[1;32m----> 7\u001b[0m fpr, tpr, threshold \u001b[38;5;241m=\u001b[39m \u001b[43mmetrics\u001b[49m\u001b[38;5;241;43m.\u001b[39;49m\u001b[43mroc_curve\u001b[49m\u001b[43m(\u001b[49m\u001b[43my_test\u001b[49m\u001b[43m,\u001b[49m\u001b[43m \u001b[49m\u001b[43mpreds\u001b[49m\u001b[43m)\u001b[49m\n\u001b[0;32m      8\u001b[0m roc_auc \u001b[38;5;241m=\u001b[39m metrics\u001b[38;5;241m.\u001b[39mauc(fpr, tpr)\n\u001b[0;32m     10\u001b[0m \u001b[38;5;66;03m# method I: plt\u001b[39;00m\n",
      "File \u001b[1;32m~\\AppData\\Local\\Programs\\Python\\Python310\\lib\\site-packages\\sklearn\\metrics\\_ranking.py:962\u001b[0m, in \u001b[0;36mroc_curve\u001b[1;34m(y_true, y_score, pos_label, sample_weight, drop_intermediate)\u001b[0m\n\u001b[0;32m    873\u001b[0m \u001b[38;5;28;01mdef\u001b[39;00m \u001b[38;5;21mroc_curve\u001b[39m(\n\u001b[0;32m    874\u001b[0m     y_true, y_score, \u001b[38;5;241m*\u001b[39m, pos_label\u001b[38;5;241m=\u001b[39m\u001b[38;5;28;01mNone\u001b[39;00m, sample_weight\u001b[38;5;241m=\u001b[39m\u001b[38;5;28;01mNone\u001b[39;00m, drop_intermediate\u001b[38;5;241m=\u001b[39m\u001b[38;5;28;01mTrue\u001b[39;00m\n\u001b[0;32m    875\u001b[0m ):\n\u001b[0;32m    876\u001b[0m     \u001b[38;5;124;03m\"\"\"Compute Receiver operating characteristic (ROC).\u001b[39;00m\n\u001b[0;32m    877\u001b[0m \n\u001b[0;32m    878\u001b[0m \u001b[38;5;124;03m    Note: this implementation is restricted to the binary classification task.\u001b[39;00m\n\u001b[1;32m   (...)\u001b[0m\n\u001b[0;32m    960\u001b[0m \n\u001b[0;32m    961\u001b[0m \u001b[38;5;124;03m    \"\"\"\u001b[39;00m\n\u001b[1;32m--> 962\u001b[0m     fps, tps, thresholds \u001b[38;5;241m=\u001b[39m \u001b[43m_binary_clf_curve\u001b[49m\u001b[43m(\u001b[49m\n\u001b[0;32m    963\u001b[0m \u001b[43m        \u001b[49m\u001b[43my_true\u001b[49m\u001b[43m,\u001b[49m\u001b[43m \u001b[49m\u001b[43my_score\u001b[49m\u001b[43m,\u001b[49m\u001b[43m \u001b[49m\u001b[43mpos_label\u001b[49m\u001b[38;5;241;43m=\u001b[39;49m\u001b[43mpos_label\u001b[49m\u001b[43m,\u001b[49m\u001b[43m \u001b[49m\u001b[43msample_weight\u001b[49m\u001b[38;5;241;43m=\u001b[39;49m\u001b[43msample_weight\u001b[49m\n\u001b[0;32m    964\u001b[0m \u001b[43m    \u001b[49m\u001b[43m)\u001b[49m\n\u001b[0;32m    966\u001b[0m     \u001b[38;5;66;03m# Attempt to drop thresholds corresponding to points in between and\u001b[39;00m\n\u001b[0;32m    967\u001b[0m     \u001b[38;5;66;03m# collinear with other points. These are always suboptimal and do not\u001b[39;00m\n\u001b[0;32m    968\u001b[0m     \u001b[38;5;66;03m# appear on a plotted ROC curve (and thus do not affect the AUC).\u001b[39;00m\n\u001b[1;32m   (...)\u001b[0m\n\u001b[0;32m    973\u001b[0m     \u001b[38;5;66;03m# but does not drop more complicated cases like fps = [1, 3, 7],\u001b[39;00m\n\u001b[0;32m    974\u001b[0m     \u001b[38;5;66;03m# tps = [1, 2, 4]; there is no harm in keeping too many thresholds.\u001b[39;00m\n\u001b[0;32m    975\u001b[0m     \u001b[38;5;28;01mif\u001b[39;00m drop_intermediate \u001b[38;5;129;01mand\u001b[39;00m \u001b[38;5;28mlen\u001b[39m(fps) \u001b[38;5;241m>\u001b[39m \u001b[38;5;241m2\u001b[39m:\n",
      "File \u001b[1;32m~\\AppData\\Local\\Programs\\Python\\Python310\\lib\\site-packages\\sklearn\\metrics\\_ranking.py:731\u001b[0m, in \u001b[0;36m_binary_clf_curve\u001b[1;34m(y_true, y_score, pos_label, sample_weight)\u001b[0m\n\u001b[0;32m    729\u001b[0m y_type \u001b[38;5;241m=\u001b[39m type_of_target(y_true)\n\u001b[0;32m    730\u001b[0m \u001b[38;5;28;01mif\u001b[39;00m \u001b[38;5;129;01mnot\u001b[39;00m (y_type \u001b[38;5;241m==\u001b[39m \u001b[38;5;124m\"\u001b[39m\u001b[38;5;124mbinary\u001b[39m\u001b[38;5;124m\"\u001b[39m \u001b[38;5;129;01mor\u001b[39;00m (y_type \u001b[38;5;241m==\u001b[39m \u001b[38;5;124m\"\u001b[39m\u001b[38;5;124mmulticlass\u001b[39m\u001b[38;5;124m\"\u001b[39m \u001b[38;5;129;01mand\u001b[39;00m pos_label \u001b[38;5;129;01mis\u001b[39;00m \u001b[38;5;129;01mnot\u001b[39;00m \u001b[38;5;28;01mNone\u001b[39;00m)):\n\u001b[1;32m--> 731\u001b[0m     \u001b[38;5;28;01mraise\u001b[39;00m \u001b[38;5;167;01mValueError\u001b[39;00m(\u001b[38;5;124m\"\u001b[39m\u001b[38;5;132;01m{0}\u001b[39;00m\u001b[38;5;124m format is not supported\u001b[39m\u001b[38;5;124m\"\u001b[39m\u001b[38;5;241m.\u001b[39mformat(y_type))\n\u001b[0;32m    733\u001b[0m check_consistent_length(y_true, y_score, sample_weight)\n\u001b[0;32m    734\u001b[0m y_true \u001b[38;5;241m=\u001b[39m column_or_1d(y_true)\n",
      "\u001b[1;31mValueError\u001b[0m: multiclass format is not supported"
     ]
    }
   ],
   "source": [
    "# ROC\n",
    "\n",
    "import sklearn.metrics as metrics\n",
    "# calculate the fpr and tpr for all thresholds of the classification\n",
    "probs = logreg.predict_proba(X_test)\n",
    "preds = probs[:,1]\n",
    "fpr, tpr, threshold = metrics.roc_curve(y_test, preds)\n",
    "roc_auc = metrics.auc(fpr, tpr)\n",
    "\n",
    "# method I: plt\n",
    "import matplotlib.pyplot as plt\n",
    "plt.title('Receiver Operating Characteristic')\n",
    "plt.plot(fpr, tpr, 'b', label = 'AUC = %0.2f' % roc_auc)\n",
    "plt.legend(loc = 'lower right')\n",
    "plt.plot([0, 1], [0, 1],'r--')\n",
    "plt.xlim([0, 1])\n",
    "plt.ylim([0, 1])\n",
    "plt.ylabel('True Positive Rate')\n",
    "plt.xlabel('False Positive Rate')\n",
    "plt.show()"
   ]
  },
  {
   "cell_type": "code",
   "execution_count": 14,
   "metadata": {},
   "outputs": [
    {
     "name": "stdout",
     "output_type": "stream",
     "text": [
      "[[0.32748964 0.07028715 0.21976066 0.05344545 0.02273597 0.00896757\n",
      "  0.0481334  0.06934573 0.01660313 0.00242191 0.02697493 0.00615526\n",
      "  0.02631067 0.00945053 0.02238316 0.00195777 0.02545563 0.02439095\n",
      "  0.01773049]\n",
      " [0.00772929 0.01908101 0.00936031 0.02228322 0.03686994 0.06548969\n",
      "  0.02320355 0.01859414 0.04465099 0.1805224  0.03353825 0.08178172\n",
      "  0.03278661 0.06226698 0.03486242 0.2172165  0.03382113 0.03451912\n",
      "  0.04142272]\n",
      " [0.00187806 0.00910837 0.00266532 0.01196915 0.02878898 0.07535228\n",
      "  0.01295258 0.00882854 0.04007276 0.22005909 0.02525046 0.10803653\n",
      "  0.02330602 0.06980521 0.02545655 0.24928012 0.02595136 0.02618473\n",
      "  0.03505389]\n",
      " [0.36397219 0.0671368  0.24119774 0.04851239 0.01866508 0.00625744\n",
      "  0.04390136 0.06583801 0.01298607 0.000783   0.02271313 0.00403427\n",
      "  0.02225618 0.00674487 0.01877616 0.00051353 0.02125504 0.02032584\n",
      "  0.01413092]\n",
      " [0.00266626 0.01191325 0.00371439 0.01549489 0.03524309 0.0859219\n",
      "  0.01664259 0.01159177 0.04777065 0.18184269 0.03052137 0.11975404\n",
      "  0.02936051 0.08016098 0.03265314 0.18850773 0.03129495 0.03210425\n",
      "  0.04284155]\n",
      " [0.00179097 0.00937569 0.00258685 0.0125208  0.03113896 0.08375126\n",
      "  0.0135789  0.00909419 0.04372094 0.20328903 0.02673998 0.12125207\n",
      "  0.02535795 0.07765552 0.0283714  0.21553551 0.02748678 0.02816971\n",
      "  0.03858349]\n",
      " [0.00797538 0.02146904 0.00986902 0.02556486 0.04381756 0.07915008\n",
      "  0.02666665 0.02098716 0.05337465 0.13985477 0.03904224 0.09887004\n",
      "  0.03920405 0.07537787 0.04272867 0.14564568 0.0394862  0.04081805\n",
      "  0.05009802]\n",
      " [0.04085461 0.05112055 0.0423106  0.05206546 0.05852165 0.06365088\n",
      "  0.05244911 0.04955875 0.06109043 0.03248129 0.06082463 0.06419771\n",
      "  0.05465169 0.06305576 0.05202641 0.02583548 0.06004032 0.05783404\n",
      "  0.05743064]\n",
      " [0.333064   0.07015426 0.22741936 0.0519779  0.02174082 0.00820667\n",
      "  0.04742032 0.06876311 0.01568455 0.00196167 0.02593741 0.00558566\n",
      "  0.02543504 0.00874276 0.021708   0.00153482 0.02438127 0.02342372\n",
      "  0.01685867]\n",
      " [0.20284223 0.07638088 0.1566056  0.06385878 0.03699293 0.02026892\n",
      "  0.05958813 0.07509391 0.03022143 0.00760574 0.04144344 0.01582703\n",
      "  0.04035723 0.02092799 0.03611073 0.00634077 0.03970751 0.03853101\n",
      "  0.03129575]]\n"
     ]
    }
   ],
   "source": [
    "#probability prediciton van ROC\n",
    "print(probs)"
   ]
  },
  {
   "cell_type": "markdown",
   "metadata": {},
   "source": [
    "### Feature engineering\n",
    "Creeër hogere orde features door gebruik te maken van *preprocessing.PolynomialFeatures*. Meer info is te vinden op http://scikit-learn.org/stable/modules/generated/sklearn.preprocessing.PolynomialFeatures.html\n",
    "\n",
    "Deze functie zal automatische hogere orde features aanmaken door het combineren van de aanwezige features. Heb je bijvoorbeeld drie features, zijnde A, B en C dan worden bij de keuze van een derde orde PolynomialFeatures volgende nieuwe features bijgemaakt:\n",
    "$A^3, B^3,C^3,A^2B,A^2C,AB^2, B^2C,...$\n",
    "\n",
    "Experimenteer met verschillende ordes en gebruik de regularisatieparameter C om de performantie te verhogen. Voor indien nodig ook regularisatie uit via een L1 of L2 penalty.\n",
    "\n",
    "**Opgepast**: het kiezen van een te hoge orde zorgt voor een exponentiële toename aan features waardoor de logistic regression classifier niet meer binnen aanvaardbare tijd getraind kan worden. Advies is om niet hoger te gaan dan 4de orde."
   ]
  },
  {
   "cell_type": "code",
   "execution_count": 17,
   "metadata": {},
   "outputs": [
    {
     "name": "stdout",
     "output_type": "stream",
     "text": [
      "dimensie van X_train_poly:  (19, 28)\n",
      "dimensie van X_test_poly:  (10, 28)\n",
      "R2 score op test set via L2:  0.9701523623663048\n",
      "R2 score op training set via L2:  0.9684874314560378\n",
      "R2 score op test set via L1:  0.9988591704820817\n",
      "R2 score op training set via L1:  0.9994205689034861\n"
     ]
    }
   ],
   "source": [
    "# Toevoegen van extra features\n",
    "# Modeloptimalisatie en Hyperparameter tuning\n",
    "# Automatisch toevoegen van hogere orde features\n",
    "\n",
    "from sklearn.preprocessing import PolynomialFeatures\n",
    "\n",
    "\n",
    "# Aanmaken van de hogere orde features\n",
    "graad = 2\n",
    "\n",
    "poly = PolynomialFeatures(graad)\n",
    "poly.fit(X_train)\n",
    "X_train_poly = poly.transform(X_train)\n",
    "X_test_poly = poly.transform(X_test)\n",
    "print('dimensie van X_train_poly: ',X_train_poly.shape)\n",
    "print('dimensie van X_test_poly: ',X_test_poly.shape)\n",
    "\n",
    "#scalen (optioneel?)\n",
    "scaler_poly = StandardScaler()\n",
    "scaler_poly.fit(X_train_poly)\n",
    "\n",
    "X_train_poly = scaler_poly.transform(X_train_poly)\n",
    "X_test_poly = scaler_poly.transform(X_test_poly)\n",
    "\n",
    "\n",
    "# met L2 regularisatie via Ridge regression\n",
    "lregmodel_poly = Ridge(alpha=20,tol=0.0001,fit_intercept=True)\n",
    "lregmodel_poly.fit(X_train_poly,y_train)\n",
    "\n",
    "print('R2 score op test set via L2: ',lregmodel_poly.score(X_test_poly,y_test))\n",
    "# R2 -score via L2 op de trainingset\n",
    "print('R2 score op training set via L2: ',lregmodel_poly.score(X_train_poly,y_train))\n",
    "\n",
    "\n",
    "# met L1 regularisatie via Lasso regression\n",
    "lregmodel_poly = Lasso(alpha=0.001,tol=0.001,fit_intercept=True)\n",
    "lregmodel_poly.fit(X_train_poly,y_train)      \n",
    "  \n",
    "      \n",
    "print('R2 score op test set via L1: ',lregmodel_poly.score(X_test_poly,y_test))\n",
    "  \n",
    "# R2 -score via L1 op de trainingset\n",
    "print('R2 score op training set via L1: ',lregmodel_poly.score(X_train_poly,y_train))  \n"
   ]
  },
  {
   "cell_type": "markdown",
   "metadata": {},
   "source": [
    "Wat zijn de bevindingen? Formuleer een conclusie. Bespreek hierin de performantie van de getrainde modellen. Wat is de invloed van de parameter C en van het aantal features? Heb je te maken gehad met underfitting en overfitting en hoe heb je dit bepaald? Welke accuracy werd bekomen en hoe zit het met de Recall en Precision? Is de grootte van de trainingset voldoende?"
   ]
  },
  {
   "cell_type": "markdown",
   "metadata": {},
   "source": [
    "Antwoord: Er was een schommeling van 0.02 bij accuracy afhankelijk van hoe ik de C-waarde wijzigde (C1e5->C1e1), mijn accuracy is 80.0, ook de recall en precision wijzigde mee met de C-waarde (schommeling van 0.1)\n",
    "\n",
    "Bij het toevoegen van hogere orde features heb ik de R2 score bij de trainingsets op 0.96 en 0.99."
   ]
  },
  {
   "cell_type": "markdown",
   "metadata": {},
   "source": [
    "### Voorspel aan de hand van het getrainde model\n",
    "\n",
    "Voorspel of iemand met onderstaande medische parameters als dan niet hartpatient is. Geef ook de zekerheid van het model weer (kansen dat de patiënt tot een bepaalde klasse behoort).\n",
    "\n",
    "age: 37 - sex: man, cp:3, trestbps: 140, chol:274, fbs: 1, restecg: 1, thalach: 153, exang: 0, oldpeak: 1.4, \n",
    "slope: 2, ca: 1, thal: 3\n",
    "\n",
    "\n",
    "DistMinH:29\tDistMaxH:30\t\tDistAvgH:X\tDistMinL:29\tDistMaxL:30\tDistAvgL:29\tDistTime:765\tRackRow_2:1\n",
    "\n",
    "\t\t\t\t\n"
   ]
  },
  {
   "cell_type": "code",
   "execution_count": 17,
   "metadata": {},
   "outputs": [
    {
     "name": "stdout",
     "output_type": "stream",
     "text": [
      "[33]\n",
      "[[4.74904226e-010 6.28483232e-004 2.39901675e-008 5.88111039e-003\n",
      "  2.64020240e-002 8.22935016e-009 6.46315986e-003 6.60816468e-004\n",
      "  1.81207124e-003 1.43809638e-154 1.93582717e-001 1.25328205e-013\n",
      "  9.45866809e-002 1.93028805e-007 3.82823809e-001 1.21107550e-198\n",
      "  1.75937552e-001 9.68427697e-002 1.43785804e-002]]\n"
     ]
    }
   ],
   "source": [
    "# Voorspelling van de target.\n",
    "target = np.array([[29,30,29,30,29,765]])\n",
    "\n",
    "#scaling\n",
    "scaler.transform(target)\n",
    "\n",
    "print(logreg.predict(target))\n",
    "\n",
    "print(logreg.predict_proba(np.array([29,30,29,30,29,765]).reshape(1,-1)))\n",
    "\n",
    "\n",
    "\n",
    "\n"
   ]
  },
  {
   "cell_type": "markdown",
   "metadata": {},
   "source": [
    "Standaard zal het model een sample toewijzen aan klasse 1 van zodra de probiliteit boven de threshold van 50% uisteekt. \n",
    "Men wil echter de kans op false negatives drastisch verminderen door het aanpassen van de threshold. Welke threshold moet men instellen om ervoor te zorgen dat het model op de test set geen false negatives meer voorspelt en toch nog een zo hoog mogelijke accuraatheid heeft?\n",
    "Stel het aantal false negatives in functie van de threshold grafisch voor. Bespreek de resultaten."
   ]
  },
  {
   "cell_type": "code",
   "execution_count": 18,
   "metadata": {},
   "outputs": [],
   "source": [
    "# reduceren van het aantal false negatives door de threshold aan te passen\n",
    "#threshold verlagen!\n",
    "\n"
   ]
  },
  {
   "cell_type": "markdown",
   "metadata": {},
   "source": [
    "## Opdracht 2. Penguins\n",
    "\n",
    "\n",
    "De dataset `penguins.csv` bevat data van verschillende soorten pinguïns. Deze dataset is origineel bedoeld om te kijken of het mogelijk is om te voorspellen tot welke soort een pinguïns behoort aan de hand van de andere variabelen.\n",
    "\n",
    "<img src='penguins.jpg'>\n",
    "\n",
    "<br />\n",
    "\n",
    "| Variable | Beschrijving |\n",
    "| --- | --- | \n",
    "|studyName \t|De studie waar de data van de penguin oorspronkelijk vandaan komt. |\n",
    "|Sample Number|\tEen unieke ID die iedere penguin die in het onderzoek voorkomt krijgt.\n",
    "|Species |\t De soorten penguins die voorkomen in de dataset.|\n",
    "|Island | Het eiland waar de penguin geobserveerd werd.|\n",
    "|Clutch Completion | Of er minstens 1 eitje uit het nest uitgekomen is.|\n",
    "|Culmen Length (mm) |\tDe lengte van de snavel in millimeter. |\n",
    "|Culmen Depth (mm) | De diepte van de snavel in millimeter. |\n",
    "|Flipper Length (mm)  \t| De lengte van de vin in millimeter. |\n",
    "|Body Mass (g) | Het gewicht van de penguin in gram. |\n",
    "|Sex | Het geslacht (binair: 'FEMALE' - vrouw or 'MALE' - man)|\n",
    "|Comments | Specifieke commentaar die bij een bepaalde penguin hoort.|\n",
    "\n",
    "<br />   \n",
    "lees de dataset in en toon de eerste 7 rijen.  <br />   \n",
    "De kolom comments heeft amper data, deze kolom mag uit de dataset verwijdert worden.  <br />   \n",
    "Gebruik listwise deletion bij de overige ontbrekende waarden. Is de dataset gebalanceerd? Maw, zijn er evenveel penguins per soort?  <br />   \n",
    "Bouw een logistic regression model dat zo accuraat mogelijk de penguinsoort kan bepalen. Hierbij pas je alle overige preprocessing stappen toe die je nodig acht. Het is ook toegestaann om features bij te maken of weg te laten.\n",
    "<br />   \n",
    "Schrijf jouw conclusies op met betrekking tot het finaal bekomen model.\n"
   ]
  },
  {
   "cell_type": "code",
   "execution_count": 19,
   "metadata": {},
   "outputs": [
    {
     "name": "stdout",
     "output_type": "stream",
     "text": [
      "Dimensie van de dataset: (29, 27)\n"
     ]
    },
    {
     "data": {
      "text/html": [
       "<div>\n",
       "<style scoped>\n",
       "    .dataframe tbody tr th:only-of-type {\n",
       "        vertical-align: middle;\n",
       "    }\n",
       "\n",
       "    .dataframe tbody tr th {\n",
       "        vertical-align: top;\n",
       "    }\n",
       "\n",
       "    .dataframe thead th {\n",
       "        text-align: right;\n",
       "    }\n",
       "</style>\n",
       "<table border=\"1\" class=\"dataframe\">\n",
       "  <thead>\n",
       "    <tr style=\"text-align: right;\">\n",
       "      <th></th>\n",
       "      <th>PartitionKey</th>\n",
       "      <th>RowKey</th>\n",
       "      <th>Timestamp</th>\n",
       "      <th>RackRow</th>\n",
       "      <th>RackRow@type</th>\n",
       "      <th>Label</th>\n",
       "      <th>Label@type</th>\n",
       "      <th>WeightPre</th>\n",
       "      <th>WeightPre@type</th>\n",
       "      <th>WeightPost</th>\n",
       "      <th>...</th>\n",
       "      <th>DistAvgH</th>\n",
       "      <th>DistAvgH@type</th>\n",
       "      <th>DistMinL</th>\n",
       "      <th>DistMinL@type</th>\n",
       "      <th>DistMaxL</th>\n",
       "      <th>DistMaxL@type</th>\n",
       "      <th>DistAvgL</th>\n",
       "      <th>DistAvgL@type</th>\n",
       "      <th>DistTime</th>\n",
       "      <th>DistTime@type</th>\n",
       "    </tr>\n",
       "  </thead>\n",
       "  <tbody>\n",
       "    <tr>\n",
       "      <th>0</th>\n",
       "      <td>F0:08:D1:C8:A7:34</td>\n",
       "      <td>06e05b50-bcbf-4fad-a713-c19975ef4b42</td>\n",
       "      <td>2022-05-25T13:16:47.9637282Z</td>\n",
       "      <td>2</td>\n",
       "      <td>Int32</td>\n",
       "      <td>3</td>\n",
       "      <td>Int32</td>\n",
       "      <td>0</td>\n",
       "      <td>Int32</td>\n",
       "      <td>0</td>\n",
       "      <td>...</td>\n",
       "      <td>28</td>\n",
       "      <td>Int32</td>\n",
       "      <td>27</td>\n",
       "      <td>Int32</td>\n",
       "      <td>29</td>\n",
       "      <td>Int32</td>\n",
       "      <td>28</td>\n",
       "      <td>Int32</td>\n",
       "      <td>207</td>\n",
       "      <td>Int32</td>\n",
       "    </tr>\n",
       "    <tr>\n",
       "      <th>1</th>\n",
       "      <td>F0:08:D1:C8:A7:34</td>\n",
       "      <td>0cffb11c-0506-4d8d-8cad-7f2d00053380</td>\n",
       "      <td>2022-05-25T13:15:19.5884474Z</td>\n",
       "      <td>2</td>\n",
       "      <td>Int32</td>\n",
       "      <td>2</td>\n",
       "      <td>Int32</td>\n",
       "      <td>0</td>\n",
       "      <td>Int32</td>\n",
       "      <td>0</td>\n",
       "      <td>...</td>\n",
       "      <td>33</td>\n",
       "      <td>Int32</td>\n",
       "      <td>32</td>\n",
       "      <td>Int32</td>\n",
       "      <td>34</td>\n",
       "      <td>Int32</td>\n",
       "      <td>33</td>\n",
       "      <td>Int32</td>\n",
       "      <td>1136</td>\n",
       "      <td>Int32</td>\n",
       "    </tr>\n",
       "    <tr>\n",
       "      <th>2</th>\n",
       "      <td>F0:08:D1:C8:A7:34</td>\n",
       "      <td>11090373-a998-47a1-b8c3-807b4c036d53</td>\n",
       "      <td>2022-05-25T13:17:16.801118Z</td>\n",
       "      <td>2</td>\n",
       "      <td>Int32</td>\n",
       "      <td>6</td>\n",
       "      <td>Int32</td>\n",
       "      <td>0</td>\n",
       "      <td>Int32</td>\n",
       "      <td>0</td>\n",
       "      <td>...</td>\n",
       "      <td>9</td>\n",
       "      <td>Int32</td>\n",
       "      <td>9</td>\n",
       "      <td>Int32</td>\n",
       "      <td>15</td>\n",
       "      <td>Int32</td>\n",
       "      <td>11</td>\n",
       "      <td>Int32</td>\n",
       "      <td>513</td>\n",
       "      <td>Int32</td>\n",
       "    </tr>\n",
       "    <tr>\n",
       "      <th>3</th>\n",
       "      <td>F0:08:D1:C8:A7:34</td>\n",
       "      <td>13f3867e-2b06-43a9-8843-e3f5245cf925</td>\n",
       "      <td>2022-05-25T13:20:12.9485555Z</td>\n",
       "      <td>2</td>\n",
       "      <td>Int32</td>\n",
       "      <td>21</td>\n",
       "      <td>Int32</td>\n",
       "      <td>0</td>\n",
       "      <td>Int32</td>\n",
       "      <td>0</td>\n",
       "      <td>...</td>\n",
       "      <td>29</td>\n",
       "      <td>Int32</td>\n",
       "      <td>29</td>\n",
       "      <td>Int32</td>\n",
       "      <td>30</td>\n",
       "      <td>Int32</td>\n",
       "      <td>29</td>\n",
       "      <td>Int32</td>\n",
       "      <td>765</td>\n",
       "      <td>Int32</td>\n",
       "    </tr>\n",
       "    <tr>\n",
       "      <th>4</th>\n",
       "      <td>F0:08:D1:C8:A7:34</td>\n",
       "      <td>275027a4-b73f-484f-916b-ba69df4b65c4</td>\n",
       "      <td>2022-05-25T13:21:42.5068964Z</td>\n",
       "      <td>2</td>\n",
       "      <td>Int32</td>\n",
       "      <td>5</td>\n",
       "      <td>Int32</td>\n",
       "      <td>0</td>\n",
       "      <td>Int32</td>\n",
       "      <td>0</td>\n",
       "      <td>...</td>\n",
       "      <td>14</td>\n",
       "      <td>Int32</td>\n",
       "      <td>12</td>\n",
       "      <td>Int32</td>\n",
       "      <td>16</td>\n",
       "      <td>Int32</td>\n",
       "      <td>14</td>\n",
       "      <td>Int32</td>\n",
       "      <td>1135</td>\n",
       "      <td>Int32</td>\n",
       "    </tr>\n",
       "    <tr>\n",
       "      <th>5</th>\n",
       "      <td>F0:08:D1:C8:A7:34</td>\n",
       "      <td>397b206d-120f-41b2-875d-5aeb20a71121</td>\n",
       "      <td>2022-05-25T13:20:50.1554834Z</td>\n",
       "      <td>2</td>\n",
       "      <td>Int32</td>\n",
       "      <td>24</td>\n",
       "      <td>Int32</td>\n",
       "      <td>0</td>\n",
       "      <td>Int32</td>\n",
       "      <td>0</td>\n",
       "      <td>...</td>\n",
       "      <td>10</td>\n",
       "      <td>Int32</td>\n",
       "      <td>9</td>\n",
       "      <td>Int32</td>\n",
       "      <td>12</td>\n",
       "      <td>Int32</td>\n",
       "      <td>10</td>\n",
       "      <td>Int32</td>\n",
       "      <td>574</td>\n",
       "      <td>Int32</td>\n",
       "    </tr>\n",
       "    <tr>\n",
       "      <th>6</th>\n",
       "      <td>F0:08:D1:C8:A7:34</td>\n",
       "      <td>4a24c5c6-e4f8-4cff-860c-2f8d754e581b</td>\n",
       "      <td>2022-05-25T13:19:04.2714384Z</td>\n",
       "      <td>2</td>\n",
       "      <td>Int32</td>\n",
       "      <td>15</td>\n",
       "      <td>Int32</td>\n",
       "      <td>0</td>\n",
       "      <td>Int32</td>\n",
       "      <td>0</td>\n",
       "      <td>...</td>\n",
       "      <td>27</td>\n",
       "      <td>Int32</td>\n",
       "      <td>27</td>\n",
       "      <td>Int32</td>\n",
       "      <td>29</td>\n",
       "      <td>Int32</td>\n",
       "      <td>27</td>\n",
       "      <td>Int32</td>\n",
       "      <td>393</td>\n",
       "      <td>Int32</td>\n",
       "    </tr>\n",
       "  </tbody>\n",
       "</table>\n",
       "<p>7 rows × 27 columns</p>\n",
       "</div>"
      ],
      "text/plain": [
       "        PartitionKey                                RowKey  \\\n",
       "0  F0:08:D1:C8:A7:34  06e05b50-bcbf-4fad-a713-c19975ef4b42   \n",
       "1  F0:08:D1:C8:A7:34  0cffb11c-0506-4d8d-8cad-7f2d00053380   \n",
       "2  F0:08:D1:C8:A7:34  11090373-a998-47a1-b8c3-807b4c036d53   \n",
       "3  F0:08:D1:C8:A7:34  13f3867e-2b06-43a9-8843-e3f5245cf925   \n",
       "4  F0:08:D1:C8:A7:34  275027a4-b73f-484f-916b-ba69df4b65c4   \n",
       "5  F0:08:D1:C8:A7:34  397b206d-120f-41b2-875d-5aeb20a71121   \n",
       "6  F0:08:D1:C8:A7:34  4a24c5c6-e4f8-4cff-860c-2f8d754e581b   \n",
       "\n",
       "                      Timestamp  RackRow RackRow@type  Label Label@type  \\\n",
       "0  2022-05-25T13:16:47.9637282Z        2        Int32      3      Int32   \n",
       "1  2022-05-25T13:15:19.5884474Z        2        Int32      2      Int32   \n",
       "2   2022-05-25T13:17:16.801118Z        2        Int32      6      Int32   \n",
       "3  2022-05-25T13:20:12.9485555Z        2        Int32     21      Int32   \n",
       "4  2022-05-25T13:21:42.5068964Z        2        Int32      5      Int32   \n",
       "5  2022-05-25T13:20:50.1554834Z        2        Int32     24      Int32   \n",
       "6  2022-05-25T13:19:04.2714384Z        2        Int32     15      Int32   \n",
       "\n",
       "   WeightPre WeightPre@type  WeightPost  ... DistAvgH  DistAvgH@type DistMinL  \\\n",
       "0          0          Int32           0  ...       28          Int32       27   \n",
       "1          0          Int32           0  ...       33          Int32       32   \n",
       "2          0          Int32           0  ...        9          Int32        9   \n",
       "3          0          Int32           0  ...       29          Int32       29   \n",
       "4          0          Int32           0  ...       14          Int32       12   \n",
       "5          0          Int32           0  ...       10          Int32        9   \n",
       "6          0          Int32           0  ...       27          Int32       27   \n",
       "\n",
       "   DistMinL@type DistMaxL  DistMaxL@type DistAvgL  DistAvgL@type DistTime  \\\n",
       "0          Int32       29          Int32       28          Int32      207   \n",
       "1          Int32       34          Int32       33          Int32     1136   \n",
       "2          Int32       15          Int32       11          Int32      513   \n",
       "3          Int32       30          Int32       29          Int32      765   \n",
       "4          Int32       16          Int32       14          Int32     1135   \n",
       "5          Int32       12          Int32       10          Int32      574   \n",
       "6          Int32       29          Int32       27          Int32      393   \n",
       "\n",
       "   DistTime@type  \n",
       "0          Int32  \n",
       "1          Int32  \n",
       "2          Int32  \n",
       "3          Int32  \n",
       "4          Int32  \n",
       "5          Int32  \n",
       "6          Int32  \n",
       "\n",
       "[7 rows x 27 columns]"
      ]
     },
     "execution_count": 19,
     "metadata": {},
     "output_type": "execute_result"
    }
   ],
   "source": [
    "dataset = pd.read_csv('TestData.csv')\n",
    "print('Dimensie van de dataset:',dataset.shape)\n",
    "dataset.head(7)"
   ]
  },
  {
   "cell_type": "code",
   "execution_count": 20,
   "metadata": {},
   "outputs": [
    {
     "data": {
      "text/html": [
       "<div>\n",
       "<style scoped>\n",
       "    .dataframe tbody tr th:only-of-type {\n",
       "        vertical-align: middle;\n",
       "    }\n",
       "\n",
       "    .dataframe tbody tr th {\n",
       "        vertical-align: top;\n",
       "    }\n",
       "\n",
       "    .dataframe thead th {\n",
       "        text-align: right;\n",
       "    }\n",
       "</style>\n",
       "<table border=\"1\" class=\"dataframe\">\n",
       "  <thead>\n",
       "    <tr style=\"text-align: right;\">\n",
       "      <th></th>\n",
       "      <th>DistMinH</th>\n",
       "      <th>DistMaxH</th>\n",
       "      <th>DistAvgH</th>\n",
       "      <th>DistMinL</th>\n",
       "      <th>DistMaxL</th>\n",
       "      <th>DistAvgL</th>\n",
       "      <th>DistTime</th>\n",
       "      <th>RackRow_2</th>\n",
       "    </tr>\n",
       "  </thead>\n",
       "  <tbody>\n",
       "    <tr>\n",
       "      <th>0</th>\n",
       "      <td>27</td>\n",
       "      <td>29</td>\n",
       "      <td>28</td>\n",
       "      <td>27</td>\n",
       "      <td>29</td>\n",
       "      <td>28</td>\n",
       "      <td>207</td>\n",
       "      <td>1</td>\n",
       "    </tr>\n",
       "    <tr>\n",
       "      <th>1</th>\n",
       "      <td>32</td>\n",
       "      <td>34</td>\n",
       "      <td>33</td>\n",
       "      <td>32</td>\n",
       "      <td>34</td>\n",
       "      <td>33</td>\n",
       "      <td>1136</td>\n",
       "      <td>1</td>\n",
       "    </tr>\n",
       "    <tr>\n",
       "      <th>2</th>\n",
       "      <td>9</td>\n",
       "      <td>10</td>\n",
       "      <td>9</td>\n",
       "      <td>9</td>\n",
       "      <td>15</td>\n",
       "      <td>11</td>\n",
       "      <td>513</td>\n",
       "      <td>1</td>\n",
       "    </tr>\n",
       "    <tr>\n",
       "      <th>3</th>\n",
       "      <td>29</td>\n",
       "      <td>30</td>\n",
       "      <td>29</td>\n",
       "      <td>29</td>\n",
       "      <td>30</td>\n",
       "      <td>29</td>\n",
       "      <td>765</td>\n",
       "      <td>1</td>\n",
       "    </tr>\n",
       "    <tr>\n",
       "      <th>4</th>\n",
       "      <td>12</td>\n",
       "      <td>16</td>\n",
       "      <td>14</td>\n",
       "      <td>12</td>\n",
       "      <td>16</td>\n",
       "      <td>14</td>\n",
       "      <td>1135</td>\n",
       "      <td>1</td>\n",
       "    </tr>\n",
       "    <tr>\n",
       "      <th>5</th>\n",
       "      <td>9</td>\n",
       "      <td>12</td>\n",
       "      <td>10</td>\n",
       "      <td>9</td>\n",
       "      <td>12</td>\n",
       "      <td>10</td>\n",
       "      <td>574</td>\n",
       "      <td>1</td>\n",
       "    </tr>\n",
       "    <tr>\n",
       "      <th>6</th>\n",
       "      <td>27</td>\n",
       "      <td>29</td>\n",
       "      <td>27</td>\n",
       "      <td>27</td>\n",
       "      <td>29</td>\n",
       "      <td>27</td>\n",
       "      <td>393</td>\n",
       "      <td>1</td>\n",
       "    </tr>\n",
       "  </tbody>\n",
       "</table>\n",
       "</div>"
      ],
      "text/plain": [
       "   DistMinH  DistMaxH  DistAvgH  DistMinL  DistMaxL  DistAvgL  DistTime  \\\n",
       "0        27        29        28        27        29        28       207   \n",
       "1        32        34        33        32        34        33      1136   \n",
       "2         9        10         9         9        15        11       513   \n",
       "3        29        30        29        29        30        29       765   \n",
       "4        12        16        14        12        16        14      1135   \n",
       "5         9        12        10         9        12        10       574   \n",
       "6        27        29        27        27        29        27       393   \n",
       "\n",
       "   RackRow_2  \n",
       "0          1  \n",
       "1          1  \n",
       "2          1  \n",
       "3          1  \n",
       "4          1  \n",
       "5          1  \n",
       "6          1  "
      ]
     },
     "execution_count": 20,
     "metadata": {},
     "output_type": "execute_result"
    }
   ],
   "source": [
    "# uitwerking van de opdracht: \n",
    "\n",
    "#comments kolom verwijderen\n",
    "# verwijder kollomen die niet relevant zijn met model (id's,types)\n",
    "dataset.drop(['PartitionKey','RowKey','Timestamp',],axis=1,inplace=True)\n",
    "dataset.drop('RackRow@type',axis=1,inplace=True)\n",
    "dataset.drop('Label',axis=1,inplace=True)\n",
    "dataset.drop('Label@type',axis=1,inplace=True)\n",
    "\n",
    "# verwijder kollomen weight \n",
    "dataset.drop(['WeightPre','WeightPre@type','WeightPost','WeightPost@type', 'WeightDiff','WeightDiff@type'],axis=1,inplace=True)\n",
    "\n",
    "\n",
    "#verwijder kollomen distance\n",
    "dataset.drop(['DistMinH@type','DistMaxH@type','DistAvgH@type','DistMinL@type', 'DistMaxL@type','DistAvgL@type', 'DistTime@type'],axis=1,inplace=True)\n",
    "\n",
    "\n",
    "#one hot encoding\n",
    "dataset = pd.concat([dataset,pd.get_dummies(dataset['RackRow'], prefix='RackRow')],axis=1)\n",
    "dataset.drop(['RackRow'],axis=1, inplace=True)\n",
    "\n",
    "\n",
    "\n",
    "\n",
    "\n",
    "dataset.head(7)"
   ]
  },
  {
   "cell_type": "code",
   "execution_count": 21,
   "metadata": {},
   "outputs": [
    {
     "data": {
      "text/plain": [
       "Text(0.5, 1.0, 'DistAvgH')"
      ]
     },
     "execution_count": 21,
     "metadata": {},
     "output_type": "execute_result"
    },
    {
     "data": {
      "image/png": "[encoded data removed]",
      "text/plain": [
       "<Figure size 432x288 with 1 Axes>"
      ]
     },
     "metadata": {
      "needs_background": "light"
     },
     "output_type": "display_data"
    }
   ],
   "source": [
    "# gebalanceerdheid controleren\n",
    "sns.countplot(data=dataset, x=\"DistAvgH\")\n",
    "plt.title('DistAvgH')"
   ]
  },
  {
   "cell_type": "code",
   "execution_count": 22,
   "metadata": {},
   "outputs": [
    {
     "name": "stdout",
     "output_type": "stream",
     "text": [
      "DistMinH     0\n",
      "DistMaxH     0\n",
      "DistAvgH     0\n",
      "DistMinL     0\n",
      "DistMaxL     0\n",
      "DistAvgL     0\n",
      "DistTime     0\n",
      "RackRow_2    0\n",
      "dtype: int64\n"
     ]
    },
    {
     "data": {
      "text/plain": [
       "<AxesSubplot:>"
      ]
     },
     "execution_count": 22,
     "metadata": {},
     "output_type": "execute_result"
    },
    {
     "data": {
      "image/png": "[encoded data removed]",
      "text/plain": [
       "<Figure size 1800x720 with 2 Axes>"
      ]
     },
     "metadata": {
      "needs_background": "light"
     },
     "output_type": "display_data"
    }
   ],
   "source": [
    "# Opsporen van ontbrekende waarden\n",
    "\n",
    "missing_values_count = dataset.isnull().sum()\n",
    "print(missing_values_count)\n",
    "msno.matrix(dataset)"
   ]
  },
  {
   "cell_type": "code",
   "execution_count": 23,
   "metadata": {},
   "outputs": [
    {
     "name": "stderr",
     "output_type": "stream",
     "text": [
      "C:\\Users\\domin\\AppData\\Local\\Temp\\ipykernel_22380\\904895116.py:8: DeprecationWarning: `np.bool` is a deprecated alias for the builtin `bool`. To silence this warning, use `bool` by itself. Doing this will not modify any behavior and is safe. If you specifically wanted the numpy scalar type, use `np.bool_` here.\n",
      "Deprecated in NumPy 1.20; for more details and guidance: https://numpy.org/devdocs/release/1.20.0-notes.html#deprecations\n",
      "  sns.heatmap(corr, mask=np.zeros_like(corr, dtype=np.bool), cmap=sns.diverging_palette(220, 10, as_cmap=True),\n"
     ]
    },
    {
     "data": {
      "text/plain": [
       "<AxesSubplot:>"
      ]
     },
     "execution_count": 23,
     "metadata": {},
     "output_type": "execute_result"
    },
    {
     "data": {
      "image/png": "[encoded data removed]",
      "text/plain": [
       "<Figure size 720x576 with 2 Axes>"
      ]
     },
     "metadata": {
      "needs_background": "light"
     },
     "output_type": "display_data"
    }
   ],
   "source": [
    "# Lineaire correlatie tussen de features - heatmap\n",
    "\n",
    "dataset.corr()\n",
    "\n",
    "# Visualiseer de onderlinge correlatiecoëfficiënten\n",
    "f, ax = plt.subplots(figsize=(10, 8))\n",
    "corr = dataset.corr()\n",
    "sns.heatmap(corr, mask=np.zeros_like(corr, dtype=np.bool), cmap=sns.diverging_palette(220, 10, as_cmap=True),\n",
    "            square=True, ax=ax,annot=True)"
   ]
  },
  {
   "cell_type": "code",
   "execution_count": 24,
   "metadata": {},
   "outputs": [
    {
     "name": "stdout",
     "output_type": "stream",
     "text": [
      "(29, 7)\n",
      "(29,)\n"
     ]
    }
   ],
   "source": [
    "# Opsplitsen in features en targets\n",
    "y = dataset['DistAvgH'].values\n",
    "X = dataset.drop(['DistAvgH'], axis = 1).values\n",
    "\n",
    "print(X.shape)\n",
    "print(y.shape)\n",
    "\n",
    "\n",
    "\n",
    "#1 lijst met 333 waarden, 10 features"
   ]
  },
  {
   "cell_type": "code",
   "execution_count": 25,
   "metadata": {},
   "outputs": [
    {
     "name": "stdout",
     "output_type": "stream",
     "text": [
      "(19, 7)\n",
      "(10, 7)\n"
     ]
    }
   ],
   "source": [
    "# Opsplitsen/opdelen in training set en test set\n",
    "X_train, X_test, y_train, y_test = train_test_split(X, y, test_size=0.33, random_state=0)\n",
    "\n",
    "#training set\n",
    "print(X_train.shape)\n",
    "\n",
    "#test set\n",
    "print(X_test.shape)"
   ]
  },
  {
   "cell_type": "code",
   "execution_count": 26,
   "metadata": {},
   "outputs": [],
   "source": [
    "# Normaliseren / scaling van de training set en de test set\n",
    "\n",
    "# Om conversion warning te vermijden:\n",
    "X_train = X_train.astype('float64')\n",
    "X_test = X_test.astype('float64')\n",
    "\n",
    "\n",
    "scaler = StandardScaler() #scalen\n",
    "scaler.fit(X_train)\n",
    "\n",
    "X_train = scaler.transform(X_train)\n",
    "X_test = scaler.transform(X_test)"
   ]
  },
  {
   "cell_type": "code",
   "execution_count": 27,
   "metadata": {},
   "outputs": [
    {
     "data": {
      "text/plain": [
       "array([-0.29092512, -0.1606592 , -0.31179979, -0.17375559, -0.26386824,\n",
       "       -0.4816289 ,  0.        ])"
      ]
     },
     "execution_count": 27,
     "metadata": {},
     "output_type": "execute_result"
    }
   ],
   "source": [
    "X_train[1]"
   ]
  },
  {
   "cell_type": "code",
   "execution_count": 28,
   "metadata": {},
   "outputs": [
    {
     "name": "stdout",
     "output_type": "stream",
     "text": [
      "coefficiënten:  [[-3.60681531e-01 -4.23679112e-01 -3.62220254e-01 -3.24723343e-01\n",
      "  -3.70928159e-01  1.13445341e-01  7.75725508e-03]\n",
      " [-1.50527744e-01 -1.40733290e-01 -1.52140581e-01 -1.61818050e-01\n",
      "  -1.71060539e-01  9.28055326e-02  1.68136258e-02]\n",
      " [-3.18827299e-01 -3.21796920e-01 -3.20254339e-01 -3.41415008e-01\n",
      "  -3.18496437e-01  1.10002705e-01 -1.24157088e-02]\n",
      " [-1.03501445e-01 -1.45325225e-01 -1.05269493e-01 -9.87636642e-02\n",
      "  -1.14104145e-01  8.81935730e-02  8.04469167e-03]\n",
      " [ 2.72000944e-03  1.21577179e-02  3.17017733e-04  5.96753406e-03\n",
      "   9.38436761e-03  6.77049813e-02  6.85820998e-03]\n",
      " [ 9.79820612e-02  1.41940957e-01  1.64020145e-01  1.62344726e-01\n",
      "   1.56101784e-01  1.75320956e-02  1.05284550e-02]\n",
      " [-9.65807171e-02 -9.56683845e-02 -9.82733671e-02 -1.12956063e-01\n",
      "  -1.08633086e-01  8.63036468e-02 -3.23824060e-03]\n",
      " [-1.48834486e-01 -1.66807070e-01 -1.50456990e-01 -1.64662830e-01\n",
      "  -1.47350372e-01  9.30218945e-02 -8.35485668e-03]\n",
      " [ 3.95666239e-02  6.95047596e-02  3.57974821e-02  6.42519950e-02\n",
      "   4.51786116e-02  5.50966947e-02  5.23430482e-03]\n",
      " [ 3.44291347e-01  3.40109670e-01  3.43740720e-01  3.39351471e-01\n",
      "   3.42275510e-01 -4.99286329e-01  1.65247374e-02]\n",
      " [-5.64749324e-02  4.00605241e-02 -6.24134201e-02  2.26519344e-02\n",
      "  -2.21695170e-02  7.44743610e-02  1.10147221e-03]\n",
      " [ 1.90996566e-01  2.06184772e-01  1.83341086e-01  2.02310767e-01\n",
      "   1.97291150e-01 -9.96063971e-03  5.85118572e-03]\n",
      " [ 9.99330278e-03 -3.73180574e-02  7.46795751e-03 -4.89845572e-02\n",
      "  -2.28098065e-02  7.43213466e-02 -5.16646801e-03]\n",
      " [ 1.26369481e-01  1.45806519e-01  1.17024788e-01  1.39970346e-01\n",
      "   1.25415955e-01  2.53522615e-02 -3.35502508e-04]\n",
      " [ 7.40805527e-02 -5.37342861e-02  6.62306630e-02 -7.73425903e-02\n",
      "  -9.81778785e-03  7.27751785e-02 -1.55609071e-02]\n",
      " [ 3.68788741e-01  3.64549883e-01  3.68230077e-01  3.63783819e-01\n",
      "   3.66745860e-01 -6.68842890e-01  6.91721713e-03]\n",
      " [-5.50550742e-02  3.44644536e-02 -6.16745199e-02  1.95880123e-02\n",
      "   1.17168846e-02  7.33042018e-02 -1.79056472e-02]\n",
      " [-1.78100213e-02  1.02163844e-02 -2.12365477e-02 -1.55310641e-03\n",
      "  -1.11788213e-02  7.23463933e-02 -1.24996059e-02]\n",
      " [ 5.35045620e-02  2.00667042e-02  4.77695759e-02  1.19986078e-02\n",
      "   4.24385486e-02  6.14096520e-02 -1.01542181e-02]]\n",
      "intercept: [ 0.00775727  0.01681367 -0.01241575  0.00804471  0.00685823  0.01052849\n",
      " -0.00323825 -0.00835489  0.00523432  0.01652479  0.00110148  0.00585121\n",
      " -0.00516649 -0.0003355  -0.01556096  0.00691725 -0.0179057  -0.01249965\n",
      " -0.01015425]\n"
     ]
    },
    {
     "name": "stderr",
     "output_type": "stream",
     "text": [
      "C:\\Users\\domin\\AppData\\Local\\Programs\\Python\\Python310\\lib\\site-packages\\sklearn\\linear_model\\_logistic.py:814: ConvergenceWarning: lbfgs failed to converge (status=1):\n",
      "STOP: TOTAL NO. of ITERATIONS REACHED LIMIT.\n",
      "\n",
      "Increase the number of iterations (max_iter) or scale the data as shown in:\n",
      "    https://scikit-learn.org/stable/modules/preprocessing.html\n",
      "Please also refer to the documentation for alternative solver options:\n",
      "    https://scikit-learn.org/stable/modules/linear_model.html#logistic-regression\n",
      "  n_iter_i = _check_optimize_result(\n"
     ]
    }
   ],
   "source": [
    "# Train een logistic regression classifier\n",
    "\n",
    "logreg = linear_model.LogisticRegression(C=1e3, solver='lbfgs') # C= Inverse of regularization strength;\n",
    "                                                # must be a positive float. Like in support vector machines,\n",
    "                                                # smaller values specify stronger regularization.\n",
    "logreg.fit(X, y)\n",
    "\n",
    "print('coefficiënten: ',logreg.coef_)\n",
    "print('intercept:',logreg.intercept_)"
   ]
  },
  {
   "cell_type": "code",
   "execution_count": 29,
   "metadata": {
    "scrolled": true
   },
   "outputs": [
    {
     "name": "stdout",
     "output_type": "stream",
     "text": [
      "              precision    recall  f1-score   support\n",
      "\n",
      "           9       0.50      1.00      0.67         2\n",
      "          10       0.00      0.00      0.00         1\n",
      "          15       0.00      0.00      0.00         1\n",
      "          23       0.00      0.00      0.00         0\n",
      "          27       0.00      0.00      0.00         1\n",
      "          28       0.00      0.00      0.00         0\n",
      "          32       0.00      0.00      0.00         1\n",
      "          33       0.00      0.00      0.00         1\n",
      "          37       0.00      0.00      0.00         0\n",
      "          38       0.00      0.00      0.00         2\n",
      "          39       0.00      0.00      0.00         1\n",
      "\n",
      "    accuracy                           0.20        10\n",
      "   macro avg       0.05      0.09      0.06        10\n",
      "weighted avg       0.10      0.20      0.13        10\n",
      "\n",
      "20.0\n",
      "[[2 0 0 0 0 0 0 0 0 0 0]\n",
      " [1 0 0 0 0 0 0 0 0 0 0]\n",
      " [1 0 0 0 0 0 0 0 0 0 0]\n",
      " [0 0 0 0 0 0 0 0 0 0 0]\n",
      " [0 0 0 0 0 1 0 0 0 0 0]\n",
      " [0 0 0 0 0 0 0 0 0 0 0]\n",
      " [0 0 0 0 0 0 0 0 1 0 0]\n",
      " [0 0 0 0 0 0 0 0 1 0 0]\n",
      " [0 0 0 0 0 0 0 0 0 0 0]\n",
      " [0 0 0 1 0 0 0 0 1 0 0]\n",
      " [0 0 0 1 0 0 0 0 0 0 0]]\n"
     ]
    },
    {
     "name": "stderr",
     "output_type": "stream",
     "text": [
      "C:\\Users\\domin\\AppData\\Local\\Programs\\Python\\Python310\\lib\\site-packages\\sklearn\\metrics\\_classification.py:1318: UndefinedMetricWarning: Precision and F-score are ill-defined and being set to 0.0 in labels with no predicted samples. Use `zero_division` parameter to control this behavior.\n",
      "  _warn_prf(average, modifier, msg_start, len(result))\n",
      "C:\\Users\\domin\\AppData\\Local\\Programs\\Python\\Python310\\lib\\site-packages\\sklearn\\metrics\\_classification.py:1318: UndefinedMetricWarning: Recall and F-score are ill-defined and being set to 0.0 in labels with no true samples. Use `zero_division` parameter to control this behavior.\n",
      "  _warn_prf(average, modifier, msg_start, len(result))\n",
      "C:\\Users\\domin\\AppData\\Local\\Programs\\Python\\Python310\\lib\\site-packages\\sklearn\\metrics\\_classification.py:1318: UndefinedMetricWarning: Precision and F-score are ill-defined and being set to 0.0 in labels with no predicted samples. Use `zero_division` parameter to control this behavior.\n",
      "  _warn_prf(average, modifier, msg_start, len(result))\n",
      "C:\\Users\\domin\\AppData\\Local\\Programs\\Python\\Python310\\lib\\site-packages\\sklearn\\metrics\\_classification.py:1318: UndefinedMetricWarning: Recall and F-score are ill-defined and being set to 0.0 in labels with no true samples. Use `zero_division` parameter to control this behavior.\n",
      "  _warn_prf(average, modifier, msg_start, len(result))\n",
      "C:\\Users\\domin\\AppData\\Local\\Programs\\Python\\Python310\\lib\\site-packages\\sklearn\\metrics\\_classification.py:1318: UndefinedMetricWarning: Precision and F-score are ill-defined and being set to 0.0 in labels with no predicted samples. Use `zero_division` parameter to control this behavior.\n",
      "  _warn_prf(average, modifier, msg_start, len(result))\n",
      "C:\\Users\\domin\\AppData\\Local\\Programs\\Python\\Python310\\lib\\site-packages\\sklearn\\metrics\\_classification.py:1318: UndefinedMetricWarning: Recall and F-score are ill-defined and being set to 0.0 in labels with no true samples. Use `zero_division` parameter to control this behavior.\n",
      "  _warn_prf(average, modifier, msg_start, len(result))\n"
     ]
    }
   ],
   "source": [
    "# testen van de logistic regression classifier\n",
    "\n",
    "y_pred = logreg.predict(X_test)\n",
    "\n",
    "print(classification_report(y_test,y_pred))\n",
    "\n",
    "print(accuracy_score(y_test,y_pred)*100)\n",
    "\n",
    "print(confusion_matrix(y_test,y_pred))"
   ]
  },
  {
   "cell_type": "code",
   "execution_count": 30,
   "metadata": {},
   "outputs": [
    {
     "ename": "ValueError",
     "evalue": "multiclass format is not supported",
     "output_type": "error",
     "traceback": [
      "\u001b[1;31m---------------------------------------------------------------------------\u001b[0m",
      "\u001b[1;31mValueError\u001b[0m                                Traceback (most recent call last)",
      "Input \u001b[1;32mIn [30]\u001b[0m, in \u001b[0;36m<cell line: 7>\u001b[1;34m()\u001b[0m\n\u001b[0;32m      5\u001b[0m probs \u001b[38;5;241m=\u001b[39m logreg\u001b[38;5;241m.\u001b[39mpredict_proba(X_test)\n\u001b[0;32m      6\u001b[0m preds \u001b[38;5;241m=\u001b[39m probs[:,\u001b[38;5;241m1\u001b[39m]\n\u001b[1;32m----> 7\u001b[0m fpr, tpr, threshold \u001b[38;5;241m=\u001b[39m \u001b[43mmetrics\u001b[49m\u001b[38;5;241;43m.\u001b[39;49m\u001b[43mroc_curve\u001b[49m\u001b[43m(\u001b[49m\u001b[43my_test\u001b[49m\u001b[43m,\u001b[49m\u001b[43m \u001b[49m\u001b[43mpreds\u001b[49m\u001b[43m)\u001b[49m\n\u001b[0;32m      8\u001b[0m roc_auc \u001b[38;5;241m=\u001b[39m metrics\u001b[38;5;241m.\u001b[39mauc(fpr, tpr)\n\u001b[0;32m     10\u001b[0m \u001b[38;5;66;03m# method I: plt\u001b[39;00m\n",
      "File \u001b[1;32m~\\AppData\\Local\\Programs\\Python\\Python310\\lib\\site-packages\\sklearn\\metrics\\_ranking.py:962\u001b[0m, in \u001b[0;36mroc_curve\u001b[1;34m(y_true, y_score, pos_label, sample_weight, drop_intermediate)\u001b[0m\n\u001b[0;32m    873\u001b[0m \u001b[38;5;28;01mdef\u001b[39;00m \u001b[38;5;21mroc_curve\u001b[39m(\n\u001b[0;32m    874\u001b[0m     y_true, y_score, \u001b[38;5;241m*\u001b[39m, pos_label\u001b[38;5;241m=\u001b[39m\u001b[38;5;28;01mNone\u001b[39;00m, sample_weight\u001b[38;5;241m=\u001b[39m\u001b[38;5;28;01mNone\u001b[39;00m, drop_intermediate\u001b[38;5;241m=\u001b[39m\u001b[38;5;28;01mTrue\u001b[39;00m\n\u001b[0;32m    875\u001b[0m ):\n\u001b[0;32m    876\u001b[0m     \u001b[38;5;124;03m\"\"\"Compute Receiver operating characteristic (ROC).\u001b[39;00m\n\u001b[0;32m    877\u001b[0m \n\u001b[0;32m    878\u001b[0m \u001b[38;5;124;03m    Note: this implementation is restricted to the binary classification task.\u001b[39;00m\n\u001b[1;32m   (...)\u001b[0m\n\u001b[0;32m    960\u001b[0m \n\u001b[0;32m    961\u001b[0m \u001b[38;5;124;03m    \"\"\"\u001b[39;00m\n\u001b[1;32m--> 962\u001b[0m     fps, tps, thresholds \u001b[38;5;241m=\u001b[39m \u001b[43m_binary_clf_curve\u001b[49m\u001b[43m(\u001b[49m\n\u001b[0;32m    963\u001b[0m \u001b[43m        \u001b[49m\u001b[43my_true\u001b[49m\u001b[43m,\u001b[49m\u001b[43m \u001b[49m\u001b[43my_score\u001b[49m\u001b[43m,\u001b[49m\u001b[43m \u001b[49m\u001b[43mpos_label\u001b[49m\u001b[38;5;241;43m=\u001b[39;49m\u001b[43mpos_label\u001b[49m\u001b[43m,\u001b[49m\u001b[43m \u001b[49m\u001b[43msample_weight\u001b[49m\u001b[38;5;241;43m=\u001b[39;49m\u001b[43msample_weight\u001b[49m\n\u001b[0;32m    964\u001b[0m \u001b[43m    \u001b[49m\u001b[43m)\u001b[49m\n\u001b[0;32m    966\u001b[0m     \u001b[38;5;66;03m# Attempt to drop thresholds corresponding to points in between and\u001b[39;00m\n\u001b[0;32m    967\u001b[0m     \u001b[38;5;66;03m# collinear with other points. These are always suboptimal and do not\u001b[39;00m\n\u001b[0;32m    968\u001b[0m     \u001b[38;5;66;03m# appear on a plotted ROC curve (and thus do not affect the AUC).\u001b[39;00m\n\u001b[1;32m   (...)\u001b[0m\n\u001b[0;32m    973\u001b[0m     \u001b[38;5;66;03m# but does not drop more complicated cases like fps = [1, 3, 7],\u001b[39;00m\n\u001b[0;32m    974\u001b[0m     \u001b[38;5;66;03m# tps = [1, 2, 4]; there is no harm in keeping too many thresholds.\u001b[39;00m\n\u001b[0;32m    975\u001b[0m     \u001b[38;5;28;01mif\u001b[39;00m drop_intermediate \u001b[38;5;129;01mand\u001b[39;00m \u001b[38;5;28mlen\u001b[39m(fps) \u001b[38;5;241m>\u001b[39m \u001b[38;5;241m2\u001b[39m:\n",
      "File \u001b[1;32m~\\AppData\\Local\\Programs\\Python\\Python310\\lib\\site-packages\\sklearn\\metrics\\_ranking.py:731\u001b[0m, in \u001b[0;36m_binary_clf_curve\u001b[1;34m(y_true, y_score, pos_label, sample_weight)\u001b[0m\n\u001b[0;32m    729\u001b[0m y_type \u001b[38;5;241m=\u001b[39m type_of_target(y_true)\n\u001b[0;32m    730\u001b[0m \u001b[38;5;28;01mif\u001b[39;00m \u001b[38;5;129;01mnot\u001b[39;00m (y_type \u001b[38;5;241m==\u001b[39m \u001b[38;5;124m\"\u001b[39m\u001b[38;5;124mbinary\u001b[39m\u001b[38;5;124m\"\u001b[39m \u001b[38;5;129;01mor\u001b[39;00m (y_type \u001b[38;5;241m==\u001b[39m \u001b[38;5;124m\"\u001b[39m\u001b[38;5;124mmulticlass\u001b[39m\u001b[38;5;124m\"\u001b[39m \u001b[38;5;129;01mand\u001b[39;00m pos_label \u001b[38;5;129;01mis\u001b[39;00m \u001b[38;5;129;01mnot\u001b[39;00m \u001b[38;5;28;01mNone\u001b[39;00m)):\n\u001b[1;32m--> 731\u001b[0m     \u001b[38;5;28;01mraise\u001b[39;00m \u001b[38;5;167;01mValueError\u001b[39;00m(\u001b[38;5;124m\"\u001b[39m\u001b[38;5;132;01m{0}\u001b[39;00m\u001b[38;5;124m format is not supported\u001b[39m\u001b[38;5;124m\"\u001b[39m\u001b[38;5;241m.\u001b[39mformat(y_type))\n\u001b[0;32m    733\u001b[0m check_consistent_length(y_true, y_score, sample_weight)\n\u001b[0;32m    734\u001b[0m y_true \u001b[38;5;241m=\u001b[39m column_or_1d(y_true)\n",
      "\u001b[1;31mValueError\u001b[0m: multiclass format is not supported"
     ]
    }
   ],
   "source": [
    "# ROC\n",
    "\n",
    "import sklearn.metrics as metrics\n",
    "# calculate the fpr and tpr for all thresholds of the classification\n",
    "probs = logreg.predict_proba(X_test)\n",
    "preds = probs[:,1]\n",
    "fpr, tpr, threshold = metrics.roc_curve(y_test, preds)\n",
    "roc_auc = metrics.auc(fpr, tpr)\n",
    "\n",
    "# method I: plt\n",
    "import matplotlib.pyplot as plt\n",
    "plt.title('Receiver Operating Characteristic')\n",
    "plt.plot(fpr, tpr, 'b', label = 'AUC = %0.2f' % roc_auc)\n",
    "plt.legend(loc = 'lower right')\n",
    "plt.plot([0, 1], [0, 1],'r--')\n",
    "plt.xlim([0, 1])\n",
    "plt.ylim([0, 1])\n",
    "plt.ylabel('True Positive Rate')\n",
    "plt.xlabel('False Positive Rate')\n",
    "plt.show()"
   ]
  },
  {
   "cell_type": "code",
   "execution_count": 31,
   "metadata": {},
   "outputs": [
    {
     "name": "stdout",
     "output_type": "stream",
     "text": [
      "[[3.67722291e-01 6.58799812e-02 2.45087201e-01 4.76205230e-02\n",
      "  1.82093735e-02 6.15943128e-03 4.24417387e-02 6.47693908e-02\n",
      "  1.27897484e-02 1.34206829e-03 2.17443961e-02 4.04952867e-03\n",
      "  2.15804204e-02 6.73355117e-03 1.81497994e-02 1.11302852e-03\n",
      "  2.04567363e-02 2.00414022e-02 1.41093893e-02]\n",
      " [5.66515295e-03 1.55396553e-02 6.82945738e-03 1.86759544e-02\n",
      "  3.28913869e-02 6.42584028e-02 1.94869179e-02 1.50761958e-02\n",
      "  4.07901886e-02 2.05620300e-01 2.98613921e-02 8.22871565e-02\n",
      "  2.86729643e-02 5.95352940e-02 3.05072508e-02 2.47232864e-01\n",
      "  3.00175413e-02 3.01922019e-02 3.68597237e-02]\n",
      " [1.09265488e-03 6.36417234e-03 1.54194871e-03 8.79571601e-03\n",
      "  2.36166357e-02 7.24248407e-02 9.57098270e-03 6.13737740e-03\n",
      "  3.42631340e-02 2.56789757e-01 2.07580878e-02 1.07925716e-01\n",
      "  1.84389215e-02 6.43281944e-02 2.00843438e-02 2.77144794e-01\n",
      "  2.12700927e-02 2.08329532e-02 2.86196770e-02]\n",
      " [4.04249631e-01 6.13013165e-02 2.67621811e-01 4.17030398e-02\n",
      "  1.42582653e-02 3.98608386e-03 3.74319332e-02 5.98267877e-02\n",
      "  9.48321744e-03 3.70510536e-04 1.74751732e-02 2.44091310e-03\n",
      "  1.74979345e-02 4.49450935e-03 1.46007938e-02 2.39460706e-04\n",
      "  1.62939106e-02 1.59979457e-02 1.07267627e-02]\n",
      " [1.67073079e-03 8.88152892e-03 2.31479872e-03 1.21259077e-02\n",
      "  3.05612487e-02 8.62418404e-02 1.30840339e-02 8.60402534e-03\n",
      "  4.30180310e-02 2.14099199e-01 2.64083310e-02 1.24457425e-01\n",
      "  2.46808626e-02 7.73882136e-02 2.74908585e-02 2.07893551e-01\n",
      "  2.69966027e-02 2.70241769e-02 3.70586349e-02]\n",
      " [1.04558532e-03 6.63295053e-03 1.50145268e-03 9.34378808e-03\n",
      "  2.60409603e-02 8.23958783e-02 1.01891239e-02 6.40236826e-03\n",
      "  3.81415774e-02 2.39856053e-01 2.23387107e-02 1.24040885e-01\n",
      "  2.04770540e-02 7.31914251e-02 2.29268643e-02 2.37613342e-01\n",
      "  2.28857929e-02 2.28094538e-02 3.21667337e-02]\n",
      " [5.99484553e-03 1.81101011e-02 7.38396163e-03 2.22715257e-02\n",
      "  4.08068060e-02 8.12297956e-02 2.32772125e-02 1.76368229e-02\n",
      "  5.09232636e-02 1.60705589e-01 3.61685719e-02 1.03889387e-01\n",
      "  3.58330210e-02 7.53448372e-02 3.92130035e-02 1.60915344e-01\n",
      "  3.64701774e-02 3.72065948e-02 4.66191404e-02]\n",
      " [3.94819224e-02 5.06837278e-02 4.07289341e-02 5.17837175e-02\n",
      "  5.91665049e-02 6.51555537e-02 5.21975058e-02 4.88465273e-02\n",
      "  6.21318968e-02 3.15681840e-02 6.21203904e-02 6.55408670e-02\n",
      "  5.45504539e-02 6.42510642e-02 5.13117138e-02 2.35483341e-02\n",
      "  6.11066510e-02 5.82462896e-02 5.75797620e-02]\n",
      " [3.72320224e-01 6.54874818e-02 2.53940822e-01 4.58966032e-02\n",
      "  1.72310516e-02 5.53615104e-03 4.15518982e-02 6.38807451e-02\n",
      "  1.19377444e-02 1.05307616e-03 2.06919739e-02 3.60689371e-03\n",
      "  2.06846459e-02 6.13678267e-03 1.74725788e-02 8.40861437e-04\n",
      "  1.93811111e-02 1.90689058e-02 1.32804490e-02]\n",
      " [2.28401652e-01 7.67007873e-02 1.75404784e-01 6.20350096e-02\n",
      "  3.35772910e-02 1.66530339e-02 5.74787606e-02 7.51175374e-02\n",
      "  2.67523939e-02 5.37537931e-03 3.77997223e-02 1.26324897e-02\n",
      "  3.71465211e-02 1.75989471e-02 3.29455498e-02 4.50597921e-03\n",
      "  3.61058071e-02 3.55212816e-02 2.82470726e-02]]\n"
     ]
    }
   ],
   "source": [
    "#probability prediciton van ROC\n",
    "print(probs)"
   ]
  },
  {
   "cell_type": "code",
   "execution_count": 32,
   "metadata": {},
   "outputs": [
    {
     "name": "stdout",
     "output_type": "stream",
     "text": [
      "dimensie van X_train_poly:  (19, 330)\n",
      "dimensie van X_test_poly:  (10, 330)\n",
      "R2 score op test set via L2:  0.9730753754700568\n",
      "R2 score op training set via L2:  0.9561642242325088\n",
      "R2 score op test set via L1:  0.9873618473580479\n",
      "R2 score op training set via L1:  0.9981497339238444\n"
     ]
    }
   ],
   "source": [
    "# Toevoegen van extra features\n",
    "# Modeloptimalisatie en Hyperparameter tuning\n",
    "# Automatisch toevoegen van hogere orde features\n",
    "\n",
    "from sklearn.preprocessing import PolynomialFeatures\n",
    "\n",
    "\n",
    "# Aanmaken van de hogere orde features\n",
    "graad = 4\n",
    "\n",
    "poly = PolynomialFeatures(graad)\n",
    "poly.fit(X_train)\n",
    "X_train_poly = poly.transform(X_train)\n",
    "X_test_poly = poly.transform(X_test)\n",
    "print('dimensie van X_train_poly: ',X_train_poly.shape)\n",
    "print('dimensie van X_test_poly: ',X_test_poly.shape)\n",
    "\n",
    "#scalen (optioneel?)\n",
    "scaler_poly = StandardScaler()\n",
    "scaler_poly.fit(X_train_poly)\n",
    "\n",
    "X_train_poly = scaler_poly.transform(X_train_poly)\n",
    "X_test_poly = scaler_poly.transform(X_test_poly)\n",
    "\n",
    "\n",
    "# met L2 regularisatie via Ridge regression\n",
    "lregmodel_poly = Ridge(alpha=20,tol=0.01,fit_intercept=True)\n",
    "lregmodel_poly.fit(X_train_poly,y_train)\n",
    "\n",
    "print('R2 score op test set via L2: ',lregmodel_poly.score(X_test_poly,y_test))\n",
    "# R2 -score via L2 op de trainingset\n",
    "print('R2 score op training set via L2: ',lregmodel_poly.score(X_train_poly,y_train))\n",
    "\n",
    "\n",
    "# met L1 regularisatie via Lasso regression\n",
    "lregmodel_poly = Lasso(alpha=0.1,tol=0.01,fit_intercept=True)\n",
    "lregmodel_poly.fit(X_train_poly,y_train)      \n",
    "  \n",
    "      \n",
    "print('R2 score op test set via L1: ',lregmodel_poly.score(X_test_poly,y_test))\n",
    "  \n",
    "# R2 -score via L1 op de trainingset\n",
    "print('R2 score op training set via L1: ',lregmodel_poly.score(X_train_poly,y_train)) "
   ]
  },
  {
   "cell_type": "code",
   "execution_count": 33,
   "metadata": {},
   "outputs": [],
   "source": [
    "#R2- score op trainingsets: 0.95 en 0.99"
   ]
  },
  {
   "cell_type": "markdown",
   "metadata": {},
   "source": [
    "## Opdracht 3.  Star Wars\n",
    "\n",
    "Train een logistic regression classifier aan de hand van de dataset 'StarWars.csv') om te voorspellen of iemand al dan niet een Star Wars fan is.\n",
    "Gebruik one-hot encondig waar nodig. Zorg ervoor dat de test set uit minstens 200 samples bestaat.\n",
    "Evalueer de getrainde classifier via de geziene metrics en bespreek de resultaten."
   ]
  },
  {
   "cell_type": "code",
   "execution_count": null,
   "metadata": {
    "scrolled": false
   },
   "outputs": [],
   "source": [
    "dataset = pd.read_csv('StarWars.csv')\n",
    "dataset.head(35)\n",
    "\n",
    "# we merken op dat rij 19 en 24 allemaal nullen bevat"
   ]
  },
  {
   "cell_type": "code",
   "execution_count": null,
   "metadata": {
    "scrolled": true
   },
   "outputs": [],
   "source": [
    "#dataset.info()"
   ]
  },
  {
   "cell_type": "code",
   "execution_count": null,
   "metadata": {
    "scrolled": true
   },
   "outputs": [],
   "source": [
    "# Visualiseer de onderlinge correlatiecoëfficiënten\n",
    "f, ax = plt.subplots(figsize=(10, 8))\n",
    "corr = dataset.corr()\n",
    "sns.heatmap(corr, mask=np.zeros_like(corr, dtype=np.bool), cmap=sns.diverging_palette(220, 10, as_cmap=True),\n",
    "           square=True, ax=ax,annot=True)"
   ]
  },
  {
   "cell_type": "code",
   "execution_count": null,
   "metadata": {
    "scrolled": true
   },
   "outputs": [],
   "source": [
    "#one hot encoding! (for loop?)\n",
    "\n",
    "#Have you seen any of the 6 films in the Star Wars franchise? kolom verwijderen en omzetten naar ..yes and ..no\n",
    "\n",
    "#omzetten/features toevoegen\n",
    "dataset = pd.concat([dataset,pd.get_dummies(dataset['Have you seen any of the 6 films in the Star Wars franchise?'], prefix='Have you seen any of the 6 films in the Star Wars franchise?')],axis=1)\n",
    "#originele kolom verwijderen\n",
    "dataset.drop(['Have you seen any of the 6 films in the Star Wars franchise?'],axis=1, inplace=True)\n",
    "\n",
    "dataset.head(25)"
   ]
  },
  {
   "cell_type": "code",
   "execution_count": null,
   "metadata": {},
   "outputs": [],
   "source": [
    "#we verwijderen rij 19 en 24  van kolom have you..No omdat ze daar 1 zijn\n",
    "dataset.drop(dataset.loc[dataset['Have you seen any of the 6 films in the Star Wars franchise?_No']==1].index, inplace=True)\n",
    "dataset.head(30)"
   ]
  },
  {
   "cell_type": "code",
   "execution_count": null,
   "metadata": {
    "scrolled": true
   },
   "outputs": [],
   "source": [
    "#one hot encoding toepassen op de overige kolommen\n",
    "\n",
    "\n",
    "\n",
    "\n",
    "\n",
    "\n",
    "#one-hot encoden van LIJST Features\n",
    "datasets_encode_list = ['Han Solo','Luke Skywalker','Princess Leia Organa','Anakin Skywalker',\n",
    "                        'Obi Wan Kenobi','Emperor Palpatine','Darth Vader','Lando Calrissian',\n",
    "                       'Boba Fett','C-3P0','Jar Jar Binks','Padme Amidala','Yoda',\n",
    "                        'Are you familiar with the Expanded Universe?',\n",
    "                        'Do you consider yourself to be a fan of the Expanded Universe?','Gender','Education',\n",
    "                        'phantom menace seen','attack of the clones seen','revenge of the sith seen','a new hope seen',\n",
    "                        'empire strikes back seen','return of the jedi seen','Location','StarWars fan','R2 D2',\n",
    "                        'Which character shot first?','Age'\n",
    "                       ]\n",
    "\n",
    "oude_datasets = dataset\n",
    "for column in datasets_encode_list:\n",
    "    dataset = pd.concat([dataset,pd.get_dummies(dataset[column],prefix=column)],axis=1)\n",
    "    oude_datasets = dataset.drop([column],axis=1, inplace=True)\n",
    "    \n",
    "\n",
    "# # Han Solo omzetten\n",
    "# dataset = pd.concat([dataset,pd.get_dummies(dataset['Han Solo'], prefix='Han Solo')],axis=1)\n",
    "# #originele kolom verwijderen\n",
    "# dataset.drop(['Han Solo'],axis=1, inplace=True)\n",
    "\n",
    "\n",
    "\n",
    "\n",
    "\n",
    "\n",
    "\n",
    "\n",
    "dataset.head(25)\n",
    "\n"
   ]
  },
  {
   "cell_type": "code",
   "execution_count": null,
   "metadata": {},
   "outputs": [],
   "source": [
    "# gebalanceerdheid controleren\n",
    "sns.countplot(data=dataset, x=\"StarWars fan_Yes\")\n",
    "plt.title('StarWars fan')"
   ]
  },
  {
   "cell_type": "code",
   "execution_count": null,
   "metadata": {},
   "outputs": [],
   "source": [
    "# Opsplitsen in features en targets\n",
    "y = dataset['StarWars fan_Yes'].values\n",
    "X = dataset.drop(['StarWars fan_Yes'], axis = 1).values\n",
    "\n",
    "print(X.shape)\n",
    "print(y.shape)\n",
    "\n",
    "\n",
    "#1 lijst met 600 waarden, 130 features"
   ]
  },
  {
   "cell_type": "code",
   "execution_count": null,
   "metadata": {},
   "outputs": [],
   "source": [
    "# Opsplitsen/opdelen in training set en test set (hier minstens 200 training sample)\n",
    "X_train, X_test, y_train, y_test = train_test_split(X, y, test_size=0.34, random_state=0)\n",
    "\n",
    "#training set\n",
    "print(X_train.shape)\n",
    "\n",
    "#test set\n",
    "print(X_test.shape)\n",
    "\n"
   ]
  },
  {
   "cell_type": "code",
   "execution_count": null,
   "metadata": {},
   "outputs": [],
   "source": [
    "# Normaliseren / scaling van de training set en de test set\n",
    "scaler = StandardScaler() #scalen\n",
    "scaler.fit(X_train)\n",
    "\n",
    "X_train = scaler.transform(X_train)\n",
    "X_test = scaler.transform(X_test)"
   ]
  },
  {
   "cell_type": "code",
   "execution_count": null,
   "metadata": {},
   "outputs": [],
   "source": [
    "X_train[1]"
   ]
  },
  {
   "cell_type": "code",
   "execution_count": null,
   "metadata": {},
   "outputs": [],
   "source": [
    "# Train een logistic regression classifier\n",
    "\n",
    "logreg = linear_model.LogisticRegression(C=1e2, solver='lbfgs') # C= Inverse of regularization strength;\n",
    "                                                # must be a positive float. Like in support vector machines,\n",
    "                                                # smaller values specify stronger regularization.\n",
    "logreg.fit(X, y)\n",
    "\n",
    "print('coefficiënten: ',logreg.coef_)\n",
    "print('intercept:',logreg.intercept_)"
   ]
  },
  {
   "cell_type": "code",
   "execution_count": null,
   "metadata": {
    "scrolled": true
   },
   "outputs": [],
   "source": [
    "# testen van de logistic regression classifier\n",
    "\n",
    "y_pred = logreg.predict(X_test)\n",
    "\n",
    "print(classification_report(y_test,y_pred))\n",
    "\n",
    "print(accuracy_score(y_test,y_pred)*100)\n",
    "\n",
    "print(confusion_matrix(y_test,y_pred))"
   ]
  },
  {
   "cell_type": "code",
   "execution_count": null,
   "metadata": {},
   "outputs": [],
   "source": [
    "# ROC\n",
    "\n",
    "import sklearn.metrics as metrics\n",
    "# calculate the fpr and tpr for all thresholds of the classification\n",
    "probs = logreg.predict_proba(X_test)\n",
    "preds = probs[:,1]\n",
    "fpr, tpr, threshold = metrics.roc_curve(y_test, preds)\n",
    "roc_auc = metrics.auc(fpr, tpr)\n",
    "\n",
    "# method I: plt\n",
    "import matplotlib.pyplot as plt\n",
    "plt.title('Receiver Operating Characteristic')\n",
    "plt.plot(fpr, tpr, 'b', label = 'AUC = %0.2f' % roc_auc)\n",
    "plt.legend(loc = 'lower right')\n",
    "plt.plot([0, 1], [0, 1],'r--')\n",
    "plt.xlim([0, 1])\n",
    "plt.ylim([0, 1])\n",
    "plt.ylabel('True Positive Rate')\n",
    "plt.xlabel('False Positive Rate')\n",
    "plt.show()"
   ]
  },
  {
   "cell_type": "code",
   "execution_count": null,
   "metadata": {},
   "outputs": [],
   "source": [
    "#probability prediciton van ROC\n",
    "print(probs)\n",
    "\n"
   ]
  },
  {
   "cell_type": "code",
   "execution_count": null,
   "metadata": {},
   "outputs": [],
   "source": [
    "# Toevoegen van extra features\n",
    "# Modeloptimalisatie en Hyperparameter tuning\n",
    "# Automatisch toevoegen van hogere orde features\n",
    "\n",
    "from sklearn.preprocessing import PolynomialFeatures\n",
    "\n",
    "\n",
    "# Aanmaken van de hogere orde features\n",
    "graad = 1\n",
    "\n",
    "poly = PolynomialFeatures(graad)\n",
    "poly.fit(X_train)\n",
    "X_train_poly = poly.transform(X_train)\n",
    "X_test_poly = poly.transform(X_test)\n",
    "print('dimensie van X_train_poly: ',X_train_poly.shape)\n",
    "print('dimensie van X_test_poly: ',X_test_poly.shape)\n",
    "\n",
    "#scalen (optioneel?)\n",
    "scaler_poly = StandardScaler()\n",
    "scaler_poly.fit(X_train_poly)\n",
    "\n",
    "X_train_poly = scaler_poly.transform(X_train_poly)\n",
    "X_test_poly = scaler_poly.transform(X_test_poly)\n",
    "\n",
    "\n",
    "# met L2 regularisatie via Ridge regression\n",
    "lregmodel_poly = Ridge(alpha=20,tol=0.0001,fit_intercept=True)\n",
    "lregmodel_poly.fit(X_train_poly,y_train)\n",
    "\n",
    "print('R2 score op test set via L2: ',lregmodel_poly.score(X_test_poly,y_test))\n",
    "# R2 -score via L2 op de trainingset\n",
    "print('R2 score op training set via L2: ',lregmodel_poly.score(X_train_poly,y_train))\n",
    "\n",
    "\n",
    "# met L1 regularisatie via Lasso regression\n",
    "lregmodel_poly = Lasso(alpha=0.001,tol=0.001,fit_intercept=True)\n",
    "lregmodel_poly.fit(X_train_poly,y_train)      \n",
    "  \n",
    "      \n",
    "print('R2 score op test set via L1: ',lregmodel_poly.score(X_test_poly,y_test))\n",
    "  \n",
    "# R2 -score via L1 op de trainingset\n",
    "print('R2 score op training set via L1: ',lregmodel_poly.score(X_train_poly,y_train)) "
   ]
  },
  {
   "cell_type": "code",
   "execution_count": null,
   "metadata": {},
   "outputs": [],
   "source": [
    "#Op beide trainingsets 0.99 en 0.99\n",
    "#AUC = 1.00 wat betekenet dat men perfect de klassen kan onderscheiden\n",
    "#Bij het wijzigen van C-parameter schommeling van ~0.1 accuracy"
   ]
  },
  {
   "cell_type": "markdown",
   "metadata": {},
   "source": [
    "## Opdracht 4. Menselijke activiteit\n",
    "\n",
    "\n",
    "De dataset 'activiteit.csv' bevat meetgegevens die van 30 personen via een smartphone werden afgenomen. Deze meetwaarden zijn onderandere afkomstig van een accelerometer en een gyroscoop die in de smartphone zijn ingebouwd.\n",
    "De bedoeling is om om basis van deze meetwaarden de activiteit van de persoon zo nauwkeurig mogelijk te kunnen inschatten.\n",
    "Er zijn 6 verschillende klasses.\n",
    "\n",
    "\n",
    "Bepaal de 6 verschillende klasses en onderzoek meteen of de dataset gebalanceerd is (gelijkmatige verdeling van de verschillende klasses).\n",
    "Bouw een logistic regression model dat zo accuraat mogelijk de activiteit van de persoon kan bepalen. Hierbij pas je alle nodige preprocessing stappen toe je nodig acht.\n",
    "Het is ook toegestaann om features bij te maken of weg te laten. \n",
    "\n",
    "Schrijf jouw conclusies op met betrekking tot het finaal bekomen model.\n",
    "\n",
    "\n"
   ]
  },
  {
   "cell_type": "code",
   "execution_count": null,
   "metadata": {},
   "outputs": [],
   "source": [
    "dataset = pd.read_csv('activiteit.csv')\n",
    "dataset.head()"
   ]
  },
  {
   "cell_type": "code",
   "execution_count": null,
   "metadata": {},
   "outputs": [],
   "source": [
    "# Uitwerking opdracht menselijke activiteit\n",
    "sns.countplot(data=dataset,x='Activity')\n",
    "plt.title('Countplot activity')\n"
   ]
  },
  {
   "cell_type": "code",
   "execution_count": null,
   "metadata": {},
   "outputs": [],
   "source": [
    "# Lineaire correlatie tussen de features - heatmap\n",
    "\n",
    "#dataset.corr()\n",
    "\n",
    "# Visualiseer de onderlinge correlatiecoëfficiënten\n",
    "#f, ax = plt.subplots(figsize=(12, 10))\n",
    "#corr = dataset.corr()\n",
    "#sns.heatmap(corr, mask=np.zeros_like(corr, dtype=np.bool), cmap=sns.diverging_palette(220, 10, as_cmap=True),\n",
    "#            square=True, ax=ax,annot=True)"
   ]
  },
  {
   "cell_type": "code",
   "execution_count": null,
   "metadata": {},
   "outputs": [],
   "source": [
    "#dataset.info()"
   ]
  },
  {
   "cell_type": "code",
   "execution_count": null,
   "metadata": {},
   "outputs": [],
   "source": [
    "# statistische kerngetallen\n",
    "#dataset.describe()\n"
   ]
  },
  {
   "cell_type": "code",
   "execution_count": null,
   "metadata": {},
   "outputs": [],
   "source": [
    "#One-hot-encoding toepassen omdat ik strings moet omzetten naar getallen\n",
    "\n",
    "#Species omzetten\n",
    "dataset = pd.concat([dataset,pd.get_dummies(dataset['Activity'], prefix='Activity')],axis=1)\n",
    "dataset.drop(['Activity'],axis=1, inplace=True)\n",
    "\n",
    "dataset.head()"
   ]
  },
  {
   "cell_type": "code",
   "execution_count": null,
   "metadata": {},
   "outputs": [],
   "source": [
    "# Opsporen van ontbrekende waarden\n",
    "\n",
    "missing_values_count = dataset.isnull().sum()\n",
    "print(missing_values_count)\n",
    "msno.matrix(dataset)"
   ]
  },
  {
   "cell_type": "code",
   "execution_count": null,
   "metadata": {},
   "outputs": [],
   "source": [
    "# Opsplitsen in features en targets\n",
    "y = dataset['Activity_STANDING'].values\n",
    "X = dataset.drop(['Activity_STANDING'], axis = 1).values\n",
    "\n",
    "print(X.shape)\n",
    "print(y.shape)\n",
    "\n",
    "\n",
    "#1 lijst met 303 waarden, 13 features"
   ]
  },
  {
   "cell_type": "code",
   "execution_count": null,
   "metadata": {},
   "outputs": [],
   "source": [
    "# Opsplitsen/opdelen in training set en test set\n",
    "X_train, X_test, y_train, y_test = train_test_split(X, y, test_size=0.2, random_state=0)\n",
    "\n",
    "#training set\n",
    "print(X_train.shape)\n",
    "\n",
    "#test set\n",
    "print(X_test.shape)\n",
    "\n"
   ]
  },
  {
   "cell_type": "code",
   "execution_count": null,
   "metadata": {},
   "outputs": [],
   "source": [
    "# Normaliseren / scaling van de training set en de test set\n",
    "scaler = StandardScaler() #scalen\n",
    "scaler.fit(X_train)\n",
    "\n",
    "X_train = scaler.transform(X_train)\n",
    "X_test = scaler.transform(X_test)"
   ]
  },
  {
   "cell_type": "code",
   "execution_count": null,
   "metadata": {},
   "outputs": [],
   "source": [
    "X_train[1]"
   ]
  },
  {
   "cell_type": "code",
   "execution_count": null,
   "metadata": {},
   "outputs": [],
   "source": [
    "# Train een logistic regression classifier\n",
    "\n",
    "logreg = linear_model.LogisticRegression(C=1e3, solver='lbfgs') # C= Inverse of regularization strength;\n",
    "                                                # must be a positive float. Like in support vector machines,\n",
    "                                                # smaller values specify stronger regularization.\n",
    "logreg.fit(X, y)\n",
    "\n",
    "print('coefficiënten: ',logreg.coef_)\n",
    "print('intercept:',logreg.intercept_)"
   ]
  },
  {
   "cell_type": "code",
   "execution_count": null,
   "metadata": {},
   "outputs": [],
   "source": [
    "# testen van de logistic regression classifier\n",
    "\n",
    "y_pred = logreg.predict(X_test)\n",
    "\n",
    "print(classification_report(y_test,y_pred))\n",
    "\n",
    "print(accuracy_score(y_test,y_pred)*100)\n",
    "\n",
    "print(confusion_matrix(y_test,y_pred))"
   ]
  },
  {
   "cell_type": "code",
   "execution_count": null,
   "metadata": {},
   "outputs": [],
   "source": [
    "# ROC\n",
    "\n",
    "import sklearn.metrics as metrics\n",
    "# calculate the fpr and tpr for all thresholds of the classification\n",
    "probs = logreg.predict_proba(X_test)\n",
    "preds = probs[:,1]\n",
    "fpr, tpr, threshold = metrics.roc_curve(y_test, preds)\n",
    "roc_auc = metrics.auc(fpr, tpr)\n",
    "\n",
    "# method I: plt\n",
    "import matplotlib.pyplot as plt\n",
    "plt.title('Receiver Operating Characteristic')\n",
    "plt.plot(fpr, tpr, 'b', label = 'AUC = %0.2f' % roc_auc)\n",
    "plt.legend(loc = 'lower right')\n",
    "plt.plot([0, 1], [0, 1],'r--')\n",
    "plt.xlim([0, 1])\n",
    "plt.ylim([0, 1])\n",
    "plt.ylabel('True Positive Rate')\n",
    "plt.xlabel('False Positive Rate')\n",
    "plt.show()"
   ]
  },
  {
   "cell_type": "code",
   "execution_count": null,
   "metadata": {},
   "outputs": [],
   "source": [
    "#probability prediciton van ROC\n",
    "print(probs)"
   ]
  },
  {
   "cell_type": "code",
   "execution_count": null,
   "metadata": {},
   "outputs": [],
   "source": [
    "# Toevoegen van extra features\n",
    "# Modeloptimalisatie en Hyperparameter tuning\n",
    "# Automatisch toevoegen van hogere orde features\n",
    "\n",
    "from sklearn.preprocessing import PolynomialFeatures\n",
    "\n",
    "\n",
    "# Aanmaken van de hogere orde features\n",
    "graad = 1\n",
    "\n",
    "poly = PolynomialFeatures(graad)\n",
    "poly.fit(X_train)\n",
    "X_train_poly = poly.transform(X_train)\n",
    "X_test_poly = poly.transform(X_test)\n",
    "print('dimensie van X_train_poly: ',X_train_poly.shape)\n",
    "print('dimensie van X_test_poly: ',X_test_poly.shape)\n",
    "\n",
    "#scalen (optioneel?)\n",
    "scaler_poly = StandardScaler()\n",
    "scaler_poly.fit(X_train_poly)\n",
    "\n",
    "X_train_poly = scaler_poly.transform(X_train_poly)\n",
    "X_test_poly = scaler_poly.transform(X_test_poly)\n",
    "\n",
    "\n",
    "# met L2 regularisatie via Ridge regression\n",
    "lregmodel_poly = Ridge(alpha=20,tol=0.01,fit_intercept=True)\n",
    "lregmodel_poly.fit(X_train_poly,y_train)\n",
    "\n",
    "print('R2 score op test set via L2: ',lregmodel_poly.score(X_test_poly,y_test))\n",
    "# R2 -score via L2 op de trainingset\n",
    "print('R2 score op training set via L2: ',lregmodel_poly.score(X_train_poly,y_train))\n",
    "\n",
    "\n",
    "# met L1 regularisatie via Lasso regression\n",
    "lregmodel_poly = Lasso(alpha=0.1,tol=0.01,fit_intercept=True)\n",
    "lregmodel_poly.fit(X_train_poly,y_train)      \n",
    "  \n",
    "      \n",
    "print('R2 score op test set via L1: ',lregmodel_poly.score(X_test_poly,y_test))\n",
    "  \n",
    "# R2 -score via L1 op de trainingset\n",
    "print('R2 score op training set via L1: ',lregmodel_poly.score(X_train_poly,y_train)) "
   ]
  },
  {
   "cell_type": "code",
   "execution_count": null,
   "metadata": {},
   "outputs": [],
   "source": [
    "#R2 score op trainingsets 0.99 en 0.30(?)\n",
    "#Bij het wijzigen van C-parameter enkel verschil van accuracy (~0.1)"
   ]
  },
  {
   "cell_type": "code",
   "execution_count": null,
   "metadata": {},
   "outputs": [],
   "source": []
  }
 ],
 "metadata": {
  "kernelspec": {
   "display_name": "Python 3 (ipykernel)",
   "language": "python",
   "name": "python3"
  },
  "language_info": {
   "codemirror_mode": {
    "name": "ipython",
    "version": 3
   },
   "file_extension": ".py",
   "mimetype": "text/x-python",
   "name": "python",
   "nbconvert_exporter": "python",
   "pygments_lexer": "ipython3",
   "version": "3.10.4"
  }
 },
 "nbformat": 4,
 "nbformat_minor": 4
}
